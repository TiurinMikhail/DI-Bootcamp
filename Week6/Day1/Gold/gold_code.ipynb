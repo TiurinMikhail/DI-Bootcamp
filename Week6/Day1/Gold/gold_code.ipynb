{
 "cells": [
  {
   "cell_type": "code",
   "execution_count": 1,
   "metadata": {},
   "outputs": [],
   "source": [
    "import pandas as pd\n",
    "import numpy as np "
   ]
  },
  {
   "cell_type": "markdown",
   "metadata": {},
   "source": [
    "Exercise 1 : Minimum And Maximum Of Random Array\n"
   ]
  },
  {
   "cell_type": "markdown",
   "metadata": {},
   "source": [
    "Instructions\n"
   ]
  },
  {
   "cell_type": "markdown",
   "metadata": {},
   "source": [
    "Create a 5x5 array with random values and find the minimum and maximum values."
   ]
  },
  {
   "cell_type": "code",
   "execution_count": 16,
   "metadata": {},
   "outputs": [
    {
     "name": "stdout",
     "output_type": "stream",
     "text": [
      "Min value: 0.03685555747378866\n",
      "Max value: 0.9633407734385429\n",
      "Min: 0.04, Max: 0.96\n"
     ]
    }
   ],
   "source": [
    "array = np.random.rand(5, 5)\n",
    "\n",
    "min_value = np.min(array)\n",
    "max_value = np.max(array)\n",
    "\n",
    "print(f'Min value: {min_value}')\n",
    "print(f'Max value: {max_value}')\n",
    "print(f\"Min: {min_value:.2f}, Max: {max_value:.2f}\")"
   ]
  },
  {
   "cell_type": "markdown",
   "metadata": {},
   "source": [
    "Exercise 2 : Matrix Normalization"
   ]
  },
  {
   "cell_type": "markdown",
   "metadata": {},
   "source": [
    "Normalize a 3x3 random matrix (subtract the mean and divide by the standard deviation of the matrix)."
   ]
  },
  {
   "cell_type": "code",
   "execution_count": 18,
   "metadata": {},
   "outputs": [
    {
     "name": "stdout",
     "output_type": "stream",
     "text": [
      "Original Matrix:\n",
      "[[0.99552098 0.72336216 0.14438112]\n",
      " [0.55155086 0.85219696 0.81800884]\n",
      " [0.40753436 0.87060657 0.64179001]]\n",
      "\n",
      "Normalized Matrix:\n",
      "[[ 1.31138004  0.22426709 -2.08841853]\n",
      " [-0.46201706  0.73888567  0.60232442]\n",
      " [-1.03727752  0.81242111 -0.10156521]]\n"
     ]
    }
   ],
   "source": [
    "matrix = np.random.rand(3, 3)\n",
    "\n",
    "mean = np.mean(matrix)\n",
    "std_dev = np.std(matrix)\n",
    "\n",
    "normalized_matrix = (matrix - mean) / std_dev\n",
    "\n",
    "print(\"Original Matrix:\")\n",
    "print(matrix)\n",
    "print(\"\\nNormalized Matrix:\")\n",
    "print(normalized_matrix)"
   ]
  },
  {
   "cell_type": "markdown",
   "metadata": {},
   "source": [
    "Exercise 3 : Evenly Spaced Elements In Array\n",
    "Instructions\n",
    "Create a 1D array of 50 evenly spaced elements between 0 and 10, exclusive."
   ]
  },
  {
   "cell_type": "code",
   "execution_count": 21,
   "metadata": {},
   "outputs": [
    {
     "data": {
      "text/plain": [
       "array([0. , 0.2, 0.4, 0.6, 0.8, 1. , 1.2, 1.4, 1.6, 1.8, 2. , 2.2, 2.4,\n",
       "       2.6, 2.8, 3. , 3.2, 3.4, 3.6, 3.8, 4. , 4.2, 4.4, 4.6, 4.8, 5. ,\n",
       "       5.2, 5.4, 5.6, 5.8, 6. , 6.2, 6.4, 6.6, 6.8, 7. , 7.2, 7.4, 7.6,\n",
       "       7.8, 8. , 8.2, 8.4, 8.6, 8.8, 9. , 9.2, 9.4, 9.6, 9.8])"
      ]
     },
     "execution_count": 21,
     "metadata": {},
     "output_type": "execute_result"
    }
   ],
   "source": [
    "array = np.linspace(0, 10, num=50, endpoint=False)\n",
    "array"
   ]
  },
  {
   "cell_type": "markdown",
   "metadata": {},
   "source": [
    "Exercise 4 : Matrix Multiplication\n",
    "Instructions\n",
    "Multiply a 5x3 matrix by a 3x2 matrix (real matrix product)."
   ]
  },
  {
   "cell_type": "code",
   "execution_count": 28,
   "metadata": {},
   "outputs": [
    {
     "data": {
      "text/plain": [
       "array([[ 22,  28],\n",
       "       [ 49,  64],\n",
       "       [ 76, 100],\n",
       "       [103, 136],\n",
       "       [130, 172]])"
      ]
     },
     "execution_count": 28,
     "metadata": {},
     "output_type": "execute_result"
    }
   ],
   "source": [
    "array_5x3 = np.arange(1, 16).reshape(5, 3)\n",
    "array_3x2 = np.arange(1, 7).reshape(3, 2)\n",
    "product_matrx = np.dot(array_5x3,array_3x2)\n",
    "product_matrx"
   ]
  },
  {
   "cell_type": "code",
   "execution_count": 29,
   "metadata": {},
   "outputs": [
    {
     "name": "stdout",
     "output_type": "stream",
     "text": [
      "Matrix A (5x3):\n",
      "[[ 5 25 64]\n",
      " [83  6 17]\n",
      " [82 22 35]\n",
      " [14 11 47]\n",
      " [43 40  3]]\n",
      "\n",
      "Matrix B (3x2):\n",
      "[[45 25]\n",
      " [16 63]\n",
      " [41 99]]\n",
      "\n",
      "Result of Matrix A multiplied by Matrix B:\n",
      "[[3249 8036]\n",
      " [4528 4136]\n",
      " [5477 6901]\n",
      " [2733 5696]\n",
      " [2698 3892]]\n"
     ]
    }
   ],
   "source": [
    "array_5x3 = np.random.randint(1, 100, size=(5, 3))\n",
    "array_3x2 = np.random.randint(1, 100, size=(3, 2))\n",
    "\n",
    "product_matrix = np.dot(array_5x3, array_3x2)\n",
    "\n",
    "print(\"Matrix A (5x3):\")\n",
    "print(array_5x3)\n",
    "print(\"\\nMatrix B (3x2):\")\n",
    "print(array_3x2)\n",
    "print(\"\\nResult of Matrix A multiplied by Matrix B:\")\n",
    "print(product_matrix)"
   ]
  },
  {
   "cell_type": "code",
   "execution_count": 30,
   "metadata": {},
   "outputs": [
    {
     "name": "stdout",
     "output_type": "stream",
     "text": [
      "Matrix A (5x3):\n",
      "[[28 71 72]\n",
      " [46 41 29]\n",
      " [44 89 35]\n",
      " [87 43 85]\n",
      " [86 57 98]]\n",
      "\n",
      "Matrix B (3x2):\n",
      "[[72 17]\n",
      " [24  3]\n",
      " [90 69]]\n",
      "\n",
      "Result of Matrix A multiplied by Matrix B:\n",
      "[[10200  5657]\n",
      " [ 6906  2906]\n",
      " [ 8454  3430]\n",
      " [14946  7473]\n",
      " [16380  8395]]\n"
     ]
    }
   ],
   "source": [
    "array_5x3 = np.random.randint(1, 100, size=(5, 3))\n",
    "array_3x2 = np.random.randint(1, 100, size=(3, 2))\n",
    "\n",
    "product_matrix = array_5x3@array_3x2\n",
    "\n",
    "print(\"Matrix A (5x3):\")\n",
    "print(array_5x3)\n",
    "print(\"\\nMatrix B (3x2):\")\n",
    "print(array_3x2)\n",
    "print(\"\\nResult of Matrix A multiplied by Matrix B:\")\n",
    "print(product_matrix)"
   ]
  },
  {
   "cell_type": "markdown",
   "metadata": {},
   "source": [
    "Exercise 5"
   ]
  },
  {
   "cell_type": "code",
   "execution_count": 35,
   "metadata": {},
   "outputs": [
    {
     "name": "stdout",
     "output_type": "stream",
     "text": [
      "Matrix 1:\n",
      "[[70 73 80 57 25 40 22]\n",
      " [56 32 94 51 90 42 88]\n",
      " [80 86  7 87 71 12 67]\n",
      " [94 91 23 31 53 83 30]\n",
      " [88  5 84 61 69 40 50]\n",
      " [ 4  9 32 26 92 82 29]\n",
      " [53 15 17 76 53 85 14]]\n",
      "\n",
      "Matrix 2:\n",
      "[[83 72]\n",
      " [80 48]\n",
      " [31  9]\n",
      " [67 10]\n",
      " [90 59]\n",
      " [ 5  1]\n",
      " [91  7]]\n",
      "\n",
      "Result of Matrix 1 multiplied by Matrix 2:\n",
      "[[22401 11503]\n",
      " [29857 12892]\n",
      " [32113 15491]\n",
      " [25787 15073]\n",
      " [25355 12403]\n",
      " [15115  6981]\n",
      " [17687  8759]]\n"
     ]
    }
   ],
   "source": [
    "valid = np.random.randint(1,10)\n",
    "araay1 = np.random.randint(1,100,size=(np.random.randint(1,10),valid))\n",
    "array2 = np.random.randint(1,100,size=(valid,np.random.randint(1,10)))\n",
    "result = araay1@array2\n",
    "\n",
    "print(f\"Matrix 1:\")\n",
    "print(araay1)\n",
    "print(\"\\nMatrix 2:\")\n",
    "print(array2)\n",
    "print(\"\\nResult of Matrix 1 multiplied by Matrix 2:\")\n",
    "print(result)"
   ]
  }
 ],
 "metadata": {
  "kernelspec": {
   "display_name": "my_env",
   "language": "python",
   "name": "python3"
  },
  "language_info": {
   "codemirror_mode": {
    "name": "ipython",
    "version": 3
   },
   "file_extension": ".py",
   "mimetype": "text/x-python",
   "name": "python",
   "nbconvert_exporter": "python",
   "pygments_lexer": "ipython3",
   "version": "3.11.5"
  }
 },
 "nbformat": 4,
 "nbformat_minor": 2
}
