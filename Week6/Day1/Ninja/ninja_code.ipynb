{
 "cells": [
  {
   "cell_type": "code",
   "execution_count": 1,
   "metadata": {},
   "outputs": [],
   "source": [
    "import pandas as pd\n",
    "import numpy as np "
   ]
  },
  {
   "cell_type": "markdown",
   "metadata": {},
   "source": [
    "Exercise 1 : Maximum Value Replacement In Matrix"
   ]
  },
  {
   "cell_type": "markdown",
   "metadata": {},
   "source": [
    "Create a random 5x5 matrix and replace the maximum value by 0."
   ]
  },
  {
   "cell_type": "code",
   "execution_count": 5,
   "metadata": {},
   "outputs": [
    {
     "name": "stdout",
     "output_type": "stream",
     "text": [
      "Original matrix:\n",
      "[[82 55 68 20 47]\n",
      " [43 53 87 39 41]\n",
      " [18 38 64 98 31]\n",
      " [56 67 10 19 68]\n",
      " [53 71 30 56 61]]\n",
      "Max:98\n",
      "\n",
      "Matrix after replacing the maximum value with 0:\n",
      "[[82 55 68 20 47]\n",
      " [43 53 87 39 41]\n",
      " [18 38 64  0 31]\n",
      " [56 67 10 19 68]\n",
      " [53 71 30 56 61]]\n"
     ]
    }
   ],
   "source": [
    "import numpy as np\n",
    "\n",
    "# Create a random 5x5 matrix\n",
    "matrix = np.random.randint(1,100,size=(5,5))\n",
    "print(\"Original matrix:\")\n",
    "print(matrix)\n",
    "max_value = np.max(matrix)\n",
    "print(f'Max:{max_value}')\n",
    "matrix[matrix == max_value] = 0\n",
    "print(\"\\nMatrix after replacing the maximum value with 0:\")\n",
    "print(matrix)"
   ]
  },
  {
   "cell_type": "markdown",
   "metadata": {},
   "source": [
    "Exercise 2 : Finding Common Values In Arrays"
   ]
  },
  {
   "cell_type": "markdown",
   "metadata": {},
   "source": [
    "Find the common values between two random arrays of size 5."
   ]
  },
  {
   "cell_type": "code",
   "execution_count": 10,
   "metadata": {},
   "outputs": [
    {
     "name": "stdout",
     "output_type": "stream",
     "text": [
      "Matrix 1 : [[52  5 27 14 44]\n",
      " [64 38 22 76 49]\n",
      " [72 16 63 18 85]\n",
      " [56 12 11 65 84]\n",
      " [37 15 89 72 70]]\n",
      "\n",
      "Matrix 2 : [[16 90 63 86 16]\n",
      " [95 82 19  6  7]\n",
      " [57 79 56 89 53]\n",
      " [82 12  2 85 93]\n",
      " [15 71 18 10 41]]\n",
      "\n",
      "[12]\n"
     ]
    }
   ],
   "source": [
    "matrix1 = np.random.randint(1,100,size=(5,5))\n",
    "matrix2 = np.random.randint(1,100,size=(5,5))\n",
    "print(f'Matrix 1 : {matrix1}\\n')\n",
    "print(f'Matrix 2 : {matrix2}\\n')\n",
    "common_values = matrix1[matrix1==matrix2]\n",
    "print(common_values)"
   ]
  },
  {
   "cell_type": "markdown",
   "metadata": {},
   "source": [
    "Exercise 3 : Sorting Array In Ascending And Descending Order"
   ]
  },
  {
   "cell_type": "markdown",
   "metadata": {},
   "source": [
    "Create a random 1D array of size 10 and sort it in ascending and then in descending order."
   ]
  },
  {
   "cell_type": "code",
   "execution_count": 11,
   "metadata": {},
   "outputs": [
    {
     "data": {
      "text/plain": [
       "array([63, 56, 43, 42, 63, 62, 34, 61, 71, 64])"
      ]
     },
     "execution_count": 11,
     "metadata": {},
     "output_type": "execute_result"
    }
   ],
   "source": [
    "array_10 = np.random.randint(1,100,size=(10))\n",
    "array_10"
   ]
  },
  {
   "cell_type": "code",
   "execution_count": 13,
   "metadata": {},
   "outputs": [
    {
     "name": "stdout",
     "output_type": "stream",
     "text": [
      "Ascending: [34 42 43 56 61 62 63 63 64 71]\n",
      "Descending: [71 64 63 63 62 61 56 43 42 34]\n"
     ]
    }
   ],
   "source": [
    "ascending = np.sort(array_10)\n",
    "descending = ascending[::-1]\n",
    "\n",
    "print(f'Ascending: {ascending}')\n",
    "print(f'Descending: {descending}')"
   ]
  },
  {
   "cell_type": "markdown",
   "metadata": {},
   "source": [
    "Exercise 4 : Matrix Rank Determination\n",
    "Instructions\n",
    "Generate a random 4x4 matrix and find the rank of the matrix."
   ]
  },
  {
   "cell_type": "code",
   "execution_count": 14,
   "metadata": {},
   "outputs": [],
   "source": [
    "array_4x4 = np.random.randint(1,100,size=(4,4))"
   ]
  },
  {
   "cell_type": "code",
   "execution_count": 16,
   "metadata": {},
   "outputs": [
    {
     "name": "stdout",
     "output_type": "stream",
     "text": [
      "Rank of the Matrix: 4\n"
     ]
    }
   ],
   "source": [
    "rank = np.linalg.matrix_rank(array_4x4)\n",
    "\n",
    "print(\"Rank of the Matrix:\", rank)"
   ]
  },
  {
   "cell_type": "markdown",
   "metadata": {},
   "source": [
    "Exercise 5 : Creating Border Array"
   ]
  },
  {
   "cell_type": "markdown",
   "metadata": {},
   "source": [
    "Create a 2D array with 1 on the border and 0 inside."
   ]
  },
  {
   "cell_type": "code",
   "execution_count": 24,
   "metadata": {},
   "outputs": [
    {
     "data": {
      "text/plain": [
       "array([[0, 0, 0, 0, 0],\n",
       "       [0, 0, 0, 0, 0],\n",
       "       [0, 0, 0, 0, 0],\n",
       "       [0, 0, 0, 0, 0],\n",
       "       [0, 0, 0, 0, 0]])"
      ]
     },
     "execution_count": 24,
     "metadata": {},
     "output_type": "execute_result"
    }
   ],
   "source": [
    "array = np.array([0 for _ in range(25)]).reshape(5,5)\n",
    "array"
   ]
  },
  {
   "cell_type": "code",
   "execution_count": 25,
   "metadata": {},
   "outputs": [],
   "source": [
    "array[0] = 1\n",
    "array[-1] = 1\n",
    "array[:,0] = 1\n",
    "array[:,-1] = 1"
   ]
  },
  {
   "cell_type": "code",
   "execution_count": 26,
   "metadata": {},
   "outputs": [
    {
     "data": {
      "text/plain": [
       "array([[1, 1, 1, 1, 1],\n",
       "       [1, 0, 0, 0, 1],\n",
       "       [1, 0, 0, 0, 1],\n",
       "       [1, 0, 0, 0, 1],\n",
       "       [1, 1, 1, 1, 1]])"
      ]
     },
     "execution_count": 26,
     "metadata": {},
     "output_type": "execute_result"
    }
   ],
   "source": [
    "array\n"
   ]
  },
  {
   "cell_type": "code",
   "execution_count": 27,
   "metadata": {},
   "outputs": [
    {
     "name": "stdout",
     "output_type": "stream",
     "text": [
      "[[1. 1. 1. 1. 1.]\n",
      " [1. 0. 0. 0. 1.]\n",
      " [1. 0. 0. 0. 1.]\n",
      " [1. 0. 0. 0. 1.]\n",
      " [1. 1. 1. 1. 1.]]\n"
     ]
    }
   ],
   "source": [
    "array = np.ones((5, 5))\n",
    "\n",
    "# Fill the inside of the array with 0s\n",
    "array[1:-1, 1:-1] = 0\n",
    "\n",
    "print(array)"
   ]
  }
 ],
 "metadata": {
  "kernelspec": {
   "display_name": "my_env",
   "language": "python",
   "name": "python3"
  },
  "language_info": {
   "codemirror_mode": {
    "name": "ipython",
    "version": 3
   },
   "file_extension": ".py",
   "mimetype": "text/x-python",
   "name": "python",
   "nbconvert_exporter": "python",
   "pygments_lexer": "ipython3",
   "version": "3.11.5"
  }
 },
 "nbformat": 4,
 "nbformat_minor": 2
}
