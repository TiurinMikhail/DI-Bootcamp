{
 "cells": [
  {
   "cell_type": "code",
   "execution_count": 1,
   "id": "initial_id",
   "metadata": {
    "collapsed": true,
    "ExecuteTime": {
     "end_time": "2024-03-25T10:02:33.339596Z",
     "start_time": "2024-03-25T10:02:32.392823Z"
    }
   },
   "outputs": [],
   "source": [
    "import numpy as np\n",
    "from faker import Faker\n",
    "import pandas as pd"
   ]
  },
  {
   "cell_type": "code",
   "outputs": [],
   "source": [
    "fake = Faker()\n",
    "# Generating synthetic names and ages\n",
    "data = [(fake.name(), np.random.randint(18, 70)) for _ in range(100)]"
   ],
   "metadata": {
    "collapsed": false,
    "ExecuteTime": {
     "end_time": "2024-03-25T10:02:34.353779Z",
     "start_time": "2024-03-25T10:02:34.244679Z"
    }
   },
   "id": "4550692d2f78ccff",
   "execution_count": 2
  },
  {
   "cell_type": "code",
   "outputs": [
    {
     "name": "stdout",
     "output_type": "stream",
     "text": [
      "    Product  Sale Amount        Date  Customer Age\n",
      "0  economic          393  2024-02-19            28\n",
      "1   himself          274  2024-02-22            29\n",
      "2     occur          128  2024-01-19            58\n",
      "3    others          437  2024-01-18            32\n",
      "4      give          252  2024-03-06            69\n"
     ]
    }
   ],
   "source": [
    "sales_data = [(fake.word(), np.random.randint(10, 500), fake.date_this_year(), np.random.randint(18, 70)) for _ in range(500)]\n",
    "sales_df = pd.DataFrame(sales_data, columns=['Product', 'Sale Amount', 'Date', 'Customer Age'])\n",
    "\n",
    "# Display the first few rows of the DataFrame\n",
    "print(sales_df.head())"
   ],
   "metadata": {
    "collapsed": false,
    "ExecuteTime": {
     "end_time": "2024-03-25T10:04:19.615485Z",
     "start_time": "2024-03-25T10:04:19.566655Z"
    }
   },
   "id": "a7faece516cb4fa1",
   "execution_count": 3
  },
  {
   "cell_type": "code",
   "outputs": [
    {
     "data": {
      "text/plain": "[('economic', 393, datetime.date(2024, 2, 19), 28),\n ('himself', 274, datetime.date(2024, 2, 22), 29),\n ('occur', 128, datetime.date(2024, 1, 19), 58),\n ('others', 437, datetime.date(2024, 1, 18), 32),\n ('give', 252, datetime.date(2024, 3, 6), 69),\n ('weight', 370, datetime.date(2024, 2, 15), 39),\n ('new', 279, datetime.date(2024, 2, 7), 27),\n ('dream', 108, datetime.date(2024, 1, 19), 20),\n ('management', 131, datetime.date(2024, 2, 23), 27),\n ('service', 51, datetime.date(2024, 3, 9), 50),\n ('memory', 67, datetime.date(2024, 1, 8), 24),\n ('true', 147, datetime.date(2024, 1, 19), 50),\n ('with', 175, datetime.date(2024, 3, 14), 19),\n ('and', 138, datetime.date(2024, 3, 11), 40),\n ('arrive', 428, datetime.date(2024, 2, 13), 21),\n ('why', 26, datetime.date(2024, 1, 3), 20),\n ('power', 237, datetime.date(2024, 2, 9), 41),\n ('buy', 191, datetime.date(2024, 2, 22), 42),\n ('after', 79, datetime.date(2024, 1, 17), 31),\n ('share', 353, datetime.date(2024, 1, 1), 33),\n ('write', 468, datetime.date(2024, 1, 29), 30),\n ('daughter', 309, datetime.date(2024, 3, 12), 43),\n ('and', 136, datetime.date(2024, 2, 18), 64),\n ('spring', 478, datetime.date(2024, 1, 6), 26),\n ('animal', 440, datetime.date(2024, 3, 21), 58),\n ('be', 445, datetime.date(2024, 1, 20), 20),\n ('country', 401, datetime.date(2024, 2, 5), 51),\n ('single', 23, datetime.date(2024, 3, 10), 65),\n ('strong', 116, datetime.date(2024, 3, 4), 64),\n ('what', 134, datetime.date(2024, 2, 18), 65),\n ('democratic', 48, datetime.date(2024, 1, 2), 55),\n ('represent', 102, datetime.date(2024, 2, 28), 28),\n ('magazine', 91, datetime.date(2024, 1, 5), 24),\n ('mouth', 337, datetime.date(2024, 3, 22), 55),\n ('probably', 383, datetime.date(2024, 3, 6), 66),\n ('above', 248, datetime.date(2024, 1, 27), 56),\n ('soldier', 358, datetime.date(2024, 1, 22), 56),\n ('near', 434, datetime.date(2024, 2, 22), 39),\n ('hair', 49, datetime.date(2024, 3, 16), 52),\n ('consider', 95, datetime.date(2024, 3, 12), 51),\n ('available', 116, datetime.date(2024, 2, 6), 32),\n ('for', 442, datetime.date(2024, 1, 5), 21),\n ('let', 450, datetime.date(2024, 3, 2), 64),\n ('institution', 489, datetime.date(2024, 3, 6), 64),\n ('song', 60, datetime.date(2024, 1, 17), 42),\n ('travel', 362, datetime.date(2024, 1, 12), 21),\n ('hope', 437, datetime.date(2024, 2, 9), 31),\n ('hard', 373, datetime.date(2024, 2, 12), 55),\n ('run', 309, datetime.date(2024, 2, 10), 43),\n ('put', 321, datetime.date(2024, 1, 11), 33),\n ('media', 200, datetime.date(2024, 2, 10), 20),\n ('assume', 352, datetime.date(2024, 1, 10), 31),\n ('of', 199, datetime.date(2024, 3, 10), 68),\n ('future', 279, datetime.date(2024, 3, 10), 60),\n ('series', 46, datetime.date(2024, 2, 16), 60),\n ('air', 310, datetime.date(2024, 3, 8), 52),\n ('fear', 249, datetime.date(2024, 2, 2), 49),\n ('black', 356, datetime.date(2024, 1, 21), 57),\n ('challenge', 424, datetime.date(2024, 3, 5), 55),\n ('situation', 460, datetime.date(2024, 2, 20), 30),\n ('necessary', 404, datetime.date(2024, 1, 27), 49),\n ('information', 312, datetime.date(2024, 1, 15), 41),\n ('likely', 364, datetime.date(2024, 1, 3), 38),\n ('item', 377, datetime.date(2024, 1, 28), 64),\n ('play', 428, datetime.date(2024, 3, 15), 33),\n ('try', 484, datetime.date(2024, 2, 4), 46),\n ('dog', 208, datetime.date(2024, 2, 21), 56),\n ('game', 116, datetime.date(2024, 2, 9), 34),\n ('want', 294, datetime.date(2024, 1, 6), 30),\n ('call', 407, datetime.date(2024, 1, 11), 68),\n ('city', 105, datetime.date(2024, 2, 11), 32),\n ('garden', 320, datetime.date(2024, 2, 11), 58),\n ('write', 220, datetime.date(2024, 3, 9), 52),\n ('enter', 26, datetime.date(2024, 1, 18), 45),\n ('whether', 155, datetime.date(2024, 3, 6), 30),\n ('successful', 20, datetime.date(2024, 1, 21), 56),\n ('require', 376, datetime.date(2024, 2, 22), 56),\n ('fear', 283, datetime.date(2024, 1, 13), 39),\n ('before', 28, datetime.date(2024, 3, 24), 43),\n ('nothing', 413, datetime.date(2024, 1, 26), 55),\n ('enjoy', 499, datetime.date(2024, 1, 27), 18),\n ('but', 384, datetime.date(2024, 3, 14), 59),\n ('beautiful', 367, datetime.date(2024, 1, 28), 26),\n ('natural', 376, datetime.date(2024, 1, 15), 50),\n ('develop', 179, datetime.date(2024, 1, 16), 33),\n ('language', 293, datetime.date(2024, 1, 29), 39),\n ('move', 366, datetime.date(2024, 2, 27), 30),\n ('model', 125, datetime.date(2024, 3, 7), 53),\n ('support', 94, datetime.date(2024, 2, 8), 63),\n ('would', 218, datetime.date(2024, 2, 12), 39),\n ('century', 373, datetime.date(2024, 3, 2), 20),\n ('me', 438, datetime.date(2024, 1, 29), 54),\n ('play', 145, datetime.date(2024, 2, 13), 19),\n ('page', 480, datetime.date(2024, 3, 14), 49),\n ('student', 161, datetime.date(2024, 3, 17), 30),\n ('guess', 103, datetime.date(2024, 3, 24), 66),\n ('happen', 383, datetime.date(2024, 1, 6), 67),\n ('culture', 257, datetime.date(2024, 1, 17), 53),\n ('bank', 179, datetime.date(2024, 1, 29), 60),\n ('teacher', 347, datetime.date(2024, 1, 25), 56),\n ('let', 279, datetime.date(2024, 3, 4), 18),\n ('tough', 143, datetime.date(2024, 3, 9), 63),\n ('interview', 166, datetime.date(2024, 3, 5), 63),\n ('and', 22, datetime.date(2024, 3, 20), 61),\n ('look', 487, datetime.date(2024, 1, 9), 58),\n ('his', 144, datetime.date(2024, 2, 8), 47),\n ('Mr', 499, datetime.date(2024, 1, 25), 32),\n ('piece', 177, datetime.date(2024, 1, 29), 46),\n ('lawyer', 177, datetime.date(2024, 3, 2), 67),\n ('right', 222, datetime.date(2024, 1, 18), 35),\n ('yet', 407, datetime.date(2024, 3, 17), 24),\n ('science', 327, datetime.date(2024, 2, 6), 43),\n ('baby', 70, datetime.date(2024, 3, 8), 60),\n ('physical', 81, datetime.date(2024, 1, 21), 21),\n ('early', 279, datetime.date(2024, 2, 28), 35),\n ('baby', 141, datetime.date(2024, 1, 14), 35),\n ('or', 256, datetime.date(2024, 3, 19), 38),\n ('kid', 377, datetime.date(2024, 3, 6), 43),\n ('student', 375, datetime.date(2024, 2, 9), 35),\n ('amount', 351, datetime.date(2024, 2, 22), 31),\n ('appear', 415, datetime.date(2024, 2, 25), 40),\n ('who', 84, datetime.date(2024, 2, 13), 54),\n ('hard', 460, datetime.date(2024, 1, 20), 69),\n ('kid', 49, datetime.date(2024, 2, 13), 54),\n ('reason', 329, datetime.date(2024, 2, 12), 43),\n ('mission', 64, datetime.date(2024, 1, 12), 29),\n ('executive', 323, datetime.date(2024, 1, 6), 60),\n ('it', 315, datetime.date(2024, 1, 17), 46),\n ('into', 228, datetime.date(2024, 1, 13), 60),\n ('join', 109, datetime.date(2024, 2, 5), 23),\n ('inside', 161, datetime.date(2024, 2, 12), 30),\n ('gun', 306, datetime.date(2024, 2, 8), 52),\n ('coach', 281, datetime.date(2024, 1, 2), 57),\n ('item', 59, datetime.date(2024, 1, 22), 67),\n ('throw', 221, datetime.date(2024, 2, 8), 53),\n ('also', 253, datetime.date(2024, 3, 18), 23),\n ('child', 39, datetime.date(2024, 1, 28), 44),\n ('cup', 461, datetime.date(2024, 3, 19), 29),\n ('explain', 172, datetime.date(2024, 1, 14), 59),\n ('above', 42, datetime.date(2024, 3, 19), 28),\n ('single', 123, datetime.date(2024, 3, 23), 18),\n ('blue', 120, datetime.date(2024, 3, 15), 38),\n ('quickly', 27, datetime.date(2024, 3, 19), 49),\n ('show', 73, datetime.date(2024, 3, 13), 68),\n ('person', 287, datetime.date(2024, 3, 6), 48),\n ('special', 97, datetime.date(2024, 3, 6), 69),\n ('program', 93, datetime.date(2024, 3, 8), 19),\n ('simply', 357, datetime.date(2024, 1, 5), 66),\n ('arrive', 185, datetime.date(2024, 3, 22), 36),\n ('best', 350, datetime.date(2024, 2, 3), 30),\n ('particularly', 340, datetime.date(2024, 3, 6), 43),\n ('foreign', 433, datetime.date(2024, 1, 3), 64),\n ('off', 170, datetime.date(2024, 1, 31), 58),\n ('daughter', 50, datetime.date(2024, 2, 11), 46),\n ('either', 489, datetime.date(2024, 3, 18), 36),\n ('TV', 21, datetime.date(2024, 3, 17), 36),\n ('able', 443, datetime.date(2024, 3, 6), 26),\n ('such', 35, datetime.date(2024, 1, 21), 52),\n ('in', 288, datetime.date(2024, 1, 26), 63),\n ('rock', 279, datetime.date(2024, 2, 13), 23),\n ('pressure', 84, datetime.date(2024, 2, 24), 56),\n ('read', 255, datetime.date(2024, 1, 12), 63),\n ('kid', 211, datetime.date(2024, 2, 20), 19),\n ('course', 372, datetime.date(2024, 2, 12), 31),\n ('conference', 85, datetime.date(2024, 2, 28), 49),\n ('long', 301, datetime.date(2024, 2, 19), 43),\n ('stay', 60, datetime.date(2024, 3, 8), 55),\n ('show', 201, datetime.date(2024, 3, 12), 53),\n ('success', 437, datetime.date(2024, 1, 1), 37),\n ('base', 250, datetime.date(2024, 1, 16), 55),\n ('west', 203, datetime.date(2024, 1, 22), 20),\n ('indicate', 171, datetime.date(2024, 3, 1), 41),\n ('get', 229, datetime.date(2024, 1, 17), 39),\n ('region', 291, datetime.date(2024, 3, 2), 66),\n ('blue', 12, datetime.date(2024, 2, 22), 49),\n ('interview', 465, datetime.date(2024, 2, 3), 61),\n ('fine', 199, datetime.date(2024, 1, 12), 20),\n ('memory', 426, datetime.date(2024, 1, 17), 58),\n ('here', 188, datetime.date(2024, 3, 18), 65),\n ('effect', 390, datetime.date(2024, 3, 11), 41),\n ('world', 85, datetime.date(2024, 3, 9), 31),\n ('before', 388, datetime.date(2024, 3, 14), 42),\n ('teach', 53, datetime.date(2024, 1, 29), 38),\n ('life', 197, datetime.date(2024, 3, 16), 34),\n ('minute', 86, datetime.date(2024, 2, 25), 36),\n ('treatment', 451, datetime.date(2024, 1, 6), 41),\n ('take', 127, datetime.date(2024, 1, 13), 62),\n ('success', 210, datetime.date(2024, 1, 13), 44),\n ('believe', 112, datetime.date(2024, 2, 4), 18),\n ('few', 246, datetime.date(2024, 1, 2), 27),\n ('have', 456, datetime.date(2024, 1, 18), 47),\n ('offer', 146, datetime.date(2024, 1, 19), 57),\n ('pay', 325, datetime.date(2024, 3, 5), 55),\n ('red', 268, datetime.date(2024, 1, 17), 63),\n ('buy', 467, datetime.date(2024, 3, 16), 31),\n ('call', 228, datetime.date(2024, 3, 6), 19),\n ('high', 480, datetime.date(2024, 1, 27), 52),\n ('home', 158, datetime.date(2024, 3, 21), 26),\n ('check', 380, datetime.date(2024, 2, 10), 36),\n ('teacher', 309, datetime.date(2024, 1, 28), 29),\n ('event', 327, datetime.date(2024, 3, 8), 41),\n ('right', 265, datetime.date(2024, 1, 10), 51),\n ('state', 398, datetime.date(2024, 1, 22), 67),\n ('sort', 403, datetime.date(2024, 3, 9), 29),\n ('box', 458, datetime.date(2024, 3, 23), 30),\n ('drop', 270, datetime.date(2024, 2, 12), 28),\n ('something', 356, datetime.date(2024, 3, 14), 19),\n ('finally', 455, datetime.date(2024, 2, 10), 40),\n ('others', 146, datetime.date(2024, 3, 5), 26),\n ('health', 90, datetime.date(2024, 1, 15), 26),\n ('seat', 447, datetime.date(2024, 3, 17), 31),\n ('special', 488, datetime.date(2024, 2, 24), 51),\n ('contain', 60, datetime.date(2024, 1, 19), 41),\n ('kind', 397, datetime.date(2024, 1, 24), 19),\n ('security', 170, datetime.date(2024, 3, 9), 57),\n ('technology', 219, datetime.date(2024, 3, 6), 46),\n ('create', 296, datetime.date(2024, 1, 28), 50),\n ('night', 135, datetime.date(2024, 3, 10), 62),\n ('ready', 159, datetime.date(2024, 2, 25), 69),\n ('popular', 349, datetime.date(2024, 3, 13), 54),\n ('explain', 176, datetime.date(2024, 1, 31), 29),\n ('article', 229, datetime.date(2024, 1, 1), 22),\n ('so', 474, datetime.date(2024, 2, 14), 28),\n ('degree', 208, datetime.date(2024, 1, 25), 39),\n ('prepare', 440, datetime.date(2024, 3, 8), 35),\n ('color', 369, datetime.date(2024, 2, 3), 45),\n ('ready', 339, datetime.date(2024, 1, 18), 55),\n ('play', 199, datetime.date(2024, 1, 14), 68),\n ('field', 401, datetime.date(2024, 3, 6), 22),\n ('decision', 261, datetime.date(2024, 1, 14), 37),\n ('ball', 120, datetime.date(2024, 3, 7), 60),\n ('where', 42, datetime.date(2024, 2, 12), 53),\n ('far', 445, datetime.date(2024, 1, 26), 39),\n ('world', 43, datetime.date(2024, 1, 10), 33),\n ('everyone', 468, datetime.date(2024, 3, 2), 26),\n ('score', 419, datetime.date(2024, 2, 3), 45),\n ('authority', 318, datetime.date(2024, 2, 1), 45),\n ('others', 119, datetime.date(2024, 3, 8), 20),\n ('civil', 499, datetime.date(2024, 1, 24), 21),\n ('member', 232, datetime.date(2024, 3, 15), 29),\n ('teacher', 54, datetime.date(2024, 3, 4), 41),\n ('letter', 209, datetime.date(2024, 1, 17), 31),\n ('pattern', 248, datetime.date(2024, 1, 6), 64),\n ('receive', 470, datetime.date(2024, 2, 8), 63),\n ('among', 257, datetime.date(2024, 3, 19), 54),\n ('boy', 421, datetime.date(2024, 1, 21), 67),\n ('ever', 138, datetime.date(2024, 2, 6), 25),\n ('your', 438, datetime.date(2024, 1, 13), 39),\n ('low', 165, datetime.date(2024, 2, 27), 57),\n ('attack', 283, datetime.date(2024, 2, 12), 36),\n ('career', 420, datetime.date(2024, 3, 9), 22),\n ('improve', 416, datetime.date(2024, 2, 5), 41),\n ('alone', 90, datetime.date(2024, 3, 8), 37),\n ('way', 499, datetime.date(2024, 1, 17), 62),\n ('or', 487, datetime.date(2024, 2, 19), 44),\n ('include', 40, datetime.date(2024, 2, 17), 61),\n ('study', 485, datetime.date(2024, 3, 1), 42),\n ('go', 55, datetime.date(2024, 2, 5), 41),\n ('effort', 119, datetime.date(2024, 1, 10), 39),\n ('discover', 367, datetime.date(2024, 3, 14), 57),\n ('service', 454, datetime.date(2024, 1, 12), 22),\n ('operation', 159, datetime.date(2024, 2, 16), 25),\n ('time', 152, datetime.date(2024, 2, 12), 37),\n ('community', 410, datetime.date(2024, 2, 23), 35),\n ('front', 47, datetime.date(2024, 3, 12), 64),\n ('mention', 178, datetime.date(2024, 2, 9), 45),\n ('performance', 179, datetime.date(2024, 1, 28), 19),\n ('along', 76, datetime.date(2024, 3, 6), 31),\n ('ability', 369, datetime.date(2024, 2, 22), 61),\n ('from', 499, datetime.date(2024, 1, 17), 24),\n ('shoulder', 70, datetime.date(2024, 3, 13), 47),\n ('second', 306, datetime.date(2024, 1, 10), 42),\n ('so', 363, datetime.date(2024, 2, 16), 50),\n ('edge', 180, datetime.date(2024, 3, 10), 40),\n ('fish', 143, datetime.date(2024, 2, 3), 32),\n ('security', 93, datetime.date(2024, 1, 20), 35),\n ('pattern', 279, datetime.date(2024, 3, 1), 36),\n ('trip', 355, datetime.date(2024, 1, 15), 33),\n ('he', 28, datetime.date(2024, 1, 23), 25),\n ('ability', 399, datetime.date(2024, 2, 2), 25),\n ('common', 286, datetime.date(2024, 3, 7), 30),\n ('bad', 124, datetime.date(2024, 3, 18), 65),\n ('human', 390, datetime.date(2024, 2, 15), 19),\n ('health', 73, datetime.date(2024, 3, 23), 56),\n ('side', 312, datetime.date(2024, 2, 20), 45),\n ('may', 148, datetime.date(2024, 2, 6), 41),\n ('seven', 273, datetime.date(2024, 1, 3), 59),\n ('program', 66, datetime.date(2024, 1, 4), 64),\n ('month', 323, datetime.date(2024, 3, 18), 19),\n ('people', 285, datetime.date(2024, 1, 8), 49),\n ('life', 192, datetime.date(2024, 2, 8), 36),\n ('book', 223, datetime.date(2024, 3, 23), 50),\n ('look', 210, datetime.date(2024, 1, 27), 55),\n ('soldier', 468, datetime.date(2024, 1, 30), 19),\n ('according', 299, datetime.date(2024, 3, 17), 45),\n ('relate', 121, datetime.date(2024, 2, 17), 55),\n ('interest', 406, datetime.date(2024, 2, 14), 37),\n ('memory', 431, datetime.date(2024, 2, 7), 24),\n ('cut', 482, datetime.date(2024, 3, 21), 53),\n ('practice', 364, datetime.date(2024, 2, 1), 31),\n ('cell', 129, datetime.date(2024, 1, 5), 41),\n ('try', 273, datetime.date(2024, 2, 27), 48),\n ('agree', 161, datetime.date(2024, 1, 19), 39),\n ('most', 114, datetime.date(2024, 1, 26), 66),\n ('serious', 407, datetime.date(2024, 2, 18), 28),\n ('piece', 352, datetime.date(2024, 2, 5), 69),\n ('perform', 489, datetime.date(2024, 2, 20), 52),\n ('movement', 297, datetime.date(2024, 1, 28), 28),\n ('form', 446, datetime.date(2024, 3, 1), 39),\n ('popular', 376, datetime.date(2024, 2, 11), 42),\n ('stock', 159, datetime.date(2024, 2, 5), 23),\n ('fly', 238, datetime.date(2024, 3, 24), 56),\n ('be', 389, datetime.date(2024, 2, 6), 47),\n ('surface', 229, datetime.date(2024, 3, 1), 45),\n ('buy', 116, datetime.date(2024, 3, 12), 32),\n ('article', 189, datetime.date(2024, 2, 26), 39),\n ('mother', 384, datetime.date(2024, 2, 5), 45),\n ('what', 422, datetime.date(2024, 1, 9), 27),\n ('chance', 29, datetime.date(2024, 3, 14), 42),\n ('last', 161, datetime.date(2024, 1, 31), 33),\n ('long', 75, datetime.date(2024, 1, 11), 24),\n ('letter', 90, datetime.date(2024, 1, 7), 51),\n ('notice', 249, datetime.date(2024, 3, 17), 33),\n ('realize', 85, datetime.date(2024, 2, 3), 49),\n ('manage', 320, datetime.date(2024, 2, 5), 42),\n ('level', 371, datetime.date(2024, 3, 15), 61),\n ('spring', 99, datetime.date(2024, 3, 18), 44),\n ('bar', 299, datetime.date(2024, 1, 10), 62),\n ('take', 107, datetime.date(2024, 3, 20), 63),\n ('future', 142, datetime.date(2024, 3, 3), 68),\n ('management', 93, datetime.date(2024, 3, 8), 28),\n ('into', 169, datetime.date(2024, 1, 28), 65),\n ('surface', 206, datetime.date(2024, 1, 21), 60),\n ('office', 246, datetime.date(2024, 3, 5), 51),\n ('defense', 332, datetime.date(2024, 1, 24), 44),\n ('water', 453, datetime.date(2024, 1, 20), 41),\n ('smile', 137, datetime.date(2024, 2, 21), 62),\n ('bar', 265, datetime.date(2024, 1, 19), 34),\n ('deep', 193, datetime.date(2024, 3, 16), 60),\n ('ever', 131, datetime.date(2024, 2, 26), 56),\n ('participant', 164, datetime.date(2024, 1, 27), 56),\n ('and', 453, datetime.date(2024, 3, 13), 18),\n ('Democrat', 485, datetime.date(2024, 2, 15), 54),\n ('section', 122, datetime.date(2024, 1, 21), 60),\n ('art', 358, datetime.date(2024, 2, 4), 69),\n ('economic', 298, datetime.date(2024, 1, 13), 33),\n ('our', 490, datetime.date(2024, 2, 4), 28),\n ('reach', 313, datetime.date(2024, 2, 24), 50),\n ('those', 62, datetime.date(2024, 2, 21), 65),\n ('miss', 265, datetime.date(2024, 3, 5), 40),\n ('relate', 55, datetime.date(2024, 1, 5), 44),\n ('sing', 345, datetime.date(2024, 1, 18), 27),\n ('product', 271, datetime.date(2024, 1, 13), 33),\n ('girl', 197, datetime.date(2024, 3, 6), 52),\n ('begin', 219, datetime.date(2024, 2, 7), 56),\n ('think', 262, datetime.date(2024, 1, 8), 65),\n ('group', 305, datetime.date(2024, 1, 19), 66),\n ('leave', 480, datetime.date(2024, 1, 14), 39),\n ('citizen', 435, datetime.date(2024, 2, 8), 63),\n ('already', 55, datetime.date(2024, 2, 26), 32),\n ('security', 42, datetime.date(2024, 3, 7), 62),\n ('court', 252, datetime.date(2024, 2, 23), 43),\n ('fund', 256, datetime.date(2024, 3, 6), 31),\n ('population', 306, datetime.date(2024, 1, 17), 69),\n ('almost', 413, datetime.date(2024, 1, 26), 36),\n ('team', 188, datetime.date(2024, 1, 24), 50),\n ('house', 366, datetime.date(2024, 3, 21), 53),\n ('mind', 321, datetime.date(2024, 3, 9), 69),\n ('little', 94, datetime.date(2024, 1, 31), 58),\n ('light', 116, datetime.date(2024, 1, 10), 40),\n ('finish', 130, datetime.date(2024, 3, 11), 65),\n ('poor', 231, datetime.date(2024, 1, 23), 20),\n ('wall', 263, datetime.date(2024, 1, 26), 55),\n ('church', 233, datetime.date(2024, 3, 18), 30),\n ('interest', 423, datetime.date(2024, 1, 31), 54),\n ('network', 197, datetime.date(2024, 3, 5), 41),\n ('direction', 135, datetime.date(2024, 3, 9), 22),\n ('more', 345, datetime.date(2024, 2, 9), 23),\n ('record', 302, datetime.date(2024, 1, 19), 59),\n ('no', 100, datetime.date(2024, 3, 6), 40),\n ('daughter', 203, datetime.date(2024, 3, 2), 36),\n ('claim', 403, datetime.date(2024, 2, 24), 66),\n ('role', 271, datetime.date(2024, 2, 29), 38),\n ('watch', 402, datetime.date(2024, 3, 6), 44),\n ('each', 212, datetime.date(2024, 3, 6), 33),\n ('ask', 295, datetime.date(2024, 1, 28), 54),\n ('husband', 350, datetime.date(2024, 2, 27), 32),\n ('our', 485, datetime.date(2024, 2, 16), 46),\n ('themselves', 36, datetime.date(2024, 1, 24), 26),\n ('speak', 465, datetime.date(2024, 1, 23), 51),\n ('likely', 246, datetime.date(2024, 2, 15), 44),\n ('nation', 140, datetime.date(2024, 2, 12), 36),\n ('win', 115, datetime.date(2024, 1, 20), 59),\n ('she', 284, datetime.date(2024, 3, 5), 46),\n ('to', 315, datetime.date(2024, 1, 6), 30),\n ('if', 374, datetime.date(2024, 3, 23), 35),\n ('hair', 94, datetime.date(2024, 1, 25), 31),\n ('science', 452, datetime.date(2024, 3, 15), 29),\n ('eye', 36, datetime.date(2024, 1, 21), 23),\n ('practice', 43, datetime.date(2024, 3, 1), 31),\n ('station', 466, datetime.date(2024, 3, 12), 34),\n ('less', 448, datetime.date(2024, 1, 7), 31),\n ('leg', 378, datetime.date(2024, 1, 14), 49),\n ('doctor', 444, datetime.date(2024, 3, 10), 32),\n ('Mrs', 217, datetime.date(2024, 1, 21), 27),\n ('fire', 66, datetime.date(2024, 3, 2), 37),\n ('as', 78, datetime.date(2024, 3, 15), 24),\n ('test', 264, datetime.date(2024, 2, 5), 65),\n ('include', 415, datetime.date(2024, 2, 9), 56),\n ('government', 157, datetime.date(2024, 3, 22), 37),\n ('hospital', 201, datetime.date(2024, 1, 4), 49),\n ('growth', 489, datetime.date(2024, 2, 12), 56),\n ('up', 208, datetime.date(2024, 1, 7), 63),\n ('happy', 290, datetime.date(2024, 1, 2), 60),\n ('order', 36, datetime.date(2024, 3, 18), 61),\n ('city', 181, datetime.date(2024, 1, 15), 36),\n ('while', 173, datetime.date(2024, 2, 27), 52),\n ('television', 385, datetime.date(2024, 2, 4), 28),\n ('significant', 268, datetime.date(2024, 1, 26), 31),\n ('up', 393, datetime.date(2024, 1, 15), 54),\n ('support', 312, datetime.date(2024, 1, 26), 36),\n ('improve', 356, datetime.date(2024, 1, 16), 45),\n ('growth', 172, datetime.date(2024, 2, 12), 23),\n ('believe', 425, datetime.date(2024, 1, 12), 52),\n ('drug', 411, datetime.date(2024, 1, 26), 69),\n ('provide', 336, datetime.date(2024, 2, 16), 30),\n ('which', 362, datetime.date(2024, 1, 6), 46),\n ('finally', 328, datetime.date(2024, 3, 1), 41),\n ('manage', 103, datetime.date(2024, 2, 28), 68),\n ('soldier', 252, datetime.date(2024, 2, 29), 28),\n ('happy', 78, datetime.date(2024, 3, 4), 60),\n ('son', 129, datetime.date(2024, 1, 6), 68),\n ('actually', 329, datetime.date(2024, 2, 19), 64),\n ('star', 178, datetime.date(2024, 2, 1), 63),\n ('lay', 272, datetime.date(2024, 2, 11), 24),\n ('apply', 208, datetime.date(2024, 2, 23), 23),\n ('paper', 372, datetime.date(2024, 1, 9), 27),\n ('happy', 468, datetime.date(2024, 3, 3), 59),\n ('song', 122, datetime.date(2024, 1, 3), 32),\n ('task', 102, datetime.date(2024, 3, 2), 48),\n ('for', 66, datetime.date(2024, 1, 26), 21),\n ('strong', 385, datetime.date(2024, 2, 2), 32),\n ('charge', 152, datetime.date(2024, 2, 12), 37),\n ('movement', 271, datetime.date(2024, 1, 14), 59),\n ('shoulder', 485, datetime.date(2024, 3, 8), 38),\n ('show', 13, datetime.date(2024, 2, 8), 57),\n ('job', 290, datetime.date(2024, 3, 11), 68),\n ('likely', 466, datetime.date(2024, 3, 10), 26),\n ('me', 359, datetime.date(2024, 3, 18), 59),\n ('foot', 479, datetime.date(2024, 2, 28), 18),\n ('wrong', 115, datetime.date(2024, 1, 26), 68),\n ('change', 354, datetime.date(2024, 1, 8), 62),\n ('scientist', 313, datetime.date(2024, 2, 18), 48),\n ('material', 96, datetime.date(2024, 1, 30), 21),\n ('trip', 187, datetime.date(2024, 1, 31), 56),\n ('they', 307, datetime.date(2024, 1, 24), 23),\n ('effect', 373, datetime.date(2024, 1, 19), 48),\n ('analysis', 104, datetime.date(2024, 2, 23), 29),\n ('explain', 81, datetime.date(2024, 1, 17), 60),\n ('firm', 225, datetime.date(2024, 3, 24), 19),\n ('large', 494, datetime.date(2024, 1, 15), 66),\n ('end', 129, datetime.date(2024, 3, 23), 20),\n ('artist', 171, datetime.date(2024, 3, 5), 63),\n ('major', 131, datetime.date(2024, 1, 29), 59),\n ('generation', 217, datetime.date(2024, 3, 19), 40),\n ('resource', 466, datetime.date(2024, 2, 9), 20),\n ('daughter', 24, datetime.date(2024, 2, 15), 66),\n ('cause', 299, datetime.date(2024, 1, 25), 26),\n ('include', 292, datetime.date(2024, 1, 22), 33),\n ('more', 126, datetime.date(2024, 2, 3), 35),\n ('above', 151, datetime.date(2024, 3, 22), 41),\n ('threat', 62, datetime.date(2024, 1, 14), 37),\n ('call', 323, datetime.date(2024, 1, 7), 27),\n ('wide', 88, datetime.date(2024, 1, 23), 56),\n ('game', 66, datetime.date(2024, 3, 13), 53),\n ('look', 203, datetime.date(2024, 3, 13), 36),\n ('somebody', 387, datetime.date(2024, 2, 8), 36),\n ('dog', 294, datetime.date(2024, 2, 12), 56),\n ('machine', 492, datetime.date(2024, 3, 1), 38),\n ('the', 21, datetime.date(2024, 3, 9), 36),\n ('region', 26, datetime.date(2024, 1, 7), 34),\n ('eat', 114, datetime.date(2024, 1, 16), 32),\n ('hot', 225, datetime.date(2024, 1, 31), 43),\n ('describe', 187, datetime.date(2024, 2, 18), 66),\n ('lot', 357, datetime.date(2024, 2, 11), 64),\n ('Republican', 218, datetime.date(2024, 2, 20), 57),\n ('all', 117, datetime.date(2024, 2, 22), 30),\n ('pattern', 482, datetime.date(2024, 3, 14), 21),\n ('far', 330, datetime.date(2024, 2, 14), 22),\n ('outside', 443, datetime.date(2024, 3, 16), 32),\n ('affect', 450, datetime.date(2024, 2, 27), 31),\n ('over', 354, datetime.date(2024, 1, 4), 32),\n ('measure', 291, datetime.date(2024, 1, 3), 39),\n ('attorney', 301, datetime.date(2024, 2, 17), 66),\n ('right', 229, datetime.date(2024, 3, 15), 39),\n ('sign', 297, datetime.date(2024, 2, 15), 20),\n ('baby', 495, datetime.date(2024, 1, 10), 69),\n ('price', 72, datetime.date(2024, 1, 22), 35),\n ('approach', 140, datetime.date(2024, 2, 19), 58),\n ('trade', 60, datetime.date(2024, 2, 24), 36)]"
     },
     "execution_count": 4,
     "metadata": {},
     "output_type": "execute_result"
    }
   ],
   "source": [
    "sales_data"
   ],
   "metadata": {
    "collapsed": false,
    "ExecuteTime": {
     "end_time": "2024-03-25T10:04:37.650250Z",
     "start_time": "2024-03-25T10:04:37.621566Z"
    }
   },
   "id": "f3872481b0a12c7e",
   "execution_count": 4
  },
  {
   "cell_type": "code",
   "outputs": [],
   "source": [
    "data = []\n",
    "for _ in range(1000):\n",
    "    product_id = np.random.randint(1000,9999)\n",
    "    product_name = fake.word().capitalize()\n",
    "    customer_id = np.random.randint(1000,9999)\n",
    "    sales_amount = np.random.uniform(10.00, 1000.00, 2)\n",
    "    customer_age = np.random.randint(18,70)\n",
    "    season = np.random.choice(['Spring', 'Summer', 'Winter','Fall'])\n",
    "    \n",
    "    data.append([product_id,product_name,customer_id,sales_amount,customer_age,season])"
   ],
   "metadata": {
    "collapsed": false,
    "ExecuteTime": {
     "end_time": "2024-03-25T10:27:22.788028Z",
     "start_time": "2024-03-25T10:27:22.749872Z"
    }
   },
   "id": "6ede18416663290c",
   "execution_count": 20
  },
  {
   "cell_type": "code",
   "outputs": [],
   "source": [
    "df = pd.DataFrame(data, columns=['Product ID', 'Product Name', 'Customer ID','Sales Amount','Customer Age', 'Season'])"
   ],
   "metadata": {
    "collapsed": false,
    "ExecuteTime": {
     "end_time": "2024-03-25T10:27:23.428608Z",
     "start_time": "2024-03-25T10:27:23.422307Z"
    }
   },
   "id": "9f2beba9b98852f2",
   "execution_count": 21
  },
  {
   "cell_type": "code",
   "outputs": [
    {
     "data": {
      "text/plain": "     Product ID Product Name  Customer ID  \\\n0          2796     Specific         9444   \n1          7314       Policy         4408   \n2          9802        Today         3494   \n3          7758         Upon         2161   \n4          1201          The         1314   \n..          ...          ...          ...   \n995        6710        Model         8718   \n996        3818         Fine         8435   \n997        8623         Wall         1264   \n998        4582       Before         5056   \n999        8905         Side         2831   \n\n                                Sales Amount  Customer Age  Season  \n0       [712.626222276721, 811.765133471776]            35  Summer  \n1    [811.4987971459262, 196.95032267151518]            60  Spring  \n2     [73.47401743428244, 280.5482455515511]            51  Winter  \n3    [500.91143738242033, 834.2618622582889]            43  Spring  \n4    [22.825197297247655, 614.6810260398184]            56  Summer  \n..                                       ...           ...     ...  \n995   [584.869664117113, 285.23096700705173]            66  Spring  \n996   [754.8313026078747, 822.4056280604241]            66    Fall  \n997  [609.2531537878657, 305.39378524848445]            50    Fall  \n998  [109.37147310259923, 740.9156685319592]            38  Summer  \n999   [723.7206942288684, 704.4216297293638]            38    Fall  \n\n[1000 rows x 6 columns]",
      "text/html": "<div>\n<style scoped>\n    .dataframe tbody tr th:only-of-type {\n        vertical-align: middle;\n    }\n\n    .dataframe tbody tr th {\n        vertical-align: top;\n    }\n\n    .dataframe thead th {\n        text-align: right;\n    }\n</style>\n<table border=\"1\" class=\"dataframe\">\n  <thead>\n    <tr style=\"text-align: right;\">\n      <th></th>\n      <th>Product ID</th>\n      <th>Product Name</th>\n      <th>Customer ID</th>\n      <th>Sales Amount</th>\n      <th>Customer Age</th>\n      <th>Season</th>\n    </tr>\n  </thead>\n  <tbody>\n    <tr>\n      <th>0</th>\n      <td>2796</td>\n      <td>Specific</td>\n      <td>9444</td>\n      <td>[712.626222276721, 811.765133471776]</td>\n      <td>35</td>\n      <td>Summer</td>\n    </tr>\n    <tr>\n      <th>1</th>\n      <td>7314</td>\n      <td>Policy</td>\n      <td>4408</td>\n      <td>[811.4987971459262, 196.95032267151518]</td>\n      <td>60</td>\n      <td>Spring</td>\n    </tr>\n    <tr>\n      <th>2</th>\n      <td>9802</td>\n      <td>Today</td>\n      <td>3494</td>\n      <td>[73.47401743428244, 280.5482455515511]</td>\n      <td>51</td>\n      <td>Winter</td>\n    </tr>\n    <tr>\n      <th>3</th>\n      <td>7758</td>\n      <td>Upon</td>\n      <td>2161</td>\n      <td>[500.91143738242033, 834.2618622582889]</td>\n      <td>43</td>\n      <td>Spring</td>\n    </tr>\n    <tr>\n      <th>4</th>\n      <td>1201</td>\n      <td>The</td>\n      <td>1314</td>\n      <td>[22.825197297247655, 614.6810260398184]</td>\n      <td>56</td>\n      <td>Summer</td>\n    </tr>\n    <tr>\n      <th>...</th>\n      <td>...</td>\n      <td>...</td>\n      <td>...</td>\n      <td>...</td>\n      <td>...</td>\n      <td>...</td>\n    </tr>\n    <tr>\n      <th>995</th>\n      <td>6710</td>\n      <td>Model</td>\n      <td>8718</td>\n      <td>[584.869664117113, 285.23096700705173]</td>\n      <td>66</td>\n      <td>Spring</td>\n    </tr>\n    <tr>\n      <th>996</th>\n      <td>3818</td>\n      <td>Fine</td>\n      <td>8435</td>\n      <td>[754.8313026078747, 822.4056280604241]</td>\n      <td>66</td>\n      <td>Fall</td>\n    </tr>\n    <tr>\n      <th>997</th>\n      <td>8623</td>\n      <td>Wall</td>\n      <td>1264</td>\n      <td>[609.2531537878657, 305.39378524848445]</td>\n      <td>50</td>\n      <td>Fall</td>\n    </tr>\n    <tr>\n      <th>998</th>\n      <td>4582</td>\n      <td>Before</td>\n      <td>5056</td>\n      <td>[109.37147310259923, 740.9156685319592]</td>\n      <td>38</td>\n      <td>Summer</td>\n    </tr>\n    <tr>\n      <th>999</th>\n      <td>8905</td>\n      <td>Side</td>\n      <td>2831</td>\n      <td>[723.7206942288684, 704.4216297293638]</td>\n      <td>38</td>\n      <td>Fall</td>\n    </tr>\n  </tbody>\n</table>\n<p>1000 rows × 6 columns</p>\n</div>"
     },
     "execution_count": 22,
     "metadata": {},
     "output_type": "execute_result"
    }
   ],
   "source": [
    "df"
   ],
   "metadata": {
    "collapsed": false,
    "ExecuteTime": {
     "end_time": "2024-03-25T10:27:24.654242Z",
     "start_time": "2024-03-25T10:27:24.642968Z"
    }
   },
   "id": "40e7362ef490da69",
   "execution_count": 22
  },
  {
   "cell_type": "code",
   "outputs": [],
   "source": [
    "seasonal_multiplier = {'Spring':1.0, 'Summer':1.2, 'Fall':1.1,'Winter':1.3}\n",
    "df['Sales Amount'] = df.apply(lambda row: row['Sales Amount'] * seasonal_multiplier[row['Season']], axis=1)"
   ],
   "metadata": {
    "collapsed": false,
    "ExecuteTime": {
     "end_time": "2024-03-25T10:34:13.303941Z",
     "start_time": "2024-03-25T10:34:13.274963Z"
    }
   },
   "id": "387b7b2e58a7a615",
   "execution_count": 23
  },
  {
   "cell_type": "code",
   "outputs": [
    {
     "data": {
      "text/plain": "     Product ID Product Name  Customer ID  \\\n0          2796     Specific         9444   \n1          7314       Policy         4408   \n2          9802        Today         3494   \n3          7758         Upon         2161   \n4          1201          The         1314   \n..          ...          ...          ...   \n995        6710        Model         8718   \n996        3818         Fine         8435   \n997        8623         Wall         1264   \n998        4582       Before         5056   \n999        8905         Side         2831   \n\n                                Sales Amount  Customer Age  Season  \n0     [855.1514667320652, 974.1181601661312]            35  Summer  \n1    [811.4987971459262, 196.95032267151518]            60  Spring  \n2     [95.51622266456718, 364.7127192170164]            51  Winter  \n3    [500.91143738242033, 834.2618622582889]            43  Spring  \n4    [27.390236756697185, 737.6172312477821]            56  Summer  \n..                                       ...           ...     ...  \n995   [584.869664117113, 285.23096700705173]            66  Spring  \n996   [830.3144328686623, 904.6461908664666]            66    Fall  \n997   [670.1784691666523, 335.9331637733329]            50    Fall  \n998   [131.24576772311906, 889.098802238351]            38  Summer  \n999   [796.0927636517553, 774.8637927023002]            38    Fall  \n\n[1000 rows x 6 columns]",
      "text/html": "<div>\n<style scoped>\n    .dataframe tbody tr th:only-of-type {\n        vertical-align: middle;\n    }\n\n    .dataframe tbody tr th {\n        vertical-align: top;\n    }\n\n    .dataframe thead th {\n        text-align: right;\n    }\n</style>\n<table border=\"1\" class=\"dataframe\">\n  <thead>\n    <tr style=\"text-align: right;\">\n      <th></th>\n      <th>Product ID</th>\n      <th>Product Name</th>\n      <th>Customer ID</th>\n      <th>Sales Amount</th>\n      <th>Customer Age</th>\n      <th>Season</th>\n    </tr>\n  </thead>\n  <tbody>\n    <tr>\n      <th>0</th>\n      <td>2796</td>\n      <td>Specific</td>\n      <td>9444</td>\n      <td>[855.1514667320652, 974.1181601661312]</td>\n      <td>35</td>\n      <td>Summer</td>\n    </tr>\n    <tr>\n      <th>1</th>\n      <td>7314</td>\n      <td>Policy</td>\n      <td>4408</td>\n      <td>[811.4987971459262, 196.95032267151518]</td>\n      <td>60</td>\n      <td>Spring</td>\n    </tr>\n    <tr>\n      <th>2</th>\n      <td>9802</td>\n      <td>Today</td>\n      <td>3494</td>\n      <td>[95.51622266456718, 364.7127192170164]</td>\n      <td>51</td>\n      <td>Winter</td>\n    </tr>\n    <tr>\n      <th>3</th>\n      <td>7758</td>\n      <td>Upon</td>\n      <td>2161</td>\n      <td>[500.91143738242033, 834.2618622582889]</td>\n      <td>43</td>\n      <td>Spring</td>\n    </tr>\n    <tr>\n      <th>4</th>\n      <td>1201</td>\n      <td>The</td>\n      <td>1314</td>\n      <td>[27.390236756697185, 737.6172312477821]</td>\n      <td>56</td>\n      <td>Summer</td>\n    </tr>\n    <tr>\n      <th>...</th>\n      <td>...</td>\n      <td>...</td>\n      <td>...</td>\n      <td>...</td>\n      <td>...</td>\n      <td>...</td>\n    </tr>\n    <tr>\n      <th>995</th>\n      <td>6710</td>\n      <td>Model</td>\n      <td>8718</td>\n      <td>[584.869664117113, 285.23096700705173]</td>\n      <td>66</td>\n      <td>Spring</td>\n    </tr>\n    <tr>\n      <th>996</th>\n      <td>3818</td>\n      <td>Fine</td>\n      <td>8435</td>\n      <td>[830.3144328686623, 904.6461908664666]</td>\n      <td>66</td>\n      <td>Fall</td>\n    </tr>\n    <tr>\n      <th>997</th>\n      <td>8623</td>\n      <td>Wall</td>\n      <td>1264</td>\n      <td>[670.1784691666523, 335.9331637733329]</td>\n      <td>50</td>\n      <td>Fall</td>\n    </tr>\n    <tr>\n      <th>998</th>\n      <td>4582</td>\n      <td>Before</td>\n      <td>5056</td>\n      <td>[131.24576772311906, 889.098802238351]</td>\n      <td>38</td>\n      <td>Summer</td>\n    </tr>\n    <tr>\n      <th>999</th>\n      <td>8905</td>\n      <td>Side</td>\n      <td>2831</td>\n      <td>[796.0927636517553, 774.8637927023002]</td>\n      <td>38</td>\n      <td>Fall</td>\n    </tr>\n  </tbody>\n</table>\n<p>1000 rows × 6 columns</p>\n</div>"
     },
     "execution_count": 25,
     "metadata": {},
     "output_type": "execute_result"
    }
   ],
   "source": [
    "df"
   ],
   "metadata": {
    "collapsed": false,
    "ExecuteTime": {
     "end_time": "2024-03-25T10:34:21.577785Z",
     "start_time": "2024-03-25T10:34:21.567078Z"
    }
   },
   "id": "489d0cb2b9410c0",
   "execution_count": 25
  },
  {
   "cell_type": "code",
   "outputs": [],
   "source": [],
   "metadata": {
    "collapsed": false
   },
   "id": "b8f0e24f04bdd03b"
  }
 ],
 "metadata": {
  "kernelspec": {
   "display_name": "Python 3",
   "language": "python",
   "name": "python3"
  },
  "language_info": {
   "codemirror_mode": {
    "name": "ipython",
    "version": 2
   },
   "file_extension": ".py",
   "mimetype": "text/x-python",
   "name": "python",
   "nbconvert_exporter": "python",
   "pygments_lexer": "ipython2",
   "version": "2.7.6"
  }
 },
 "nbformat": 4,
 "nbformat_minor": 5
}
