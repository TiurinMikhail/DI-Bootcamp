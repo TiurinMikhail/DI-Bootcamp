{
 "cells": [
  {
   "cell_type": "code",
   "execution_count": 1,
   "id": "initial_id",
   "metadata": {
    "collapsed": true,
    "ExecuteTime": {
     "end_time": "2024-03-25T09:26:25.173323Z",
     "start_time": "2024-03-25T09:26:24.392468Z"
    }
   },
   "outputs": [],
   "source": [
    "import pandas as pd"
   ]
  },
  {
   "cell_type": "code",
   "outputs": [],
   "source": [
    "df = pd.read_excel('C:/Users/v_gol/Desktop/Developers Institute/GitHub/DI-Bootcamp/Week4/Day2/flavors_of_cacao.xlsx', sheet_name='flavors_of_cacao')"
   ],
   "metadata": {
    "collapsed": false,
    "ExecuteTime": {
     "end_time": "2024-03-25T09:29:59.348870Z",
     "start_time": "2024-03-25T09:29:59.226501Z"
    }
   },
   "id": "39b6315214b7b87f",
   "execution_count": 4
  },
  {
   "cell_type": "code",
   "outputs": [
    {
     "data": {
      "text/plain": "Company\\nLocation\nVietnam    3.409091\nName: Rating, dtype: float64"
     },
     "execution_count": 5,
     "metadata": {},
     "output_type": "execute_result"
    }
   ],
   "source": [
    "count_countries_appearance = df['Company\\nLocation'].value_counts()\n",
    "countries_over_10 = count_countries_appearance[count_countries_appearance>10]\n",
    "best_tasting_amoung_frequent_countries = df[df['Company\\nLocation'].isin(countries_over_10.index)].groupby('Company\\nLocation')['Rating'].mean().nlargest(1)\n",
    "best_tasting_amoung_frequent_countries"
   ],
   "metadata": {
    "collapsed": false,
    "ExecuteTime": {
     "end_time": "2024-03-25T09:30:01.815964Z",
     "start_time": "2024-03-25T09:30:01.797787Z"
    }
   },
   "id": "47609c6f285f63f0",
   "execution_count": 5
  },
  {
   "cell_type": "code",
   "outputs": [
    {
     "data": {
      "text/plain": "Company\\nLocation\nU.S.A.               764\nFrance               156\nCanada               125\nU.K.                  96\nItaly                 63\nEcuador               54\nAustralia             49\nBelgium               40\nSwitzerland           38\nGermany               35\nAustria               26\nSpain                 25\nColombia              23\nHungary               22\nVenezuela             20\nNew Zealand           17\nMadagascar            17\nPeru                  17\nJapan                 17\nBrazil                17\nDenmark               15\nVietnam               11\nGuatemala             10\nScotland              10\nIsrael                 9\nCosta Rica             9\nArgentina              9\nPoland                 8\nLithuania              6\nHonduras               6\nSweden                 5\nNicaragua              5\nDomincan Republic      5\nSouth Korea            5\nSao Tome               4\nPuerto Rico            4\nAmsterdam              4\nMexico                 4\nIreland                4\nNetherlands            4\nFiji                   4\nSouth Africa           3\nPortugal               3\nIceland                3\nSingapore              3\nGrenada                3\nFinland                2\nBolivia                2\nChile                  2\nSt. Lucia              2\nCzech Republic         1\nEucador                1\nNiacragua              1\nSuriname               1\nGhana                  1\nIndia                  1\nRussia                 1\nMartinique             1\nPhilippines            1\nWales                  1\nName: count, dtype: int64"
     },
     "execution_count": 6,
     "metadata": {},
     "output_type": "execute_result"
    }
   ],
   "source": [
    "df.value_counts('Company\\nLocation')"
   ],
   "metadata": {
    "collapsed": false,
    "ExecuteTime": {
     "end_time": "2024-03-25T09:30:36.044190Z",
     "start_time": "2024-03-25T09:30:36.036665Z"
    }
   },
   "id": "2da9a6883df4bbd6",
   "execution_count": 6
  },
  {
   "cell_type": "code",
   "outputs": [],
   "source": [
    "count_countries_appearance = df['Company\\nLocation'].value_counts()\n",
    "countries_over_10 = count_countries_appearance[count_countries_appearance>10]\n",
    "best_tasting_amoung_frequent_countries = df[df['Company\\nLocation'].isin(countries_over_10.index)]"
   ],
   "metadata": {
    "collapsed": false,
    "ExecuteTime": {
     "end_time": "2024-03-25T09:34:12.193772Z",
     "start_time": "2024-03-25T09:34:12.189532Z"
    }
   },
   "id": "20b8de1524771f30",
   "execution_count": 12
  },
  {
   "cell_type": "code",
   "outputs": [
    {
     "data": {
      "text/plain": "     Company\\n(Maker-if known) Specific Bean Origin\\nor Bar Name  \\\n0                     A. Morin                       Agua Grande   \n1                     A. Morin                             Kpime   \n2                     A. Morin                            Atsane   \n3                     A. Morin                             Akata   \n4                     A. Morin                            Quilla   \n...                        ...                               ...   \n1790                    Zotter                              Peru   \n1791                    Zotter                             Congo   \n1792                    Zotter                      Kerala State   \n1793                    Zotter                      Kerala State   \n1794                    Zotter                Brazil, Mitzi Blue   \n\n      Review\\nDate  Cocoa\\nPercent Company\\nLocation  Rating Bean\\nType  \\\n0             2016            0.63            France    3.75        NaN   \n1             2015            0.70            France    2.75        NaN   \n2             2015            0.70            France    3.00        NaN   \n3             2015            0.70            France    3.50        NaN   \n4             2015            0.70            France    3.50        NaN   \n...            ...             ...               ...     ...        ...   \n1790          2011            0.70           Austria    3.75        NaN   \n1791          2011            0.65           Austria    3.00  Forastero   \n1792          2011            0.65           Austria    3.50  Forastero   \n1793          2011            0.62           Austria    3.25        NaN   \n1794          2010            0.65           Austria    3.00        NaN   \n\n     Broad Bean\\nOrigin  \n0              Sao Tome  \n1                  Togo  \n2                  Togo  \n3                  Togo  \n4                  Peru  \n...                 ...  \n1790               Peru  \n1791              Congo  \n1792              India  \n1793              India  \n1794             Brazil  \n\n[1647 rows x 8 columns]",
      "text/html": "<div>\n<style scoped>\n    .dataframe tbody tr th:only-of-type {\n        vertical-align: middle;\n    }\n\n    .dataframe tbody tr th {\n        vertical-align: top;\n    }\n\n    .dataframe thead th {\n        text-align: right;\n    }\n</style>\n<table border=\"1\" class=\"dataframe\">\n  <thead>\n    <tr style=\"text-align: right;\">\n      <th></th>\n      <th>Company\\n(Maker-if known)</th>\n      <th>Specific Bean Origin\\nor Bar Name</th>\n      <th>Review\\nDate</th>\n      <th>Cocoa\\nPercent</th>\n      <th>Company\\nLocation</th>\n      <th>Rating</th>\n      <th>Bean\\nType</th>\n      <th>Broad Bean\\nOrigin</th>\n    </tr>\n  </thead>\n  <tbody>\n    <tr>\n      <th>0</th>\n      <td>A. Morin</td>\n      <td>Agua Grande</td>\n      <td>2016</td>\n      <td>0.63</td>\n      <td>France</td>\n      <td>3.75</td>\n      <td>NaN</td>\n      <td>Sao Tome</td>\n    </tr>\n    <tr>\n      <th>1</th>\n      <td>A. Morin</td>\n      <td>Kpime</td>\n      <td>2015</td>\n      <td>0.70</td>\n      <td>France</td>\n      <td>2.75</td>\n      <td>NaN</td>\n      <td>Togo</td>\n    </tr>\n    <tr>\n      <th>2</th>\n      <td>A. Morin</td>\n      <td>Atsane</td>\n      <td>2015</td>\n      <td>0.70</td>\n      <td>France</td>\n      <td>3.00</td>\n      <td>NaN</td>\n      <td>Togo</td>\n    </tr>\n    <tr>\n      <th>3</th>\n      <td>A. Morin</td>\n      <td>Akata</td>\n      <td>2015</td>\n      <td>0.70</td>\n      <td>France</td>\n      <td>3.50</td>\n      <td>NaN</td>\n      <td>Togo</td>\n    </tr>\n    <tr>\n      <th>4</th>\n      <td>A. Morin</td>\n      <td>Quilla</td>\n      <td>2015</td>\n      <td>0.70</td>\n      <td>France</td>\n      <td>3.50</td>\n      <td>NaN</td>\n      <td>Peru</td>\n    </tr>\n    <tr>\n      <th>...</th>\n      <td>...</td>\n      <td>...</td>\n      <td>...</td>\n      <td>...</td>\n      <td>...</td>\n      <td>...</td>\n      <td>...</td>\n      <td>...</td>\n    </tr>\n    <tr>\n      <th>1790</th>\n      <td>Zotter</td>\n      <td>Peru</td>\n      <td>2011</td>\n      <td>0.70</td>\n      <td>Austria</td>\n      <td>3.75</td>\n      <td>NaN</td>\n      <td>Peru</td>\n    </tr>\n    <tr>\n      <th>1791</th>\n      <td>Zotter</td>\n      <td>Congo</td>\n      <td>2011</td>\n      <td>0.65</td>\n      <td>Austria</td>\n      <td>3.00</td>\n      <td>Forastero</td>\n      <td>Congo</td>\n    </tr>\n    <tr>\n      <th>1792</th>\n      <td>Zotter</td>\n      <td>Kerala State</td>\n      <td>2011</td>\n      <td>0.65</td>\n      <td>Austria</td>\n      <td>3.50</td>\n      <td>Forastero</td>\n      <td>India</td>\n    </tr>\n    <tr>\n      <th>1793</th>\n      <td>Zotter</td>\n      <td>Kerala State</td>\n      <td>2011</td>\n      <td>0.62</td>\n      <td>Austria</td>\n      <td>3.25</td>\n      <td>NaN</td>\n      <td>India</td>\n    </tr>\n    <tr>\n      <th>1794</th>\n      <td>Zotter</td>\n      <td>Brazil, Mitzi Blue</td>\n      <td>2010</td>\n      <td>0.65</td>\n      <td>Austria</td>\n      <td>3.00</td>\n      <td>NaN</td>\n      <td>Brazil</td>\n    </tr>\n  </tbody>\n</table>\n<p>1647 rows × 8 columns</p>\n</div>"
     },
     "execution_count": 13,
     "metadata": {},
     "output_type": "execute_result"
    }
   ],
   "source": [
    "best_tasting_amoung_frequent_countries"
   ],
   "metadata": {
    "collapsed": false,
    "ExecuteTime": {
     "end_time": "2024-03-25T09:34:17.239437Z",
     "start_time": "2024-03-25T09:34:17.228659Z"
    }
   },
   "id": "7a74ed2b01231202",
   "execution_count": 13
  },
  {
   "cell_type": "code",
   "outputs": [
    {
     "data": {
      "text/plain": "Company\\nLocation\nU.S.A.         764\nFrance         156\nCanada         125\nU.K.            96\nItaly           63\nEcuador         54\nAustralia       49\nBelgium         40\nSwitzerland     38\nGermany         35\nAustria         26\nSpain           25\nColombia        23\nHungary         22\nVenezuela       20\nJapan           17\nBrazil          17\nPeru            17\nMadagascar      17\nNew Zealand     17\nDenmark         15\nVietnam         11\nName: count, dtype: int64"
     },
     "execution_count": 14,
     "metadata": {},
     "output_type": "execute_result"
    }
   ],
   "source": [
    "countries_over_10"
   ],
   "metadata": {
    "collapsed": false,
    "ExecuteTime": {
     "end_time": "2024-03-25T09:34:27.826366Z",
     "start_time": "2024-03-25T09:34:27.821807Z"
    }
   },
   "id": "f0982fa7033372a3",
   "execution_count": 14
  },
  {
   "cell_type": "code",
   "outputs": [
    {
     "data": {
      "text/plain": "   Company\\n(Maker-if known) Specific Bean Origin\\nor Bar Name  Review\\nDate  \\\n78                    Amedei                             Chuao          2007   \n86                    Amedei                     Toscano Black          2006   \n\n    Cocoa\\nPercent Company\\nLocation  Rating  Bean\\nType Broad Bean\\nOrigin  \n78             0.7             Italy     5.0  Trinitario          Venezuela  \n86             0.7             Italy     5.0       Blend                NaN  ",
      "text/html": "<div>\n<style scoped>\n    .dataframe tbody tr th:only-of-type {\n        vertical-align: middle;\n    }\n\n    .dataframe tbody tr th {\n        vertical-align: top;\n    }\n\n    .dataframe thead th {\n        text-align: right;\n    }\n</style>\n<table border=\"1\" class=\"dataframe\">\n  <thead>\n    <tr style=\"text-align: right;\">\n      <th></th>\n      <th>Company\\n(Maker-if known)</th>\n      <th>Specific Bean Origin\\nor Bar Name</th>\n      <th>Review\\nDate</th>\n      <th>Cocoa\\nPercent</th>\n      <th>Company\\nLocation</th>\n      <th>Rating</th>\n      <th>Bean\\nType</th>\n      <th>Broad Bean\\nOrigin</th>\n    </tr>\n  </thead>\n  <tbody>\n    <tr>\n      <th>78</th>\n      <td>Amedei</td>\n      <td>Chuao</td>\n      <td>2007</td>\n      <td>0.7</td>\n      <td>Italy</td>\n      <td>5.0</td>\n      <td>Trinitario</td>\n      <td>Venezuela</td>\n    </tr>\n    <tr>\n      <th>86</th>\n      <td>Amedei</td>\n      <td>Toscano Black</td>\n      <td>2006</td>\n      <td>0.7</td>\n      <td>Italy</td>\n      <td>5.0</td>\n      <td>Blend</td>\n      <td>NaN</td>\n    </tr>\n  </tbody>\n</table>\n</div>"
     },
     "execution_count": 31,
     "metadata": {},
     "output_type": "execute_result"
    }
   ],
   "source": [
    "df.nlargest(2,'Rating')"
   ],
   "metadata": {
    "collapsed": false,
    "ExecuteTime": {
     "end_time": "2024-03-25T09:46:48.682855Z",
     "start_time": "2024-03-25T09:46:48.674040Z"
    }
   },
   "id": "766bfa04774ed7f0",
   "execution_count": 31
  },
  {
   "cell_type": "code",
   "outputs": [],
   "source": [
    "most_delicious_israeli_chocolate = df[df['Company\\nLocation'] == 'Israel'].nlargest(1,'Rating')\n"
   ],
   "metadata": {
    "collapsed": false,
    "ExecuteTime": {
     "end_time": "2024-03-25T09:46:39.055443Z",
     "start_time": "2024-03-25T09:46:39.049734Z"
    }
   },
   "id": "89ecdc964ace85af",
   "execution_count": 30
  },
  {
   "cell_type": "code",
   "outputs": [
    {
     "data": {
      "text/plain": "    Company\\n(Maker-if known) Specific Bean Origin\\nor Bar Name  Review\\nDate  \\\n824                Holy Cacao                Hispaniola w/ nibs          2009   \n\n     Cocoa\\nPercent Company\\nLocation  Rating Bean\\nType  Broad Bean\\nOrigin  \n824            0.75            Israel    3.75        NaN  Dominican Republic  ",
      "text/html": "<div>\n<style scoped>\n    .dataframe tbody tr th:only-of-type {\n        vertical-align: middle;\n    }\n\n    .dataframe tbody tr th {\n        vertical-align: top;\n    }\n\n    .dataframe thead th {\n        text-align: right;\n    }\n</style>\n<table border=\"1\" class=\"dataframe\">\n  <thead>\n    <tr style=\"text-align: right;\">\n      <th></th>\n      <th>Company\\n(Maker-if known)</th>\n      <th>Specific Bean Origin\\nor Bar Name</th>\n      <th>Review\\nDate</th>\n      <th>Cocoa\\nPercent</th>\n      <th>Company\\nLocation</th>\n      <th>Rating</th>\n      <th>Bean\\nType</th>\n      <th>Broad Bean\\nOrigin</th>\n    </tr>\n  </thead>\n  <tbody>\n    <tr>\n      <th>824</th>\n      <td>Holy Cacao</td>\n      <td>Hispaniola w/ nibs</td>\n      <td>2009</td>\n      <td>0.75</td>\n      <td>Israel</td>\n      <td>3.75</td>\n      <td>NaN</td>\n      <td>Dominican Republic</td>\n    </tr>\n  </tbody>\n</table>\n</div>"
     },
     "execution_count": 32,
     "metadata": {},
     "output_type": "execute_result"
    }
   ],
   "source": [
    "most_delicious_israeli_chocolate"
   ],
   "metadata": {
    "collapsed": false,
    "ExecuteTime": {
     "end_time": "2024-03-25T09:46:52.040052Z",
     "start_time": "2024-03-25T09:46:52.031593Z"
    }
   },
   "id": "57ac84fdae0028c0",
   "execution_count": 32
  },
  {
   "cell_type": "code",
   "outputs": [],
   "source": [],
   "metadata": {
    "collapsed": false
   },
   "id": "9b13a1df408ebc45"
  }
 ],
 "metadata": {
  "kernelspec": {
   "display_name": "Python 3",
   "language": "python",
   "name": "python3"
  },
  "language_info": {
   "codemirror_mode": {
    "name": "ipython",
    "version": 2
   },
   "file_extension": ".py",
   "mimetype": "text/x-python",
   "name": "python",
   "nbconvert_exporter": "python",
   "pygments_lexer": "ipython2",
   "version": "2.7.6"
  }
 },
 "nbformat": 4,
 "nbformat_minor": 5
}
