{
 "cells": [
  {
   "cell_type": "code",
   "execution_count": 2,
   "id": "initial_id",
   "metadata": {
    "collapsed": true,
    "ExecuteTime": {
     "end_time": "2024-03-24T09:04:58.611847Z",
     "start_time": "2024-03-24T09:04:58.597535Z"
    }
   },
   "outputs": [
    {
     "data": {
      "text/plain": "    Name  Age      City\n0   John   28  New York\n1   Anna   34     Paris\n2  Peter   29    Berlin\n3  Linda   32    London",
      "text/html": "<div>\n<style scoped>\n    .dataframe tbody tr th:only-of-type {\n        vertical-align: middle;\n    }\n\n    .dataframe tbody tr th {\n        vertical-align: top;\n    }\n\n    .dataframe thead th {\n        text-align: right;\n    }\n</style>\n<table border=\"1\" class=\"dataframe\">\n  <thead>\n    <tr style=\"text-align: right;\">\n      <th></th>\n      <th>Name</th>\n      <th>Age</th>\n      <th>City</th>\n    </tr>\n  </thead>\n  <tbody>\n    <tr>\n      <th>0</th>\n      <td>John</td>\n      <td>28</td>\n      <td>New York</td>\n    </tr>\n    <tr>\n      <th>1</th>\n      <td>Anna</td>\n      <td>34</td>\n      <td>Paris</td>\n    </tr>\n    <tr>\n      <th>2</th>\n      <td>Peter</td>\n      <td>29</td>\n      <td>Berlin</td>\n    </tr>\n    <tr>\n      <th>3</th>\n      <td>Linda</td>\n      <td>32</td>\n      <td>London</td>\n    </tr>\n  </tbody>\n</table>\n</div>"
     },
     "execution_count": 2,
     "metadata": {},
     "output_type": "execute_result"
    }
   ],
   "source": [
    "import pandas as pd\n",
    "\n",
    "data = {\n",
    "    'Name': ['John', 'Anna', 'Peter', 'Linda'],\n",
    "    'Age': [28, 34, 29, 32],\n",
    "    'City': ['New York', 'Paris', 'Berlin', 'London']\n",
    "}\n",
    "df = pd.DataFrame(data)\n",
    "\n",
    "df.head()"
   ]
  },
  {
   "cell_type": "code",
   "outputs": [
    {
     "data": {
      "text/plain": "               Book Title               Author      Genre  Price  Copies Sold\n0        The Great Gatsby  F. Scott Fitzgerald    Classic  10.99          500\n1   To Kill a Mockingbird           Harper Lee    Classic   8.99          600\n2                    1984        George Orwell  Dystopian   7.99          800\n3     Pride and Prejudice          Jane Austen    Classic  11.99          300\n4  The Catcher in the Rye        J.D. Salinger    Classic   9.99          450",
      "text/html": "<div>\n<style scoped>\n    .dataframe tbody tr th:only-of-type {\n        vertical-align: middle;\n    }\n\n    .dataframe tbody tr th {\n        vertical-align: top;\n    }\n\n    .dataframe thead th {\n        text-align: right;\n    }\n</style>\n<table border=\"1\" class=\"dataframe\">\n  <thead>\n    <tr style=\"text-align: right;\">\n      <th></th>\n      <th>Book Title</th>\n      <th>Author</th>\n      <th>Genre</th>\n      <th>Price</th>\n      <th>Copies Sold</th>\n    </tr>\n  </thead>\n  <tbody>\n    <tr>\n      <th>0</th>\n      <td>The Great Gatsby</td>\n      <td>F. Scott Fitzgerald</td>\n      <td>Classic</td>\n      <td>10.99</td>\n      <td>500</td>\n    </tr>\n    <tr>\n      <th>1</th>\n      <td>To Kill a Mockingbird</td>\n      <td>Harper Lee</td>\n      <td>Classic</td>\n      <td>8.99</td>\n      <td>600</td>\n    </tr>\n    <tr>\n      <th>2</th>\n      <td>1984</td>\n      <td>George Orwell</td>\n      <td>Dystopian</td>\n      <td>7.99</td>\n      <td>800</td>\n    </tr>\n    <tr>\n      <th>3</th>\n      <td>Pride and Prejudice</td>\n      <td>Jane Austen</td>\n      <td>Classic</td>\n      <td>11.99</td>\n      <td>300</td>\n    </tr>\n    <tr>\n      <th>4</th>\n      <td>The Catcher in the Rye</td>\n      <td>J.D. Salinger</td>\n      <td>Classic</td>\n      <td>9.99</td>\n      <td>450</td>\n    </tr>\n  </tbody>\n</table>\n</div>"
     },
     "execution_count": 4,
     "metadata": {},
     "output_type": "execute_result"
    }
   ],
   "source": [
    "data = {\n",
    "    'Book Title': ['The Great Gatsby', 'To Kill a Mockingbird', '1984', 'Pride and Prejudice', 'The Catcher in the Rye'],\n",
    "    'Author': ['F. Scott Fitzgerald', 'Harper Lee', 'George Orwell', 'Jane Austen', 'J.D. Salinger'],\n",
    "    'Genre': ['Classic', 'Classic', 'Dystopian', 'Classic', 'Classic'],\n",
    "    'Price': [10.99, 8.99, 7.99, 11.99, 9.99],\n",
    "    'Copies Sold': [500, 600, 800, 300, 450]\n",
    "}\n",
    "\n",
    "df = pd.DataFrame(data)\n",
    "\n",
    "df.head()\n",
    "\n"
   ],
   "metadata": {
    "collapsed": false,
    "ExecuteTime": {
     "end_time": "2024-03-24T09:09:43.517176Z",
     "start_time": "2024-03-24T09:09:43.509329Z"
    }
   },
   "id": "f29726d623674d73",
   "execution_count": 4
  },
  {
   "cell_type": "code",
   "outputs": [
    {
     "data": {
      "text/plain": "           Price  Copies Sold\ncount   5.000000     5.000000\nmean    9.990000   530.000000\nstd     1.581139   185.741756\nmin     7.990000   300.000000\n25%     8.990000   450.000000\n50%     9.990000   500.000000\n75%    10.990000   600.000000\nmax    11.990000   800.000000",
      "text/html": "<div>\n<style scoped>\n    .dataframe tbody tr th:only-of-type {\n        vertical-align: middle;\n    }\n\n    .dataframe tbody tr th {\n        vertical-align: top;\n    }\n\n    .dataframe thead th {\n        text-align: right;\n    }\n</style>\n<table border=\"1\" class=\"dataframe\">\n  <thead>\n    <tr style=\"text-align: right;\">\n      <th></th>\n      <th>Price</th>\n      <th>Copies Sold</th>\n    </tr>\n  </thead>\n  <tbody>\n    <tr>\n      <th>count</th>\n      <td>5.000000</td>\n      <td>5.000000</td>\n    </tr>\n    <tr>\n      <th>mean</th>\n      <td>9.990000</td>\n      <td>530.000000</td>\n    </tr>\n    <tr>\n      <th>std</th>\n      <td>1.581139</td>\n      <td>185.741756</td>\n    </tr>\n    <tr>\n      <th>min</th>\n      <td>7.990000</td>\n      <td>300.000000</td>\n    </tr>\n    <tr>\n      <th>25%</th>\n      <td>8.990000</td>\n      <td>450.000000</td>\n    </tr>\n    <tr>\n      <th>50%</th>\n      <td>9.990000</td>\n      <td>500.000000</td>\n    </tr>\n    <tr>\n      <th>75%</th>\n      <td>10.990000</td>\n      <td>600.000000</td>\n    </tr>\n    <tr>\n      <th>max</th>\n      <td>11.990000</td>\n      <td>800.000000</td>\n    </tr>\n  </tbody>\n</table>\n</div>"
     },
     "execution_count": 5,
     "metadata": {},
     "output_type": "execute_result"
    }
   ],
   "source": [
    "df.describe()"
   ],
   "metadata": {
    "collapsed": false,
    "ExecuteTime": {
     "end_time": "2024-03-24T09:09:45.357734Z",
     "start_time": "2024-03-24T09:09:45.349339Z"
    }
   },
   "id": "659b177d2be7cee2",
   "execution_count": 5
  },
  {
   "cell_type": "markdown",
   "source": [],
   "metadata": {
    "collapsed": false
   },
   "id": "3ed813f189a715f7"
  },
  {
   "cell_type": "code",
   "outputs": [
    {
     "name": "stdout",
     "output_type": "stream",
     "text": [
      "<class 'pandas.core.frame.DataFrame'>\n",
      "RangeIndex: 5 entries, 0 to 4\n",
      "Data columns (total 5 columns):\n",
      " #   Column       Non-Null Count  Dtype  \n",
      "---  ------       --------------  -----  \n",
      " 0   Book Title   5 non-null      object \n",
      " 1   Author       5 non-null      object \n",
      " 2   Genre        5 non-null      object \n",
      " 3   Price        5 non-null      float64\n",
      " 4   Copies Sold  5 non-null      int64  \n",
      "dtypes: float64(1), int64(1), object(3)\n",
      "memory usage: 332.0+ bytes\n"
     ]
    }
   ],
   "source": [
    "df.info()"
   ],
   "metadata": {
    "collapsed": false,
    "ExecuteTime": {
     "end_time": "2024-03-24T09:10:34.275720Z",
     "start_time": "2024-03-24T09:10:34.267207Z"
    }
   },
   "id": "6986848c855b742",
   "execution_count": 6
  },
  {
   "cell_type": "code",
   "outputs": [
    {
     "data": {
      "text/plain": "               Book Title               Author      Genre  Price  Copies Sold\n3     Pride and Prejudice          Jane Austen    Classic  11.99          300\n0        The Great Gatsby  F. Scott Fitzgerald    Classic  10.99          500\n4  The Catcher in the Rye        J.D. Salinger    Classic   9.99          450\n1   To Kill a Mockingbird           Harper Lee    Classic   8.99          600\n2                    1984        George Orwell  Dystopian   7.99          800",
      "text/html": "<div>\n<style scoped>\n    .dataframe tbody tr th:only-of-type {\n        vertical-align: middle;\n    }\n\n    .dataframe tbody tr th {\n        vertical-align: top;\n    }\n\n    .dataframe thead th {\n        text-align: right;\n    }\n</style>\n<table border=\"1\" class=\"dataframe\">\n  <thead>\n    <tr style=\"text-align: right;\">\n      <th></th>\n      <th>Book Title</th>\n      <th>Author</th>\n      <th>Genre</th>\n      <th>Price</th>\n      <th>Copies Sold</th>\n    </tr>\n  </thead>\n  <tbody>\n    <tr>\n      <th>3</th>\n      <td>Pride and Prejudice</td>\n      <td>Jane Austen</td>\n      <td>Classic</td>\n      <td>11.99</td>\n      <td>300</td>\n    </tr>\n    <tr>\n      <th>0</th>\n      <td>The Great Gatsby</td>\n      <td>F. Scott Fitzgerald</td>\n      <td>Classic</td>\n      <td>10.99</td>\n      <td>500</td>\n    </tr>\n    <tr>\n      <th>4</th>\n      <td>The Catcher in the Rye</td>\n      <td>J.D. Salinger</td>\n      <td>Classic</td>\n      <td>9.99</td>\n      <td>450</td>\n    </tr>\n    <tr>\n      <th>1</th>\n      <td>To Kill a Mockingbird</td>\n      <td>Harper Lee</td>\n      <td>Classic</td>\n      <td>8.99</td>\n      <td>600</td>\n    </tr>\n    <tr>\n      <th>2</th>\n      <td>1984</td>\n      <td>George Orwell</td>\n      <td>Dystopian</td>\n      <td>7.99</td>\n      <td>800</td>\n    </tr>\n  </tbody>\n</table>\n</div>"
     },
     "execution_count": 7,
     "metadata": {},
     "output_type": "execute_result"
    }
   ],
   "source": [
    "df.sort_values(by='Price', ascending=False)"
   ],
   "metadata": {
    "collapsed": false,
    "ExecuteTime": {
     "end_time": "2024-03-24T09:13:04.790114Z",
     "start_time": "2024-03-24T09:13:04.782908Z"
    }
   },
   "id": "52d9a99100180390",
   "execution_count": 7
  },
  {
   "cell_type": "code",
   "outputs": [
    {
     "data": {
      "text/plain": "               Book Title               Author    Genre  Price  Copies Sold\n0        The Great Gatsby  F. Scott Fitzgerald  Classic  10.99          500\n1   To Kill a Mockingbird           Harper Lee  Classic   8.99          600\n3     Pride and Prejudice          Jane Austen  Classic  11.99          300\n4  The Catcher in the Rye        J.D. Salinger  Classic   9.99          450",
      "text/html": "<div>\n<style scoped>\n    .dataframe tbody tr th:only-of-type {\n        vertical-align: middle;\n    }\n\n    .dataframe tbody tr th {\n        vertical-align: top;\n    }\n\n    .dataframe thead th {\n        text-align: right;\n    }\n</style>\n<table border=\"1\" class=\"dataframe\">\n  <thead>\n    <tr style=\"text-align: right;\">\n      <th></th>\n      <th>Book Title</th>\n      <th>Author</th>\n      <th>Genre</th>\n      <th>Price</th>\n      <th>Copies Sold</th>\n    </tr>\n  </thead>\n  <tbody>\n    <tr>\n      <th>0</th>\n      <td>The Great Gatsby</td>\n      <td>F. Scott Fitzgerald</td>\n      <td>Classic</td>\n      <td>10.99</td>\n      <td>500</td>\n    </tr>\n    <tr>\n      <th>1</th>\n      <td>To Kill a Mockingbird</td>\n      <td>Harper Lee</td>\n      <td>Classic</td>\n      <td>8.99</td>\n      <td>600</td>\n    </tr>\n    <tr>\n      <th>3</th>\n      <td>Pride and Prejudice</td>\n      <td>Jane Austen</td>\n      <td>Classic</td>\n      <td>11.99</td>\n      <td>300</td>\n    </tr>\n    <tr>\n      <th>4</th>\n      <td>The Catcher in the Rye</td>\n      <td>J.D. Salinger</td>\n      <td>Classic</td>\n      <td>9.99</td>\n      <td>450</td>\n    </tr>\n  </tbody>\n</table>\n</div>"
     },
     "execution_count": 8,
     "metadata": {},
     "output_type": "execute_result"
    }
   ],
   "source": [
    "df[df['Genre']=='Classic'].head()"
   ],
   "metadata": {
    "collapsed": false,
    "ExecuteTime": {
     "end_time": "2024-03-24T09:19:28.832208Z",
     "start_time": "2024-03-24T09:19:28.823046Z"
    }
   },
   "id": "38ab3744f7d7caf",
   "execution_count": 8
  },
  {
   "cell_type": "code",
   "outputs": [
    {
     "data": {
      "text/plain": "<Axes: xlabel='Author'>"
     },
     "execution_count": 14,
     "metadata": {},
     "output_type": "execute_result"
    },
    {
     "data": {
      "text/plain": "<Figure size 640x480 with 1 Axes>",
      "image/png": "[encoded data removed]"
     },
     "metadata": {},
     "output_type": "display_data"
    }
   ],
   "source": [
    "df.groupby('Author')['Copies Sold'].sum().plot(kind='bar')"
   ],
   "metadata": {
    "collapsed": false,
    "ExecuteTime": {
     "end_time": "2024-03-24T09:26:50.103132Z",
     "start_time": "2024-03-24T09:26:49.423579Z"
    }
   },
   "id": "52b4554bb98069c5",
   "execution_count": 14
  },
  {
   "cell_type": "code",
   "outputs": [],
   "source": [],
   "metadata": {
    "collapsed": false
   },
   "id": "3b8db7b14fb00893"
  }
 ],
 "metadata": {
  "kernelspec": {
   "display_name": "Python 3",
   "language": "python",
   "name": "python3"
  },
  "language_info": {
   "codemirror_mode": {
    "name": "ipython",
    "version": 2
   },
   "file_extension": ".py",
   "mimetype": "text/x-python",
   "name": "python",
   "nbconvert_exporter": "python",
   "pygments_lexer": "ipython2",
   "version": "2.7.6"
  }
 },
 "nbformat": 4,
 "nbformat_minor": 5
}
