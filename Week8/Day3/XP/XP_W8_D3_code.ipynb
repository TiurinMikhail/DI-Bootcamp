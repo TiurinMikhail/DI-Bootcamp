{
 "cells": [
  {
   "cell_type": "code",
   "execution_count": 46,
   "id": "initial_id",
   "metadata": {
    "collapsed": true,
    "ExecuteTime": {
     "end_time": "2024-05-21T18:45:13.348843Z",
     "start_time": "2024-05-21T18:45:13.341521Z"
    }
   },
   "outputs": [],
   "source": [
    "data = {\n",
    "    'Review': [\n",
    "        'At McDonald\\'s the food was ok and the service was bad.',\n",
    "        'I would not recommend this Japanese restaurant to anyone.',\n",
    "        'I loved this restaurant when I traveled to Thailand last summer.',\n",
    "        'The menu of Loving has a wide variety of options.',\n",
    "        'The staff was friendly and helpful at Google\\'s employees restaurant.',\n",
    "        'The ambiance at Bella Italia is amazing, and the pasta dishes are delicious.',\n",
    "        'I had a terrible experience at Pizza Hut. The pizza was burnt, and the service was slow.',\n",
    "        'The sushi at Sushi Express is always fresh and flavorful.',\n",
    "        'The steakhouse on Main Street has a cozy atmosphere and excellent steaks.',\n",
    "        'The dessert selection at Sweet Treats is to die for!'\n",
    "    ]\n",
    "}\n"
   ]
  },
  {
   "cell_type": "code",
   "outputs": [],
   "source": [
    "import nltk\n",
    "from nltk.tokenize import word_tokenize\n",
    "from nltk.corpus import stopwords\n",
    "from nltk.stem import WordNetLemmatizer\n",
    "import string\n",
    "\n",
    "# nltk.download('punkt')\n",
    "# nltk.download('wordnet')\n",
    "# nltk.download('stopwords')\n",
    "\n",
    "def preprocess_text(text):\n",
    "    text = text.lower()\n",
    "    tokens = word_tokenize(text)\n",
    "    tokens = [word for word in tokens if word.isalpha()]\n",
    "    lemmatizer = WordNetLemmatizer()\n",
    "    tokens = [lemmatizer.lemmatize(word) for word in tokens]\n",
    "    preprocessed_text = ' '.join(tokens)\n",
    "    return preprocessed_text"
   ],
   "metadata": {
    "collapsed": false,
    "ExecuteTime": {
     "end_time": "2024-05-21T18:45:13.432449Z",
     "start_time": "2024-05-21T18:45:13.425506Z"
    }
   },
   "id": "1d28f852b384071",
   "execution_count": 47
  },
  {
   "cell_type": "code",
   "outputs": [
    {
     "name": "stdout",
     "output_type": "stream",
     "text": [
      "at mcdonald the food wa ok and the service wa bad\n",
      "i would not recommend this japanese restaurant to anyone\n",
      "i loved this restaurant when i traveled to thailand last summer\n",
      "the menu of loving ha a wide variety of option\n",
      "the staff wa friendly and helpful at google employee restaurant\n",
      "the ambiance at bella italia is amazing and the pasta dish are delicious\n",
      "i had a terrible experience at pizza hut the pizza wa burnt and the service wa slow\n",
      "the sushi at sushi express is always fresh and flavorful\n",
      "the steakhouse on main street ha a cozy atmosphere and excellent steak\n",
      "the dessert selection at sweet treat is to die for\n"
     ]
    }
   ],
   "source": [
    "for review in data['Review']:\n",
    "    preprocessed_text= preprocess_text(review)\n",
    "    print(preprocessed_text)"
   ],
   "metadata": {
    "collapsed": false,
    "ExecuteTime": {
     "end_time": "2024-05-21T18:45:13.460630Z",
     "start_time": "2024-05-21T18:45:13.449542Z"
    }
   },
   "id": "50817314989666fd",
   "execution_count": 48
  },
  {
   "cell_type": "code",
   "outputs": [],
   "source": [
    "import pandas as pd"
   ],
   "metadata": {
    "collapsed": false,
    "ExecuteTime": {
     "end_time": "2024-05-21T18:45:13.478656Z",
     "start_time": "2024-05-21T18:45:13.473643Z"
    }
   },
   "id": "4045c61cc6d3c442",
   "execution_count": 49
  },
  {
   "cell_type": "code",
   "outputs": [],
   "source": [
    "df = pd.DataFrame(data)"
   ],
   "metadata": {
    "collapsed": false,
    "ExecuteTime": {
     "end_time": "2024-05-21T18:45:13.489832Z",
     "start_time": "2024-05-21T18:45:13.480664Z"
    }
   },
   "id": "f38f72b9a9d86e46",
   "execution_count": 50
  },
  {
   "cell_type": "code",
   "outputs": [
    {
     "data": {
      "text/plain": "                                              Review\n0  At McDonald's the food was ok and the service ...\n1  I would not recommend this Japanese restaurant...\n2  I loved this restaurant when I traveled to Tha...\n3  The menu of Loving has a wide variety of options.\n4  The staff was friendly and helpful at Google's...\n5  The ambiance at Bella Italia is amazing, and t...\n6  I had a terrible experience at Pizza Hut. The ...\n7  The sushi at Sushi Express is always fresh and...\n8  The steakhouse on Main Street has a cozy atmos...\n9  The dessert selection at Sweet Treats is to di...",
      "text/html": "<div>\n<style scoped>\n    .dataframe tbody tr th:only-of-type {\n        vertical-align: middle;\n    }\n\n    .dataframe tbody tr th {\n        vertical-align: top;\n    }\n\n    .dataframe thead th {\n        text-align: right;\n    }\n</style>\n<table border=\"1\" class=\"dataframe\">\n  <thead>\n    <tr style=\"text-align: right;\">\n      <th></th>\n      <th>Review</th>\n    </tr>\n  </thead>\n  <tbody>\n    <tr>\n      <th>0</th>\n      <td>At McDonald's the food was ok and the service ...</td>\n    </tr>\n    <tr>\n      <th>1</th>\n      <td>I would not recommend this Japanese restaurant...</td>\n    </tr>\n    <tr>\n      <th>2</th>\n      <td>I loved this restaurant when I traveled to Tha...</td>\n    </tr>\n    <tr>\n      <th>3</th>\n      <td>The menu of Loving has a wide variety of options.</td>\n    </tr>\n    <tr>\n      <th>4</th>\n      <td>The staff was friendly and helpful at Google's...</td>\n    </tr>\n    <tr>\n      <th>5</th>\n      <td>The ambiance at Bella Italia is amazing, and t...</td>\n    </tr>\n    <tr>\n      <th>6</th>\n      <td>I had a terrible experience at Pizza Hut. The ...</td>\n    </tr>\n    <tr>\n      <th>7</th>\n      <td>The sushi at Sushi Express is always fresh and...</td>\n    </tr>\n    <tr>\n      <th>8</th>\n      <td>The steakhouse on Main Street has a cozy atmos...</td>\n    </tr>\n    <tr>\n      <th>9</th>\n      <td>The dessert selection at Sweet Treats is to di...</td>\n    </tr>\n  </tbody>\n</table>\n</div>"
     },
     "execution_count": 51,
     "metadata": {},
     "output_type": "execute_result"
    }
   ],
   "source": [
    "df"
   ],
   "metadata": {
    "collapsed": false,
    "ExecuteTime": {
     "end_time": "2024-05-21T18:45:13.504774Z",
     "start_time": "2024-05-21T18:45:13.492838Z"
    }
   },
   "id": "b8dfcd2c82d85365",
   "execution_count": 51
  },
  {
   "cell_type": "code",
   "outputs": [],
   "source": [
    "df['preprocessed_text'] = df['Review'].apply(preprocess_text)"
   ],
   "metadata": {
    "collapsed": false,
    "ExecuteTime": {
     "end_time": "2024-05-21T18:45:13.515695Z",
     "start_time": "2024-05-21T18:45:13.506781Z"
    }
   },
   "id": "e4460acc1182522f",
   "execution_count": 52
  },
  {
   "cell_type": "code",
   "outputs": [
    {
     "data": {
      "text/plain": "                                              Review  \\\n0  At McDonald's the food was ok and the service ...   \n1  I would not recommend this Japanese restaurant...   \n2  I loved this restaurant when I traveled to Tha...   \n3  The menu of Loving has a wide variety of options.   \n4  The staff was friendly and helpful at Google's...   \n5  The ambiance at Bella Italia is amazing, and t...   \n6  I had a terrible experience at Pizza Hut. The ...   \n7  The sushi at Sushi Express is always fresh and...   \n8  The steakhouse on Main Street has a cozy atmos...   \n9  The dessert selection at Sweet Treats is to di...   \n\n                                   preprocessed_text  \n0  at mcdonald the food wa ok and the service wa bad  \n1  i would not recommend this japanese restaurant...  \n2  i loved this restaurant when i traveled to tha...  \n3     the menu of loving ha a wide variety of option  \n4  the staff wa friendly and helpful at google em...  \n5  the ambiance at bella italia is amazing and th...  \n6  i had a terrible experience at pizza hut the p...  \n7  the sushi at sushi express is always fresh and...  \n8  the steakhouse on main street ha a cozy atmosp...  \n9  the dessert selection at sweet treat is to die...  ",
      "text/html": "<div>\n<style scoped>\n    .dataframe tbody tr th:only-of-type {\n        vertical-align: middle;\n    }\n\n    .dataframe tbody tr th {\n        vertical-align: top;\n    }\n\n    .dataframe thead th {\n        text-align: right;\n    }\n</style>\n<table border=\"1\" class=\"dataframe\">\n  <thead>\n    <tr style=\"text-align: right;\">\n      <th></th>\n      <th>Review</th>\n      <th>preprocessed_text</th>\n    </tr>\n  </thead>\n  <tbody>\n    <tr>\n      <th>0</th>\n      <td>At McDonald's the food was ok and the service ...</td>\n      <td>at mcdonald the food wa ok and the service wa bad</td>\n    </tr>\n    <tr>\n      <th>1</th>\n      <td>I would not recommend this Japanese restaurant...</td>\n      <td>i would not recommend this japanese restaurant...</td>\n    </tr>\n    <tr>\n      <th>2</th>\n      <td>I loved this restaurant when I traveled to Tha...</td>\n      <td>i loved this restaurant when i traveled to tha...</td>\n    </tr>\n    <tr>\n      <th>3</th>\n      <td>The menu of Loving has a wide variety of options.</td>\n      <td>the menu of loving ha a wide variety of option</td>\n    </tr>\n    <tr>\n      <th>4</th>\n      <td>The staff was friendly and helpful at Google's...</td>\n      <td>the staff wa friendly and helpful at google em...</td>\n    </tr>\n    <tr>\n      <th>5</th>\n      <td>The ambiance at Bella Italia is amazing, and t...</td>\n      <td>the ambiance at bella italia is amazing and th...</td>\n    </tr>\n    <tr>\n      <th>6</th>\n      <td>I had a terrible experience at Pizza Hut. The ...</td>\n      <td>i had a terrible experience at pizza hut the p...</td>\n    </tr>\n    <tr>\n      <th>7</th>\n      <td>The sushi at Sushi Express is always fresh and...</td>\n      <td>the sushi at sushi express is always fresh and...</td>\n    </tr>\n    <tr>\n      <th>8</th>\n      <td>The steakhouse on Main Street has a cozy atmos...</td>\n      <td>the steakhouse on main street ha a cozy atmosp...</td>\n    </tr>\n    <tr>\n      <th>9</th>\n      <td>The dessert selection at Sweet Treats is to di...</td>\n      <td>the dessert selection at sweet treat is to die...</td>\n    </tr>\n  </tbody>\n</table>\n</div>"
     },
     "execution_count": 53,
     "metadata": {},
     "output_type": "execute_result"
    }
   ],
   "source": [
    "df"
   ],
   "metadata": {
    "collapsed": false,
    "ExecuteTime": {
     "end_time": "2024-05-21T18:45:13.528588Z",
     "start_time": "2024-05-21T18:45:13.518701Z"
    }
   },
   "id": "5e5e9b9b7c7c7185",
   "execution_count": 53
  },
  {
   "cell_type": "code",
   "outputs": [],
   "source": [
    "df_preprocessed = df['preprocessed_text']\n",
    "df_raw = df['Review']"
   ],
   "metadata": {
    "collapsed": false,
    "ExecuteTime": {
     "end_time": "2024-05-21T18:45:13.536060Z",
     "start_time": "2024-05-21T18:45:13.529593Z"
    }
   },
   "id": "314d2cb6eb51ca7c",
   "execution_count": 54
  },
  {
   "cell_type": "code",
   "outputs": [
    {
     "name": "stdout",
     "output_type": "stream",
     "text": [
      "[('Apple', 'ORG'), ('U.K.', 'GPE'), ('$1 billion', 'MONEY'), ('January 5, 2022', 'DATE')]\n"
     ]
    }
   ],
   "source": [
    "import  spacy\n",
    "\n",
    "nlp = spacy.load(\"en_core_web_sm\")\n",
    "\n",
    "def perform_ner(text):\n",
    "    doc = nlp(text)\n",
    "    \n",
    "    # Extract entities and their labels\n",
    "    entities = [(ent.text, ent.label_) for ent in doc.ents]\n",
    "    \n",
    "    return entities\n",
    "\n",
    "# Example usage\n",
    "sample_text = \"Apple is looking at buying U.K. startup for $1 billion on January 5, 2022.\"\n",
    "entities = perform_ner(sample_text)\n",
    "print(entities)     "
   ],
   "metadata": {
    "collapsed": false,
    "ExecuteTime": {
     "end_time": "2024-05-21T18:45:13.995313Z",
     "start_time": "2024-05-21T18:45:13.537067Z"
    }
   },
   "id": "146435ceadacc99e",
   "execution_count": 55
  },
  {
   "cell_type": "code",
   "outputs": [],
   "source": [
    "from nltk import pos_tag\n",
    "from nltk.tokenize import word_tokenize\n",
    "def perform_pos_tagging(text):\n",
    "    tokens = word_tokenize(text)\n",
    "    pos_tags = pos_tag(tokens)\n",
    "    return pos_tags"
   ],
   "metadata": {
    "collapsed": false,
    "ExecuteTime": {
     "end_time": "2024-05-21T18:45:14.000426Z",
     "start_time": "2024-05-21T18:45:13.996319Z"
    }
   },
   "id": "15d4349d5e5ee03a",
   "execution_count": 56
  },
  {
   "cell_type": "code",
   "outputs": [
    {
     "name": "stdout",
     "output_type": "stream",
     "text": [
      "[('At', 'IN')]\n",
      "[('McDonald', 'NNP'), (\"'s\", 'POS')]\n",
      "[('the', 'DT')]\n",
      "[('food', 'NN')]\n",
      "[('was', 'VBD')]\n",
      "[('ok', 'NN')]\n",
      "[('and', 'CC')]\n",
      "[('the', 'DT')]\n",
      "[('service', 'NN')]\n",
      "[('was', 'VBD')]\n",
      "[('bad', 'JJ'), ('.', '.')]\n",
      "[('I', 'PRP')]\n",
      "[('would', 'MD')]\n",
      "[('not', 'RB')]\n",
      "[('recommend', 'NN')]\n",
      "[('this', 'DT')]\n",
      "[('Japanese', 'JJ')]\n",
      "[('restaurant', 'NN')]\n",
      "[('to', 'TO')]\n",
      "[('anyone', 'NN'), ('.', '.')]\n",
      "[('I', 'PRP')]\n",
      "[('loved', 'VBN')]\n",
      "[('this', 'DT')]\n",
      "[('restaurant', 'NN')]\n",
      "[('when', 'WRB')]\n",
      "[('I', 'PRP')]\n",
      "[('traveled', 'VBD')]\n",
      "[('to', 'TO')]\n",
      "[('Thailand', 'NN')]\n",
      "[('last', 'JJ')]\n",
      "[('summer', 'NN'), ('.', '.')]\n",
      "[('The', 'DT')]\n",
      "[('menu', 'NN')]\n",
      "[('of', 'IN')]\n",
      "[('Loving', 'VBG')]\n",
      "[('has', 'VBZ')]\n",
      "[('a', 'DT')]\n",
      "[('wide', 'JJ')]\n",
      "[('variety', 'NN')]\n",
      "[('of', 'IN')]\n",
      "[('options', 'NNS'), ('.', '.')]\n",
      "[('The', 'DT')]\n",
      "[('staff', 'NN')]\n",
      "[('was', 'VBD')]\n",
      "[('friendly', 'RB')]\n",
      "[('and', 'CC')]\n",
      "[('helpful', 'NN')]\n",
      "[('at', 'IN')]\n",
      "[('Google', 'NNP'), (\"'s\", 'POS')]\n",
      "[('employees', 'NNS')]\n",
      "[('restaurant', 'NN'), ('.', '.')]\n",
      "[('The', 'DT')]\n",
      "[('ambiance', 'NN')]\n",
      "[('at', 'IN')]\n",
      "[('Bella', 'NN')]\n",
      "[('Italia', 'NNS')]\n",
      "[('is', 'VBZ')]\n",
      "[('amazing', 'NN'), (',', ',')]\n",
      "[('and', 'CC')]\n",
      "[('the', 'DT')]\n",
      "[('pasta', 'NN')]\n",
      "[('dishes', 'NNS')]\n",
      "[('are', 'VBP')]\n",
      "[('delicious', 'JJ'), ('.', '.')]\n",
      "[('I', 'PRP')]\n",
      "[('had', 'VBD')]\n",
      "[('a', 'DT')]\n",
      "[('terrible', 'JJ')]\n",
      "[('experience', 'NN')]\n",
      "[('at', 'IN')]\n",
      "[('Pizza', 'NN')]\n",
      "[('Hut', 'NNP'), ('.', '.')]\n",
      "[('The', 'DT')]\n",
      "[('pizza', 'NN')]\n",
      "[('was', 'VBD')]\n",
      "[('burnt', 'NN'), (',', ',')]\n",
      "[('and', 'CC')]\n",
      "[('the', 'DT')]\n",
      "[('service', 'NN')]\n",
      "[('was', 'VBD')]\n",
      "[('slow', 'NN'), ('.', '.')]\n",
      "[('The', 'DT')]\n",
      "[('sushi', 'NN')]\n",
      "[('at', 'IN')]\n",
      "[('Sushi', 'NN')]\n",
      "[('Express', 'NN')]\n",
      "[('is', 'VBZ')]\n",
      "[('always', 'RB')]\n",
      "[('fresh', 'JJ')]\n",
      "[('and', 'CC')]\n",
      "[('flavorful', 'NN'), ('.', '.')]\n",
      "[('The', 'DT')]\n",
      "[('steakhouse', 'NN')]\n",
      "[('on', 'IN')]\n",
      "[('Main', 'NN')]\n",
      "[('Street', 'NNP')]\n",
      "[('has', 'VBZ')]\n",
      "[('a', 'DT')]\n",
      "[('cozy', 'NN')]\n",
      "[('atmosphere', 'RB')]\n",
      "[('and', 'CC')]\n",
      "[('excellent', 'NN')]\n",
      "[('steaks', 'NNS'), ('.', '.')]\n",
      "[('The', 'DT')]\n",
      "[('dessert', 'NN')]\n",
      "[('selection', 'NN')]\n",
      "[('at', 'IN')]\n",
      "[('Sweet', 'NN')]\n",
      "[('Treats', 'NNS')]\n",
      "[('is', 'VBZ')]\n",
      "[('to', 'TO')]\n",
      "[('die', 'NN')]\n",
      "[('for', 'IN'), ('!', '.')]\n"
     ]
    }
   ],
   "source": [
    "for i in df['Review']:\n",
    "   for word in i.split():\n",
    "       print(perform_pos_tagging(word))"
   ],
   "metadata": {
    "collapsed": false,
    "ExecuteTime": {
     "end_time": "2024-05-21T18:45:14.067941Z",
     "start_time": "2024-05-21T18:45:14.001443Z"
    }
   },
   "id": "a8071baaa33564d0",
   "execution_count": 57
  },
  {
   "cell_type": "code",
   "outputs": [
    {
     "name": "stdout",
     "output_type": "stream",
     "text": [
      "NN: noun, common, singular or mass\n",
      "    common-carrier cabbage knuckle-duster Casino afghan shed thermostat\n",
      "    investment slide humour falloff slick wind hyena override subhumanity\n",
      "    machinist ...\n"
     ]
    },
    {
     "name": "stderr",
     "output_type": "stream",
     "text": [
      "[nltk_data] Downloading package tagsets to\n",
      "[nltk_data]     C:\\Users\\v_gol\\AppData\\Roaming\\nltk_data...\n",
      "[nltk_data]   Package tagsets is already up-to-date!\n"
     ]
    }
   ],
   "source": [
    "nltk.download('tagsets')\n",
    "nltk.help.upenn_tagset('NN')"
   ],
   "metadata": {
    "collapsed": false,
    "ExecuteTime": {
     "end_time": "2024-05-21T18:45:14.073005Z",
     "start_time": "2024-05-21T18:45:14.068951Z"
    }
   },
   "id": "68d93eb1dff4f4e2",
   "execution_count": 58
  },
  {
   "cell_type": "code",
   "outputs": [
    {
     "name": "stdout",
     "output_type": "stream",
     "text": [
      "NN: noun, common, singular or mass\n",
      "    common-carrier cabbage knuckle-duster Casino afghan shed thermostat\n",
      "    investment slide humour falloff slick wind hyena override subhumanity\n",
      "    machinist ...\n"
     ]
    }
   ],
   "source": [
    "nltk.help.upenn_tagset('NN')"
   ],
   "metadata": {
    "collapsed": false,
    "ExecuteTime": {
     "end_time": "2024-05-21T18:45:14.084565Z",
     "start_time": "2024-05-21T18:45:14.074012Z"
    }
   },
   "id": "3258fab6b873e86a",
   "execution_count": 59
  },
  {
   "cell_type": "code",
   "outputs": [],
   "source": [
    "df['cleaned_text'] = df['Review'].apply(preprocess_text)\n",
    "df['ner_raw'] = df['Review'].apply(perform_ner)\n",
    "df['ner_cleaned'] = df['Review'].apply(perform_ner)\n",
    "df['pos_raw'] = df['Review'].apply(perform_pos_tagging)\n",
    "df['pos_cleaned'] = df['Review'].apply(perform_pos_tagging)"
   ],
   "metadata": {
    "collapsed": false,
    "ExecuteTime": {
     "end_time": "2024-05-21T18:45:14.230371Z",
     "start_time": "2024-05-21T18:45:14.086829Z"
    }
   },
   "id": "6814781a125a1ada",
   "execution_count": 60
  },
  {
   "cell_type": "code",
   "outputs": [
    {
     "data": {
      "text/plain": "                                              Review  \\\n0  At McDonald's the food was ok and the service ...   \n1  I would not recommend this Japanese restaurant...   \n2  I loved this restaurant when I traveled to Tha...   \n3  The menu of Loving has a wide variety of options.   \n4  The staff was friendly and helpful at Google's...   \n5  The ambiance at Bella Italia is amazing, and t...   \n6  I had a terrible experience at Pizza Hut. The ...   \n7  The sushi at Sushi Express is always fresh and...   \n8  The steakhouse on Main Street has a cozy atmos...   \n9  The dessert selection at Sweet Treats is to di...   \n\n                                   preprocessed_text  \\\n0  at mcdonald the food wa ok and the service wa bad   \n1  i would not recommend this japanese restaurant...   \n2  i loved this restaurant when i traveled to tha...   \n3     the menu of loving ha a wide variety of option   \n4  the staff wa friendly and helpful at google em...   \n5  the ambiance at bella italia is amazing and th...   \n6  i had a terrible experience at pizza hut the p...   \n7  the sushi at sushi express is always fresh and...   \n8  the steakhouse on main street ha a cozy atmosp...   \n9  the dessert selection at sweet treat is to die...   \n\n                                        cleaned_text  \\\n0  at mcdonald the food wa ok and the service wa bad   \n1  i would not recommend this japanese restaurant...   \n2  i loved this restaurant when i traveled to tha...   \n3     the menu of loving ha a wide variety of option   \n4  the staff wa friendly and helpful at google em...   \n5  the ambiance at bella italia is amazing and th...   \n6  i had a terrible experience at pizza hut the p...   \n7  the sushi at sushi express is always fresh and...   \n8  the steakhouse on main street ha a cozy atmosp...   \n9  the dessert selection at sweet treat is to die...   \n\n                                  ner_raw  \\\n0                     [(McDonald's, ORG)]   \n1                      [(Japanese, NORP)]   \n2  [(Thailand, GPE), (last summer, DATE)]   \n3                         [(Loving, GPE)]   \n4                         [(Google, ORG)]   \n5                   [(Bella Italia, ORG)]   \n6                      [(Pizza Hut, ORG)]   \n7                  [(Sushi Express, ORG)]   \n8                    [(Main Street, FAC)]   \n9                   [(Sweet Treats, FAC)]   \n\n                              ner_cleaned  \\\n0                     [(McDonald's, ORG)]   \n1                      [(Japanese, NORP)]   \n2  [(Thailand, GPE), (last summer, DATE)]   \n3                         [(Loving, GPE)]   \n4                         [(Google, ORG)]   \n5                   [(Bella Italia, ORG)]   \n6                      [(Pizza Hut, ORG)]   \n7                  [(Sushi Express, ORG)]   \n8                    [(Main Street, FAC)]   \n9                   [(Sweet Treats, FAC)]   \n\n                                             pos_raw  \\\n0  [(At, IN), (McDonald, NNP), ('s, POS), (the, D...   \n1  [(I, PRP), (would, MD), (not, RB), (recommend,...   \n2  [(I, PRP), (loved, VBD), (this, DT), (restaura...   \n3  [(The, DT), (menu, NN), (of, IN), (Loving, NNP...   \n4  [(The, DT), (staff, NN), (was, VBD), (friendly...   \n5  [(The, DT), (ambiance, NN), (at, IN), (Bella, ...   \n6  [(I, PRP), (had, VBD), (a, DT), (terrible, JJ)...   \n7  [(The, DT), (sushi, NN), (at, IN), (Sushi, NNP...   \n8  [(The, DT), (steakhouse, NN), (on, IN), (Main,...   \n9  [(The, DT), (dessert, JJ), (selection, NN), (a...   \n\n                                         pos_cleaned  \n0  [(At, IN), (McDonald, NNP), ('s, POS), (the, D...  \n1  [(I, PRP), (would, MD), (not, RB), (recommend,...  \n2  [(I, PRP), (loved, VBD), (this, DT), (restaura...  \n3  [(The, DT), (menu, NN), (of, IN), (Loving, NNP...  \n4  [(The, DT), (staff, NN), (was, VBD), (friendly...  \n5  [(The, DT), (ambiance, NN), (at, IN), (Bella, ...  \n6  [(I, PRP), (had, VBD), (a, DT), (terrible, JJ)...  \n7  [(The, DT), (sushi, NN), (at, IN), (Sushi, NNP...  \n8  [(The, DT), (steakhouse, NN), (on, IN), (Main,...  \n9  [(The, DT), (dessert, JJ), (selection, NN), (a...  ",
      "text/html": "<div>\n<style scoped>\n    .dataframe tbody tr th:only-of-type {\n        vertical-align: middle;\n    }\n\n    .dataframe tbody tr th {\n        vertical-align: top;\n    }\n\n    .dataframe thead th {\n        text-align: right;\n    }\n</style>\n<table border=\"1\" class=\"dataframe\">\n  <thead>\n    <tr style=\"text-align: right;\">\n      <th></th>\n      <th>Review</th>\n      <th>preprocessed_text</th>\n      <th>cleaned_text</th>\n      <th>ner_raw</th>\n      <th>ner_cleaned</th>\n      <th>pos_raw</th>\n      <th>pos_cleaned</th>\n    </tr>\n  </thead>\n  <tbody>\n    <tr>\n      <th>0</th>\n      <td>At McDonald's the food was ok and the service ...</td>\n      <td>at mcdonald the food wa ok and the service wa bad</td>\n      <td>at mcdonald the food wa ok and the service wa bad</td>\n      <td>[(McDonald's, ORG)]</td>\n      <td>[(McDonald's, ORG)]</td>\n      <td>[(At, IN), (McDonald, NNP), ('s, POS), (the, D...</td>\n      <td>[(At, IN), (McDonald, NNP), ('s, POS), (the, D...</td>\n    </tr>\n    <tr>\n      <th>1</th>\n      <td>I would not recommend this Japanese restaurant...</td>\n      <td>i would not recommend this japanese restaurant...</td>\n      <td>i would not recommend this japanese restaurant...</td>\n      <td>[(Japanese, NORP)]</td>\n      <td>[(Japanese, NORP)]</td>\n      <td>[(I, PRP), (would, MD), (not, RB), (recommend,...</td>\n      <td>[(I, PRP), (would, MD), (not, RB), (recommend,...</td>\n    </tr>\n    <tr>\n      <th>2</th>\n      <td>I loved this restaurant when I traveled to Tha...</td>\n      <td>i loved this restaurant when i traveled to tha...</td>\n      <td>i loved this restaurant when i traveled to tha...</td>\n      <td>[(Thailand, GPE), (last summer, DATE)]</td>\n      <td>[(Thailand, GPE), (last summer, DATE)]</td>\n      <td>[(I, PRP), (loved, VBD), (this, DT), (restaura...</td>\n      <td>[(I, PRP), (loved, VBD), (this, DT), (restaura...</td>\n    </tr>\n    <tr>\n      <th>3</th>\n      <td>The menu of Loving has a wide variety of options.</td>\n      <td>the menu of loving ha a wide variety of option</td>\n      <td>the menu of loving ha a wide variety of option</td>\n      <td>[(Loving, GPE)]</td>\n      <td>[(Loving, GPE)]</td>\n      <td>[(The, DT), (menu, NN), (of, IN), (Loving, NNP...</td>\n      <td>[(The, DT), (menu, NN), (of, IN), (Loving, NNP...</td>\n    </tr>\n    <tr>\n      <th>4</th>\n      <td>The staff was friendly and helpful at Google's...</td>\n      <td>the staff wa friendly and helpful at google em...</td>\n      <td>the staff wa friendly and helpful at google em...</td>\n      <td>[(Google, ORG)]</td>\n      <td>[(Google, ORG)]</td>\n      <td>[(The, DT), (staff, NN), (was, VBD), (friendly...</td>\n      <td>[(The, DT), (staff, NN), (was, VBD), (friendly...</td>\n    </tr>\n    <tr>\n      <th>5</th>\n      <td>The ambiance at Bella Italia is amazing, and t...</td>\n      <td>the ambiance at bella italia is amazing and th...</td>\n      <td>the ambiance at bella italia is amazing and th...</td>\n      <td>[(Bella Italia, ORG)]</td>\n      <td>[(Bella Italia, ORG)]</td>\n      <td>[(The, DT), (ambiance, NN), (at, IN), (Bella, ...</td>\n      <td>[(The, DT), (ambiance, NN), (at, IN), (Bella, ...</td>\n    </tr>\n    <tr>\n      <th>6</th>\n      <td>I had a terrible experience at Pizza Hut. The ...</td>\n      <td>i had a terrible experience at pizza hut the p...</td>\n      <td>i had a terrible experience at pizza hut the p...</td>\n      <td>[(Pizza Hut, ORG)]</td>\n      <td>[(Pizza Hut, ORG)]</td>\n      <td>[(I, PRP), (had, VBD), (a, DT), (terrible, JJ)...</td>\n      <td>[(I, PRP), (had, VBD), (a, DT), (terrible, JJ)...</td>\n    </tr>\n    <tr>\n      <th>7</th>\n      <td>The sushi at Sushi Express is always fresh and...</td>\n      <td>the sushi at sushi express is always fresh and...</td>\n      <td>the sushi at sushi express is always fresh and...</td>\n      <td>[(Sushi Express, ORG)]</td>\n      <td>[(Sushi Express, ORG)]</td>\n      <td>[(The, DT), (sushi, NN), (at, IN), (Sushi, NNP...</td>\n      <td>[(The, DT), (sushi, NN), (at, IN), (Sushi, NNP...</td>\n    </tr>\n    <tr>\n      <th>8</th>\n      <td>The steakhouse on Main Street has a cozy atmos...</td>\n      <td>the steakhouse on main street ha a cozy atmosp...</td>\n      <td>the steakhouse on main street ha a cozy atmosp...</td>\n      <td>[(Main Street, FAC)]</td>\n      <td>[(Main Street, FAC)]</td>\n      <td>[(The, DT), (steakhouse, NN), (on, IN), (Main,...</td>\n      <td>[(The, DT), (steakhouse, NN), (on, IN), (Main,...</td>\n    </tr>\n    <tr>\n      <th>9</th>\n      <td>The dessert selection at Sweet Treats is to di...</td>\n      <td>the dessert selection at sweet treat is to die...</td>\n      <td>the dessert selection at sweet treat is to die...</td>\n      <td>[(Sweet Treats, FAC)]</td>\n      <td>[(Sweet Treats, FAC)]</td>\n      <td>[(The, DT), (dessert, JJ), (selection, NN), (a...</td>\n      <td>[(The, DT), (dessert, JJ), (selection, NN), (a...</td>\n    </tr>\n  </tbody>\n</table>\n</div>"
     },
     "execution_count": 61,
     "metadata": {},
     "output_type": "execute_result"
    }
   ],
   "source": [
    "df"
   ],
   "metadata": {
    "collapsed": false,
    "ExecuteTime": {
     "end_time": "2024-05-21T18:45:14.274621Z",
     "start_time": "2024-05-21T18:45:14.231378Z"
    }
   },
   "id": "1376dd6f992cf0ab",
   "execution_count": 61
  }
 ],
 "metadata": {
  "kernelspec": {
   "display_name": "Python 3",
   "language": "python",
   "name": "python3"
  },
  "language_info": {
   "codemirror_mode": {
    "name": "ipython",
    "version": 2
   },
   "file_extension": ".py",
   "mimetype": "text/x-python",
   "name": "python",
   "nbconvert_exporter": "python",
   "pygments_lexer": "ipython2",
   "version": "2.7.6"
  }
 },
 "nbformat": 4,
 "nbformat_minor": 5
}
