{
 "cells": [
  {
   "cell_type": "code",
   "outputs": [],
   "source": [
    "import pandas as pd\n",
    "import numpy as np\n",
    "import matplotlib.pyplot as plt\n",
    "import seaborn as sns"
   ],
   "metadata": {
    "collapsed": false,
    "ExecuteTime": {
     "end_time": "2024-05-08T14:16:10.546582Z",
     "start_time": "2024-05-08T14:16:10.544144Z"
    }
   },
   "id": "f2d34ae4ad6821bd",
   "execution_count": 1
  },
  {
   "cell_type": "code",
   "execution_count": 2,
   "id": "initial_id",
   "metadata": {
    "collapsed": true,
    "ExecuteTime": {
     "end_time": "2024-05-08T14:16:10.710648Z",
     "start_time": "2024-05-08T14:16:10.547587Z"
    }
   },
   "outputs": [],
   "source": [
    "from sklearn.model_selection import train_test_split"
   ]
  },
  {
   "cell_type": "code",
   "outputs": [],
   "source": [
    "from sklearn.linear_model import LogisticRegression"
   ],
   "metadata": {
    "collapsed": false,
    "ExecuteTime": {
     "end_time": "2024-05-08T14:16:10.764748Z",
     "start_time": "2024-05-08T14:16:10.711654Z"
    }
   },
   "id": "da0868fbd383e408",
   "execution_count": 3
  },
  {
   "cell_type": "code",
   "outputs": [],
   "source": [
    "from sklearn.metrics import accuracy_score"
   ],
   "metadata": {
    "collapsed": false,
    "ExecuteTime": {
     "end_time": "2024-05-08T14:16:10.768354Z",
     "start_time": "2024-05-08T14:16:10.765754Z"
    }
   },
   "id": "a2303fc26cea9f9c",
   "execution_count": 4
  },
  {
   "cell_type": "code",
   "outputs": [],
   "source": [
    "df_data = pd.read_csv('data.csv')"
   ],
   "metadata": {
    "collapsed": false,
    "ExecuteTime": {
     "end_time": "2024-05-08T14:16:10.780063Z",
     "start_time": "2024-05-08T14:16:10.769359Z"
    }
   },
   "id": "9caa6d8976c01115",
   "execution_count": 5
  },
  {
   "cell_type": "code",
   "outputs": [],
   "source": [
    "df_data.info()"
   ],
   "metadata": {
    "collapsed": false
   },
   "id": "37ef4d8eacfccd18",
   "execution_count": null
  },
  {
   "cell_type": "code",
   "outputs": [],
   "source": [
    "df_data.isnull().sum()"
   ],
   "metadata": {
    "collapsed": false
   },
   "id": "f6645e6ec0d3098d",
   "execution_count": null
  },
  {
   "cell_type": "code",
   "outputs": [],
   "source": [
    "print(\"First few rows of the dataset:\")\n",
    "print(df_data.head())\n",
    "\n",
    "print(\"\\nMissing values in the dataset:\")\n",
    "print(df_data.isnull().sum())\n",
    "\n",
    "df_data.drop(columns=['Unnamed: 32'], inplace=True)\n",
    "\n",
    "plt.figure(figsize=(8, 6))\n",
    "sns.countplot(data=df_data, x='diagnosis', palette='magma', hue='diagnosis', legend=False)\n",
    "plt.title('Diagnosis Count')\n",
    "plt.xlabel('Diagnosis')\n",
    "plt.ylabel('Count')\n",
    "plt.show()"
   ],
   "metadata": {
    "collapsed": false
   },
   "id": "4660bca4e95f5016",
   "execution_count": null
  },
  {
   "cell_type": "code",
   "outputs": [],
   "source": [
    "from sklearn.model_selection import train_test_split\n",
    "from sklearn.preprocessing import LabelEncoder\n",
    "from sklearn.linear_model import LogisticRegression\n",
    "from sklearn.metrics import accuracy_score\n",
    "\n",
    "# Counts of unique rows in the ‘diagnosis’ column\n",
    "print(\"Counts of unique rows in the ‘diagnosis’ column:\")\n",
    "print(df_data['diagnosis'].value_counts())\n",
    "\n",
    "# Map categorical values to numerical values\n",
    "label_encoder = LabelEncoder()\n",
    "df_data['diagnosis'] = label_encoder.fit_transform(df_data['diagnosis'])\n",
    "\n",
    "# Splitting the data into train and test\n",
    "X = df_data.drop(columns=['diagnosis'])\n",
    "y = df_data['diagnosis']\n",
    "X_train, X_test, y_train, y_test = train_test_split(X, y, test_size=0.2, random_state=42)\n",
    "\n",
    "# Implement logistic regression\n",
    "logistic_regression_model = LogisticRegression(max_iter=1000) \n",
    "logistic_regression_model.fit(X_train, y_train)\n",
    "\n",
    "# Print the accuracy\n",
    "y_pred = logistic_regression_model.predict(X_test)\n",
    "accuracy = accuracy_score(y_test, y_pred)\n",
    "print(\"Accuracy:\", accuracy)\n"
   ],
   "metadata": {
    "collapsed": false
   },
   "id": "4c3acee33f1e3ef8",
   "execution_count": null
  },
  {
   "cell_type": "code",
   "outputs": [],
   "source": [
    "from sklearn.neighbors import KNeighborsClassifier\n",
    "from sklearn.ensemble import RandomForestClassifier\n",
    "from sklearn.svm import SVC\n",
    "\n",
    "# Implement K Nearest Neighbours (KNN)\n",
    "knn_model = KNeighborsClassifier()\n",
    "knn_model.fit(X_train, y_train)\n",
    "knn_accuracy = knn_model.score(X_test, y_test)\n",
    "print(\"KNN Accuracy:\", knn_accuracy)\n",
    "\n",
    "# Implement Random Forests\n",
    "rf_model = RandomForestClassifier()\n",
    "rf_model.fit(X_train, y_train)\n",
    "rf_accuracy = rf_model.score(X_test, y_test)\n",
    "print(\"Random Forests Accuracy:\", rf_accuracy)\n",
    "\n",
    "# Implement Support Vector Machines (SVM)\n",
    "svm_model = SVC()\n",
    "svm_model.fit(X_train, y_train)\n",
    "svm_accuracy = svm_model.score(X_test, y_test)\n",
    "print(\"SVM Accuracy:\", svm_accuracy)\n",
    "\n",
    "# Compare accuracies and determine the best model\n",
    "best_model = max(knn_accuracy, rf_accuracy, svm_accuracy)\n",
    "if best_model == knn_accuracy:\n",
    "    print(\"K Nearest Neighbours (KNN) is the best model.\")\n",
    "elif best_model == rf_accuracy:\n",
    "    print(\"Random Forests is the best model.\")\n",
    "else:\n",
    "    print(\"Support Vector Machines (SVM) is the best model.\")"
   ],
   "metadata": {
    "collapsed": false
   },
   "id": "d0cc324cd6e1c1ea",
   "execution_count": null
  },
  {
   "cell_type": "code",
   "outputs": [],
   "source": [],
   "metadata": {
    "collapsed": false
   },
   "id": "3a46a961b7765e8d"
  },
  {
   "cell_type": "code",
   "outputs": [],
   "source": [],
   "metadata": {
    "collapsed": false
   },
   "id": "e6ef0181c82b5119"
  }
 ],
 "metadata": {
  "kernelspec": {
   "display_name": "Python 3",
   "language": "python",
   "name": "python3"
  },
  "language_info": {
   "codemirror_mode": {
    "name": "ipython",
    "version": 2
   },
   "file_extension": ".py",
   "mimetype": "text/x-python",
   "name": "python",
   "nbconvert_exporter": "python",
   "pygments_lexer": "ipython2",
   "version": "2.7.6"
  }
 },
 "nbformat": 4,
 "nbformat_minor": 5
}
