{
 "cells": [
  {
   "cell_type": "markdown",
   "metadata": {},
   "source": [
    "Exercise 1 : Exploring JavaScript Variables And Data Types\n",
    "--"
   ]
  },
  {
   "cell_type": "markdown",
   "metadata": {},
   "source": [
    "Create a JavaScript script that defines variables of different data types and logs them to the console.\n",
    "Instructions"
   ]
  },
  {
   "cell_type": "markdown",
   "metadata": {},
   "source": [
    "You shoukd check the script.html file in this folder"
   ]
  },
  {
   "cell_type": "markdown",
   "metadata": {},
   "source": [
    "Exercise 2 : JavaScript Page Vs. HTML Page\n",
    "---\n"
   ]
  },
  {
   "cell_type": "markdown",
   "metadata": {},
   "source": [
    "Compare the behavior of a static HTML page with a JavaScript-enhanced HTML page.\n",
    "Instructions"
   ]
  },
  {
   "cell_type": "markdown",
   "metadata": {},
   "source": []
  },
  {
   "cell_type": "markdown",
   "metadata": {},
   "source": [
    "Exercise 3 : Scrape Dynamic Content From Rotten Tomatoes\n",
    "--"
   ]
  },
  {
   "cell_type": "markdown",
   "metadata": {},
   "source": [
    "Task:\n",
    "- Use Selenium to navigate to the Rotten Tomatoes Certified Fresh Movies page.\n",
    "- Extract the HTML content after it’s fully loaded.\n",
    "- Use BeautifulSoup to parse and extract the movie titles, scores, and release dates.\n",
    "\n",
    "Instructions\n",
    "- Set up Selenium WebDriver and navigate to the Rotten Tomatoes page.\n",
    "- Extract the HTML content using driver.page_source.\n",
    "- Parse the HTML with BeautifulSoup.\n",
    "- Find and extract the desired movie information.\n",
    "- Print the extracted data."
   ]
  },
  {
   "cell_type": "code",
   "execution_count": 8,
   "metadata": {
    "ExecuteTime": {
     "end_time": "2024-04-24T13:00:29.377654Z",
     "start_time": "2024-04-24T13:00:29.373409Z"
    }
   },
   "outputs": [],
   "source": [
    "from bs4 import BeautifulSoup\n",
    "from selenium import webdriver\n",
    "from selenium.webdriver.common.keys import Keys\n",
    "from selenium.webdriver.common.by import By\n",
    "from selenium.webdriver.support.ui import WebDriverWait\n",
    "from selenium.webdriver.support import expected_conditions as EC\n",
    "import pprint  # To tidy up"
   ]
  },
  {
   "cell_type": "code",
   "execution_count": 9,
   "metadata": {
    "ExecuteTime": {
     "end_time": "2024-04-24T13:00:53.891013Z",
     "start_time": "2024-04-24T13:00:29.398660Z"
    }
   },
   "outputs": [
    {
     "name": "stdout",
     "output_type": "stream",
     "text": [
      "Best Certified Fresh Movies in Theaters (2024) | Rotten Tomatoes\n"
     ]
    }
   ],
   "source": [
    "driver = webdriver.Chrome()\n",
    "\n",
    "# Navigate to the Rotten Tomatoes Certified Fresh Movies page\n",
    "driver.get(\"https://www.rottentomatoes.com/browse/movies_in_theaters/critics:certified_fresh~sort:popular\")\n",
    "\n",
    "# Wait for the page to load\n",
    "driver.implicitly_wait(10)\n",
    "\n",
    "# Print the page title\n",
    "print(driver.title)\n",
    "\n",
    "# # Close the browser window\n",
    "# driver.quit()"
   ]
  },
  {
   "cell_type": "code",
   "outputs": [],
   "source": [
    "options = webdriver.ChromeOptions()\n",
    "options.add_argument('--headless')  # Run Chrome in headless mode\n",
    "options.add_argument(\"--no-sandbox\")  # Bypass OS security model\n",
    "options.add_argument(\"--disable-dev-shm-usage\")  # Overcome limited resource problems\n",
    "driver = webdriver.Chrome(options=options)\n",
    "\n",
    "url = \"https://www.rottentomatoes.com/browse/movies_at_home/affiliates:netflix~critics:certified_fresh\"\n",
    "driver.get(url)\n",
    "\n",
    "soup = BeautifulSoup(driver.page_source, 'html.parser')\n",
    "movies = soup.find_all(\"div\",class_=\"flex-container\")\n",
    "\n",
    "data_movies =  {'title':[],\n",
    "                'score':[],\n",
    "                'release_date':[]}\n",
    "\n",
    "for movie in movies:\n",
    "    title = movie.find('span',class_ = 'p--small').text.strip()\n",
    "    score = movie.find('score-pairs-deprecated')['criticsscore']\n",
    "    release_date = movie.find('span', class_='smaller').text.strip()\n",
    "    data_movies['title'].append(title)\n",
    "    data_movies['score'].append(score)\n",
    "    data_movies['release_date'].append(release_date)"
   ],
   "metadata": {
    "collapsed": false,
    "ExecuteTime": {
     "end_time": "2024-04-24T13:01:05.743544Z",
     "start_time": "2024-04-24T13:00:53.892019Z"
    }
   },
   "execution_count": 10
  },
  {
   "cell_type": "code",
   "outputs": [],
   "source": [
    "#main-page-content > div.discovery > div.discovery-grids-container > div > div.discovery-tiles__wrap > div:nth-child(1) > div > tile-dynamic > a > score-pairs-deprecated"
   ],
   "metadata": {
    "collapsed": false,
    "ExecuteTime": {
     "end_time": "2024-04-24T13:01:05.747517Z",
     "start_time": "2024-04-24T13:01:05.744555Z"
    }
   },
   "execution_count": 11
  },
  {
   "cell_type": "code",
   "outputs": [],
   "source": [
    "import pandas as pd\n",
    "\n",
    "df_movies = pd.DataFrame(data_movies)"
   ],
   "metadata": {
    "collapsed": false,
    "ExecuteTime": {
     "end_time": "2024-04-24T13:01:06.242373Z",
     "start_time": "2024-04-24T13:01:05.748525Z"
    }
   },
   "execution_count": 12
  },
  {
   "cell_type": "code",
   "outputs": [
    {
     "data": {
      "text/plain": "                                  title score            release_date\n0                                 Scoop    78   Streaming Apr 5, 2024\n1                Leave the World Behind    74   Streaming Dec 8, 2023\n2                            Rust Creek    86   Streaming Jan 6, 2019\n3                                     X    94  Streaming Apr 14, 2022\n4                          Megan Leavey    86  Streaming Jul 10, 2017\n5     Everything Everywhere All at Once    93   Streaming Jun 7, 2022\n6                                 Split    78   Streaming Apr 5, 2017\n7                            The Killer    85  Streaming Nov 10, 2023\n8                          The Stranger    92  Streaming Oct 19, 2022\n9                           Baby Driver    92  Streaming Jul 10, 2017\n10                         May December    91   Streaming Dec 1, 2023\n11                         Thanksgiving    84  Streaming Dec 19, 2023\n12                   Emily the Criminal    94  Streaming Oct 28, 2022\n13                             Whiplash    94   Streaming Sep 8, 2016\n14                           Uncut Gems    91  Streaming Dec 13, 2019\n15         Puss in Boots: The Last Wish    95   Streaming Jan 6, 2023\n16  Spider-Man: Across the Spider-Verse    95   Streaming Aug 8, 2023\n17                           Inside Man    86   Streaming Apr 3, 2016\n18                                Alone    91  Streaming Sep 18, 2020\n19                             The Nest    90  Streaming Nov 17, 2020\n20                            His House   100  Streaming Oct 30, 2020\n21                      The Equalizer 3    76   Streaming Oct 3, 2023\n22                                Elvis    77   Streaming Aug 9, 2022\n23   The Wonderful Story of Henry Sugar    95  Streaming Sep 27, 2023\n24                           It Follows    95  Streaming Nov 30, 2016\n25                        Night Raiders    83  Streaming Nov 12, 2021\n26                         The Babadook    98   Streaming Nov 5, 2015\n27                             Godzilla    76  Streaming Aug 26, 2014",
      "text/html": "<div>\n<style scoped>\n    .dataframe tbody tr th:only-of-type {\n        vertical-align: middle;\n    }\n\n    .dataframe tbody tr th {\n        vertical-align: top;\n    }\n\n    .dataframe thead th {\n        text-align: right;\n    }\n</style>\n<table border=\"1\" class=\"dataframe\">\n  <thead>\n    <tr style=\"text-align: right;\">\n      <th></th>\n      <th>title</th>\n      <th>score</th>\n      <th>release_date</th>\n    </tr>\n  </thead>\n  <tbody>\n    <tr>\n      <th>0</th>\n      <td>Scoop</td>\n      <td>78</td>\n      <td>Streaming Apr 5, 2024</td>\n    </tr>\n    <tr>\n      <th>1</th>\n      <td>Leave the World Behind</td>\n      <td>74</td>\n      <td>Streaming Dec 8, 2023</td>\n    </tr>\n    <tr>\n      <th>2</th>\n      <td>Rust Creek</td>\n      <td>86</td>\n      <td>Streaming Jan 6, 2019</td>\n    </tr>\n    <tr>\n      <th>3</th>\n      <td>X</td>\n      <td>94</td>\n      <td>Streaming Apr 14, 2022</td>\n    </tr>\n    <tr>\n      <th>4</th>\n      <td>Megan Leavey</td>\n      <td>86</td>\n      <td>Streaming Jul 10, 2017</td>\n    </tr>\n    <tr>\n      <th>5</th>\n      <td>Everything Everywhere All at Once</td>\n      <td>93</td>\n      <td>Streaming Jun 7, 2022</td>\n    </tr>\n    <tr>\n      <th>6</th>\n      <td>Split</td>\n      <td>78</td>\n      <td>Streaming Apr 5, 2017</td>\n    </tr>\n    <tr>\n      <th>7</th>\n      <td>The Killer</td>\n      <td>85</td>\n      <td>Streaming Nov 10, 2023</td>\n    </tr>\n    <tr>\n      <th>8</th>\n      <td>The Stranger</td>\n      <td>92</td>\n      <td>Streaming Oct 19, 2022</td>\n    </tr>\n    <tr>\n      <th>9</th>\n      <td>Baby Driver</td>\n      <td>92</td>\n      <td>Streaming Jul 10, 2017</td>\n    </tr>\n    <tr>\n      <th>10</th>\n      <td>May December</td>\n      <td>91</td>\n      <td>Streaming Dec 1, 2023</td>\n    </tr>\n    <tr>\n      <th>11</th>\n      <td>Thanksgiving</td>\n      <td>84</td>\n      <td>Streaming Dec 19, 2023</td>\n    </tr>\n    <tr>\n      <th>12</th>\n      <td>Emily the Criminal</td>\n      <td>94</td>\n      <td>Streaming Oct 28, 2022</td>\n    </tr>\n    <tr>\n      <th>13</th>\n      <td>Whiplash</td>\n      <td>94</td>\n      <td>Streaming Sep 8, 2016</td>\n    </tr>\n    <tr>\n      <th>14</th>\n      <td>Uncut Gems</td>\n      <td>91</td>\n      <td>Streaming Dec 13, 2019</td>\n    </tr>\n    <tr>\n      <th>15</th>\n      <td>Puss in Boots: The Last Wish</td>\n      <td>95</td>\n      <td>Streaming Jan 6, 2023</td>\n    </tr>\n    <tr>\n      <th>16</th>\n      <td>Spider-Man: Across the Spider-Verse</td>\n      <td>95</td>\n      <td>Streaming Aug 8, 2023</td>\n    </tr>\n    <tr>\n      <th>17</th>\n      <td>Inside Man</td>\n      <td>86</td>\n      <td>Streaming Apr 3, 2016</td>\n    </tr>\n    <tr>\n      <th>18</th>\n      <td>Alone</td>\n      <td>91</td>\n      <td>Streaming Sep 18, 2020</td>\n    </tr>\n    <tr>\n      <th>19</th>\n      <td>The Nest</td>\n      <td>90</td>\n      <td>Streaming Nov 17, 2020</td>\n    </tr>\n    <tr>\n      <th>20</th>\n      <td>His House</td>\n      <td>100</td>\n      <td>Streaming Oct 30, 2020</td>\n    </tr>\n    <tr>\n      <th>21</th>\n      <td>The Equalizer 3</td>\n      <td>76</td>\n      <td>Streaming Oct 3, 2023</td>\n    </tr>\n    <tr>\n      <th>22</th>\n      <td>Elvis</td>\n      <td>77</td>\n      <td>Streaming Aug 9, 2022</td>\n    </tr>\n    <tr>\n      <th>23</th>\n      <td>The Wonderful Story of Henry Sugar</td>\n      <td>95</td>\n      <td>Streaming Sep 27, 2023</td>\n    </tr>\n    <tr>\n      <th>24</th>\n      <td>It Follows</td>\n      <td>95</td>\n      <td>Streaming Nov 30, 2016</td>\n    </tr>\n    <tr>\n      <th>25</th>\n      <td>Night Raiders</td>\n      <td>83</td>\n      <td>Streaming Nov 12, 2021</td>\n    </tr>\n    <tr>\n      <th>26</th>\n      <td>The Babadook</td>\n      <td>98</td>\n      <td>Streaming Nov 5, 2015</td>\n    </tr>\n    <tr>\n      <th>27</th>\n      <td>Godzilla</td>\n      <td>76</td>\n      <td>Streaming Aug 26, 2014</td>\n    </tr>\n  </tbody>\n</table>\n</div>"
     },
     "execution_count": 13,
     "metadata": {},
     "output_type": "execute_result"
    }
   ],
   "source": [
    "df_movies"
   ],
   "metadata": {
    "collapsed": false,
    "ExecuteTime": {
     "end_time": "2024-04-24T13:01:06.264819Z",
     "start_time": "2024-04-24T13:01:06.243380Z"
    }
   },
   "execution_count": 13
  },
  {
   "cell_type": "markdown",
   "source": [
    "Exercise 4 : Scrape And Categorize News Articles From A JavaScript-Enabled News Site\n",
    "--"
   ],
   "metadata": {
    "collapsed": false
   }
  },
  {
   "cell_type": "markdown",
   "source": [
    "Task:\n",
    "- Visit a section of a news website (e.g., the Technology section of BBC News).\n",
    "- Scrape news article titles and their publication dates.\n",
    "- Categorize articles based on their publication month.\n",
    "\n",
    "Instructions:\n",
    "- Use Selenium to navigate to a specific news section on the website.\n",
    "- Extract and parse the HTML content that is dynamically loaded via JavaScript.\n",
    "- Using BeautifulSoup, extract news article titles and publication dates.\n",
    "- Categorize articles by their publication month (e.g., ‘January’, ‘February’, etc.).\n",
    "- Print the categorized lists of articles.\n"
   ],
   "metadata": {
    "collapsed": false
   }
  },
  {
   "cell_type": "code",
   "outputs": [],
   "source": [
    "options = webdriver.ChromeOptions()\n",
    "options.add_argument('--headless')  # Run Chrome in headless mode\n",
    "options.add_argument(\"--no-sandbox\")  # Bypass OS security model\n",
    "options.add_argument(\"--disable-dev-shm-usage\")  # Overcome limited resource problems\n",
    "driver = webdriver.Chrome(options=options)\n",
    "\n",
    "url = \"https://www.bbc.com/innovation/technology\"\n",
    "driver.get(url)\n",
    "\n",
    "soup = BeautifulSoup(driver.page_source, 'html.parser')\n",
    "news = soup.find_all(\"div\", {\"data-testid\": 'edinburgh-card'})"
   ],
   "metadata": {
    "collapsed": false,
    "ExecuteTime": {
     "end_time": "2024-04-24T13:01:14.918565Z",
     "start_time": "2024-04-24T13:01:06.265826Z"
    }
   },
   "execution_count": 14
  },
  {
   "cell_type": "code",
   "outputs": [
    {
     "name": "stdout",
     "output_type": "stream",
     "text": [
      "Title: TikTok faces US ban as bill set to be signed by Biden\n",
      "Summary: The app's owner, ByteDance, has nine months to sell its stake or face being blocked in the US.\n",
      "----\n",
      "Title: Tesla profits slump by more than a half\n",
      "Summary: The EV maker brings forward launch plans for new models as profits drop by more than half.\n",
      "----\n",
      "Title: Health board app gives new fathers a helping hand\n",
      "Summary: The new Dadpad app provides guidance on how to cope with the challenges of fatherhood.\n",
      "----\n",
      "Title: AI study gives 'hope' to childhood trauma survivors\n",
      "Summary: The study finds that trauma changes how a young brain develops and affects areas such as empathy.\n",
      "----\n",
      "Title: How soon could US ban TikTok after Congress approved bill?\n",
      "Summary: TikTok is getting closer to being banned in the US, but its owner is likely to oppose the move.\n",
      "----\n",
      "Title: A wine a mile: Marathon runner tastes 25 glasses\n",
      "Summary: Tom Gilbey sampled 25 wines in a blind taste test challenge correctly identifying 21.\n",
      "----\n",
      "Title: Can touchless tech create 'equitable' gaming?\n",
      "Summary: Click reporter Paul Carter has a go at playing Minecraft with his eyes.\n",
      "----\n",
      "Title: How robots are taking over warehouse work\n",
      "Summary: At Ocado's newest warehouse robotic arms are helping to pack customer orders.\n",
      "----\n",
      "Title: From WhatsApp to Greggs - why is tech going down more?\n",
      "Summary: Experts say tech outages do seem to be happening more often.\n",
      "----\n",
      "Title: Can AI help solve Japan’s labour shortages?\n",
      "Summary: Japan is seeing if artificial intelligence can tackle its increasing shortfall of workers.\n",
      "----\n",
      "Title: Neuralink patient seen playing chess using brain implant\n",
      "Summary: Summary not found\n",
      "----\n",
      "Title: How a US TikTok ban will affect Gen Z\n",
      "Summary: Summary not found\n",
      "----\n",
      "Title: The celebrities 'deepfaked' for US influencer's ads\n",
      "Summary: Summary not found\n",
      "----\n",
      "Title: Paul Carter tries out Atom Limbs bionic arm\n",
      "Summary: Summary not found\n",
      "----\n",
      "Title: Jason shows the BBC how the Atom Limbs prosthetic works\n",
      "Summary: Summary not found\n",
      "----\n",
      "Title: The history of virtual reality that led to Apple Vision Pro\n",
      "Summary: Summary not found\n",
      "----\n",
      "Title: Mark Zuckerberg's early years\n",
      "Summary: Summary not found\n",
      "----\n",
      "Title: Do we need an AI mirror?\n",
      "Summary: Summary not found\n",
      "----\n",
      "Title: Using virtual reality to diagnose Alzheimer's\n",
      "Summary: Summary not found\n",
      "----\n",
      "Title: Watch: Breaking down the GTA VI trailer...in 79 seconds\n",
      "Summary: Summary not found\n",
      "----\n",
      "Title: Watch: Musk attempts Cybertruck window stunt again\n",
      "Summary: Summary not found\n",
      "----\n",
      "Title: The smartphone you can take apart and fix yourself\n",
      "Summary: Summary not found\n",
      "----\n",
      "Title: Coding: How hard is it to learn?\n",
      "Summary: Summary not found\n",
      "----\n",
      "Title: 'Making robots is literally living my dream'\n",
      "Summary: Summary not found\n",
      "----\n",
      "Title: Have scientists discovered how to read our thoughts?\n",
      "Summary: Summary not found\n",
      "----\n",
      "Title: ‘Like having a very smart friend’: Musk on impact of AI\n",
      "Summary: Summary not found\n",
      "----\n",
      "Title: 'There will come a point when no job is needed,' says Musk\n",
      "Summary: Summary not found\n",
      "----\n",
      "Title: Sunak says Musk 'valuable' to AI conversation\n",
      "Summary: Summary not found\n",
      "----\n",
      "Title: AI presents profound challenges, says King Charles\n",
      "Summary: Summary not found\n",
      "----\n",
      "Title: Musk says it is too early to start regulating AI\n",
      "Summary: Summary not found\n",
      "----\n"
     ]
    }
   ],
   "source": [
    "for item in news:\n",
    "    title_element = item.find('div', class_ = 'sc-4fedabc7-1 kbvCmj')\n",
    "    summary_element = item.find('p', class_ = 'sc-b8778340-4 kYtujW')\n",
    "    time_element = item.find('span', class_ = '')\n",
    "    if title_element:\n",
    "        title = title_element.text.strip()\n",
    "    else:\n",
    "        title = \"Title not found\"\n",
    "    if summary_element:\n",
    "        summary = summary_element.text.strip()\n",
    "    else:\n",
    "        summary = \"Summary not found\"\n",
    "    print(\"Title:\", title)\n",
    "    print(\"Summary:\", summary)\n",
    "    print(\"----\")\n",
    "    "
   ],
   "metadata": {
    "collapsed": false,
    "ExecuteTime": {
     "end_time": "2024-04-24T13:01:14.928482Z",
     "start_time": "2024-04-24T13:01:14.919576Z"
    }
   },
   "execution_count": 15
  },
  {
   "cell_type": "code",
   "outputs": [],
   "source": [
    "news_watch = soup.find_all('div', class_ = 'sc-adfaf101-3 hHYUcg')"
   ],
   "metadata": {
    "collapsed": false,
    "ExecuteTime": {
     "end_time": "2024-04-24T13:01:14.936740Z",
     "start_time": "2024-04-24T13:01:14.929489Z"
    }
   },
   "execution_count": 16
  },
  {
   "cell_type": "code",
   "outputs": [
    {
     "name": "stdout",
     "output_type": "stream",
     "text": [
      "Title: Neuralink patient seen playing chess using brain implant\n",
      "Summary: In a livestream on X, the patient explained that he was using a device in his brain to move the cursor.\n",
      "time_element: 21 Mar 2024\n",
      "----\n",
      "Title: How a US TikTok ban will affect Gen Z\n",
      "Summary: We spoke to two influencers who use the short form video platform to raise awareness and inform.\n",
      "time_element: 13 Mar 2024\n",
      "----\n",
      "Title: The celebrities 'deepfaked' for US influencer's ads\n",
      "Summary: Piers Morgan and Oprah have criticised the use of AI deepfake ads used to promote a \"manifestation\" guide.\n",
      "time_element: 24 Feb 2024\n",
      "----\n",
      "Title: Paul Carter tries out Atom Limbs bionic arm\n",
      "Summary: BBC Click reporter Paul Carter tries out the Atom Limbs prosthetic with 'full range of human motion'.\n",
      "time_element: 22 Feb 2024\n",
      "----\n",
      "Title: Jason shows the BBC how the Atom Limbs prosthetic works\n",
      "Summary: Jason lost his arm in an accident in 2012, and he's been working with Atom Limbs to test their prosthetic.\n",
      "time_element: 22 Feb 2024\n",
      "----\n",
      "Title: The history of virtual reality that led to Apple Vision Pro\n",
      "Summary: Apple is turning science fiction into reality but was VR meant to be used like this?\n",
      "time_element: 7 Feb 2024\n",
      "----\n",
      "Title: Mark Zuckerberg's early years\n",
      "Summary: Watch the full documentary Mark Zuckerberg: The Billionaires Who Made Our World on BBC Select.\n",
      "time_element: 3 Feb 2024\n",
      "----\n",
      "Title: Do we need an AI mirror?\n",
      "Summary: The BBC's James Clayton tests out the latest tech at CES 2024 in Las Vegas.\n",
      "time_element: 13 Jan 2024\n",
      "----\n",
      "Title: Using virtual reality to diagnose Alzheimer's\n",
      "Summary: Researchers at University College London are investigating how the tech can help with early diagnoses.\n",
      "time_element: 21 Dec 2023\n",
      "----\n",
      "Title: Watch: Breaking down the GTA VI trailer...in 79 seconds\n",
      "Summary: Here's what our main takeaways are from the long-awaited trailer for the gaming blockbuster.\n",
      "time_element: 5 Dec 2023\n",
      "----\n",
      "Title: Watch: Musk attempts Cybertruck window stunt again\n",
      "Summary: The pickup truck - Tesla’s latest offering - had its windows smashed during a demonstration in 2019.\n",
      "time_element: 1 Dec 2023\n",
      "----\n",
      "Title: The smartphone you can take apart and fix yourself\n",
      "Summary: Fairphone's technology aims to lower our environmental footprint.\n",
      "time_element: 10 Nov 2023\n",
      "----\n",
      "Title: Coding: How hard is it to learn?\n",
      "Summary: The BBC tests out kits from Lego, MakeBlock and the Micro:Bit Foundation to try to learn to code.\n",
      "time_element: 9 Nov 2023\n",
      "----\n",
      "Title: 'Making robots is literally living my dream'\n",
      "Summary: Daniela Saez developed an interest in robotics from the age of 12.\n",
      "time_element: 9 Nov 2023\n",
      "----\n",
      "Title: Have scientists discovered how to read our thoughts?\n",
      "Summary: With the potential rise in technology that can know and change our thoughts, how do we protect ourselves?\n",
      "time_element: 9 Nov 2023\n",
      "----\n",
      "Title: ‘Like having a very smart friend’: Musk on impact of AI\n",
      "Summary: Billionaire Elon Musk told the British prime minister that he thinks AI could take over service sector jobs and play a role in education.\n",
      "time_element: 3 Nov 2023\n",
      "----\n",
      "Title: 'There will come a point when no job is needed,' says Musk\n",
      "Summary: Billionaire Elon Musk tells the British prime minister that AI will be smarter than the smartest human.\n",
      "time_element: 3 Nov 2023\n",
      "----\n",
      "Title: Sunak says Musk 'valuable' to AI conversation\n",
      "Summary: The prime minister says Elon Musk's background in AI companies means he is worth speaking to.\n",
      "time_element: 1 Nov 2023\n",
      "----\n",
      "Title: AI presents profound challenges, says King Charles\n",
      "Summary: The King called for unity in addressing challenges ahead of a major UK summit on AI safety.\n",
      "time_element: 1 Nov 2023\n",
      "----\n",
      "Title: Musk says it is too early to start regulating AI\n",
      "Summary: The tech entrepreneur says \"you've got to start with insight before you do oversight\".\n",
      "time_element: 1 Nov 2023\n",
      "----\n"
     ]
    }
   ],
   "source": [
    "data_news =  {'title':[],\n",
    "                'summary':[],\n",
    "                'time_element':[]}\n",
    "\n",
    "for item in news_watch:\n",
    "    title_element = item.find('h2',class_='sc-4fedabc7-3 iscyVn')\n",
    "    summary_element = item.find('p', class_ = 'sc-b8778340-4 fsrXqA')\n",
    "    time_element = item.find('span', class_ = 'sc-df20d569-1 cwmnpX').text\n",
    "    if title_element:\n",
    "        title = title_element.text.strip()\n",
    "    else:\n",
    "        title = \"Title not found\"\n",
    "    if summary_element:\n",
    "        summary = summary_element.text.strip()\n",
    "    else:\n",
    "        summary = \"Summary not found\"\n",
    "    print(\"Title:\", title)\n",
    "    print(\"Summary:\", summary)\n",
    "    print('time_element:', time_element)\n",
    "    print(\"----\")\n",
    "    data_news['title'].append(title)\n",
    "    data_news['summary'].append(summary)\n",
    "    data_news['time_element'].append(time_element)\n",
    "    "
   ],
   "metadata": {
    "collapsed": false,
    "ExecuteTime": {
     "end_time": "2024-04-24T13:01:14.946895Z",
     "start_time": "2024-04-24T13:01:14.937746Z"
    }
   },
   "execution_count": 17
  },
  {
   "cell_type": "code",
   "outputs": [],
   "source": [
    "df_news = pd.DataFrame(data_news)"
   ],
   "metadata": {
    "collapsed": false,
    "ExecuteTime": {
     "end_time": "2024-04-24T13:01:14.954099Z",
     "start_time": "2024-04-24T13:01:14.947901Z"
    }
   },
   "execution_count": 18
  },
  {
   "cell_type": "code",
   "outputs": [
    {
     "data": {
      "text/plain": "                                                title  \\\n0   Neuralink patient seen playing chess using bra...   \n1               How a US TikTok ban will affect Gen Z   \n2   The celebrities 'deepfaked' for US influencer'...   \n3         Paul Carter tries out Atom Limbs bionic arm   \n4   Jason shows the BBC how the Atom Limbs prosthe...   \n5   The history of virtual reality that led to App...   \n6                       Mark Zuckerberg's early years   \n7                            Do we need an AI mirror?   \n8       Using virtual reality to diagnose Alzheimer's   \n9   Watch: Breaking down the GTA VI trailer...in 7...   \n10  Watch: Musk attempts Cybertruck window stunt a...   \n11  The smartphone you can take apart and fix your...   \n12                   Coding: How hard is it to learn?   \n13       'Making robots is literally living my dream'   \n14  Have scientists discovered how to read our tho...   \n15  ‘Like having a very smart friend’: Musk on imp...   \n16  'There will come a point when no job is needed...   \n17      Sunak says Musk 'valuable' to AI conversation   \n18  AI presents profound challenges, says King Cha...   \n19   Musk says it is too early to start regulating AI   \n\n                                              summary time_element  \n0   In a livestream on X, the patient explained th...  21 Mar 2024  \n1   We spoke to two influencers who use the short ...  13 Mar 2024  \n2   Piers Morgan and Oprah have criticised the use...  24 Feb 2024  \n3   BBC Click reporter Paul Carter tries out the A...  22 Feb 2024  \n4   Jason lost his arm in an accident in 2012, and...  22 Feb 2024  \n5   Apple is turning science fiction into reality ...   7 Feb 2024  \n6   Watch the full documentary Mark Zuckerberg: Th...   3 Feb 2024  \n7   The BBC's James Clayton tests out the latest t...  13 Jan 2024  \n8   Researchers at University College London are i...  21 Dec 2023  \n9   Here's what our main takeaways are from the lo...   5 Dec 2023  \n10  The pickup truck - Tesla’s latest offering - h...   1 Dec 2023  \n11  Fairphone's technology aims to lower our envir...  10 Nov 2023  \n12  The BBC tests out kits from Lego, MakeBlock an...   9 Nov 2023  \n13  Daniela Saez developed an interest in robotics...   9 Nov 2023  \n14  With the potential rise in technology that can...   9 Nov 2023  \n15  Billionaire Elon Musk told the British prime m...   3 Nov 2023  \n16  Billionaire Elon Musk tells the British prime ...   3 Nov 2023  \n17  The prime minister says Elon Musk's background...   1 Nov 2023  \n18  The King called for unity in addressing challe...   1 Nov 2023  \n19  The tech entrepreneur says \"you've got to star...   1 Nov 2023  ",
      "text/html": "<div>\n<style scoped>\n    .dataframe tbody tr th:only-of-type {\n        vertical-align: middle;\n    }\n\n    .dataframe tbody tr th {\n        vertical-align: top;\n    }\n\n    .dataframe thead th {\n        text-align: right;\n    }\n</style>\n<table border=\"1\" class=\"dataframe\">\n  <thead>\n    <tr style=\"text-align: right;\">\n      <th></th>\n      <th>title</th>\n      <th>summary</th>\n      <th>time_element</th>\n    </tr>\n  </thead>\n  <tbody>\n    <tr>\n      <th>0</th>\n      <td>Neuralink patient seen playing chess using bra...</td>\n      <td>In a livestream on X, the patient explained th...</td>\n      <td>21 Mar 2024</td>\n    </tr>\n    <tr>\n      <th>1</th>\n      <td>How a US TikTok ban will affect Gen Z</td>\n      <td>We spoke to two influencers who use the short ...</td>\n      <td>13 Mar 2024</td>\n    </tr>\n    <tr>\n      <th>2</th>\n      <td>The celebrities 'deepfaked' for US influencer'...</td>\n      <td>Piers Morgan and Oprah have criticised the use...</td>\n      <td>24 Feb 2024</td>\n    </tr>\n    <tr>\n      <th>3</th>\n      <td>Paul Carter tries out Atom Limbs bionic arm</td>\n      <td>BBC Click reporter Paul Carter tries out the A...</td>\n      <td>22 Feb 2024</td>\n    </tr>\n    <tr>\n      <th>4</th>\n      <td>Jason shows the BBC how the Atom Limbs prosthe...</td>\n      <td>Jason lost his arm in an accident in 2012, and...</td>\n      <td>22 Feb 2024</td>\n    </tr>\n    <tr>\n      <th>5</th>\n      <td>The history of virtual reality that led to App...</td>\n      <td>Apple is turning science fiction into reality ...</td>\n      <td>7 Feb 2024</td>\n    </tr>\n    <tr>\n      <th>6</th>\n      <td>Mark Zuckerberg's early years</td>\n      <td>Watch the full documentary Mark Zuckerberg: Th...</td>\n      <td>3 Feb 2024</td>\n    </tr>\n    <tr>\n      <th>7</th>\n      <td>Do we need an AI mirror?</td>\n      <td>The BBC's James Clayton tests out the latest t...</td>\n      <td>13 Jan 2024</td>\n    </tr>\n    <tr>\n      <th>8</th>\n      <td>Using virtual reality to diagnose Alzheimer's</td>\n      <td>Researchers at University College London are i...</td>\n      <td>21 Dec 2023</td>\n    </tr>\n    <tr>\n      <th>9</th>\n      <td>Watch: Breaking down the GTA VI trailer...in 7...</td>\n      <td>Here's what our main takeaways are from the lo...</td>\n      <td>5 Dec 2023</td>\n    </tr>\n    <tr>\n      <th>10</th>\n      <td>Watch: Musk attempts Cybertruck window stunt a...</td>\n      <td>The pickup truck - Tesla’s latest offering - h...</td>\n      <td>1 Dec 2023</td>\n    </tr>\n    <tr>\n      <th>11</th>\n      <td>The smartphone you can take apart and fix your...</td>\n      <td>Fairphone's technology aims to lower our envir...</td>\n      <td>10 Nov 2023</td>\n    </tr>\n    <tr>\n      <th>12</th>\n      <td>Coding: How hard is it to learn?</td>\n      <td>The BBC tests out kits from Lego, MakeBlock an...</td>\n      <td>9 Nov 2023</td>\n    </tr>\n    <tr>\n      <th>13</th>\n      <td>'Making robots is literally living my dream'</td>\n      <td>Daniela Saez developed an interest in robotics...</td>\n      <td>9 Nov 2023</td>\n    </tr>\n    <tr>\n      <th>14</th>\n      <td>Have scientists discovered how to read our tho...</td>\n      <td>With the potential rise in technology that can...</td>\n      <td>9 Nov 2023</td>\n    </tr>\n    <tr>\n      <th>15</th>\n      <td>‘Like having a very smart friend’: Musk on imp...</td>\n      <td>Billionaire Elon Musk told the British prime m...</td>\n      <td>3 Nov 2023</td>\n    </tr>\n    <tr>\n      <th>16</th>\n      <td>'There will come a point when no job is needed...</td>\n      <td>Billionaire Elon Musk tells the British prime ...</td>\n      <td>3 Nov 2023</td>\n    </tr>\n    <tr>\n      <th>17</th>\n      <td>Sunak says Musk 'valuable' to AI conversation</td>\n      <td>The prime minister says Elon Musk's background...</td>\n      <td>1 Nov 2023</td>\n    </tr>\n    <tr>\n      <th>18</th>\n      <td>AI presents profound challenges, says King Cha...</td>\n      <td>The King called for unity in addressing challe...</td>\n      <td>1 Nov 2023</td>\n    </tr>\n    <tr>\n      <th>19</th>\n      <td>Musk says it is too early to start regulating AI</td>\n      <td>The tech entrepreneur says \"you've got to star...</td>\n      <td>1 Nov 2023</td>\n    </tr>\n  </tbody>\n</table>\n</div>"
     },
     "execution_count": 19,
     "metadata": {},
     "output_type": "execute_result"
    }
   ],
   "source": [
    "df_news"
   ],
   "metadata": {
    "collapsed": false,
    "ExecuteTime": {
     "end_time": "2024-04-24T13:01:14.965752Z",
     "start_time": "2024-04-24T13:01:14.955104Z"
    }
   },
   "execution_count": 19
  },
  {
   "cell_type": "code",
   "outputs": [],
   "source": [
    "df_news['time_element'] = pd.to_datetime(df_news['time_element'])"
   ],
   "metadata": {
    "collapsed": false,
    "ExecuteTime": {
     "end_time": "2024-04-24T13:01:14.978241Z",
     "start_time": "2024-04-24T13:01:14.966757Z"
    }
   },
   "execution_count": 20
  },
  {
   "cell_type": "code",
   "outputs": [],
   "source": [
    "df_news['time_element']= df_news['time_element'].dt.month_name()"
   ],
   "metadata": {
    "collapsed": false,
    "ExecuteTime": {
     "end_time": "2024-04-24T13:01:14.987144Z",
     "start_time": "2024-04-24T13:01:14.979248Z"
    }
   },
   "execution_count": 21
  },
  {
   "cell_type": "code",
   "outputs": [
    {
     "data": {
      "text/plain": "                                                title  \\\n0   Neuralink patient seen playing chess using bra...   \n1               How a US TikTok ban will affect Gen Z   \n2   The celebrities 'deepfaked' for US influencer'...   \n3         Paul Carter tries out Atom Limbs bionic arm   \n4   Jason shows the BBC how the Atom Limbs prosthe...   \n5   The history of virtual reality that led to App...   \n6                       Mark Zuckerberg's early years   \n7                            Do we need an AI mirror?   \n8       Using virtual reality to diagnose Alzheimer's   \n9   Watch: Breaking down the GTA VI trailer...in 7...   \n10  Watch: Musk attempts Cybertruck window stunt a...   \n11  The smartphone you can take apart and fix your...   \n12                   Coding: How hard is it to learn?   \n13       'Making robots is literally living my dream'   \n14  Have scientists discovered how to read our tho...   \n15  ‘Like having a very smart friend’: Musk on imp...   \n16  'There will come a point when no job is needed...   \n17      Sunak says Musk 'valuable' to AI conversation   \n18  AI presents profound challenges, says King Cha...   \n19   Musk says it is too early to start regulating AI   \n\n                                              summary time_element  \n0   In a livestream on X, the patient explained th...        March  \n1   We spoke to two influencers who use the short ...        March  \n2   Piers Morgan and Oprah have criticised the use...     February  \n3   BBC Click reporter Paul Carter tries out the A...     February  \n4   Jason lost his arm in an accident in 2012, and...     February  \n5   Apple is turning science fiction into reality ...     February  \n6   Watch the full documentary Mark Zuckerberg: Th...     February  \n7   The BBC's James Clayton tests out the latest t...      January  \n8   Researchers at University College London are i...     December  \n9   Here's what our main takeaways are from the lo...     December  \n10  The pickup truck - Tesla’s latest offering - h...     December  \n11  Fairphone's technology aims to lower our envir...     November  \n12  The BBC tests out kits from Lego, MakeBlock an...     November  \n13  Daniela Saez developed an interest in robotics...     November  \n14  With the potential rise in technology that can...     November  \n15  Billionaire Elon Musk told the British prime m...     November  \n16  Billionaire Elon Musk tells the British prime ...     November  \n17  The prime minister says Elon Musk's background...     November  \n18  The King called for unity in addressing challe...     November  \n19  The tech entrepreneur says \"you've got to star...     November  ",
      "text/html": "<div>\n<style scoped>\n    .dataframe tbody tr th:only-of-type {\n        vertical-align: middle;\n    }\n\n    .dataframe tbody tr th {\n        vertical-align: top;\n    }\n\n    .dataframe thead th {\n        text-align: right;\n    }\n</style>\n<table border=\"1\" class=\"dataframe\">\n  <thead>\n    <tr style=\"text-align: right;\">\n      <th></th>\n      <th>title</th>\n      <th>summary</th>\n      <th>time_element</th>\n    </tr>\n  </thead>\n  <tbody>\n    <tr>\n      <th>0</th>\n      <td>Neuralink patient seen playing chess using bra...</td>\n      <td>In a livestream on X, the patient explained th...</td>\n      <td>March</td>\n    </tr>\n    <tr>\n      <th>1</th>\n      <td>How a US TikTok ban will affect Gen Z</td>\n      <td>We spoke to two influencers who use the short ...</td>\n      <td>March</td>\n    </tr>\n    <tr>\n      <th>2</th>\n      <td>The celebrities 'deepfaked' for US influencer'...</td>\n      <td>Piers Morgan and Oprah have criticised the use...</td>\n      <td>February</td>\n    </tr>\n    <tr>\n      <th>3</th>\n      <td>Paul Carter tries out Atom Limbs bionic arm</td>\n      <td>BBC Click reporter Paul Carter tries out the A...</td>\n      <td>February</td>\n    </tr>\n    <tr>\n      <th>4</th>\n      <td>Jason shows the BBC how the Atom Limbs prosthe...</td>\n      <td>Jason lost his arm in an accident in 2012, and...</td>\n      <td>February</td>\n    </tr>\n    <tr>\n      <th>5</th>\n      <td>The history of virtual reality that led to App...</td>\n      <td>Apple is turning science fiction into reality ...</td>\n      <td>February</td>\n    </tr>\n    <tr>\n      <th>6</th>\n      <td>Mark Zuckerberg's early years</td>\n      <td>Watch the full documentary Mark Zuckerberg: Th...</td>\n      <td>February</td>\n    </tr>\n    <tr>\n      <th>7</th>\n      <td>Do we need an AI mirror?</td>\n      <td>The BBC's James Clayton tests out the latest t...</td>\n      <td>January</td>\n    </tr>\n    <tr>\n      <th>8</th>\n      <td>Using virtual reality to diagnose Alzheimer's</td>\n      <td>Researchers at University College London are i...</td>\n      <td>December</td>\n    </tr>\n    <tr>\n      <th>9</th>\n      <td>Watch: Breaking down the GTA VI trailer...in 7...</td>\n      <td>Here's what our main takeaways are from the lo...</td>\n      <td>December</td>\n    </tr>\n    <tr>\n      <th>10</th>\n      <td>Watch: Musk attempts Cybertruck window stunt a...</td>\n      <td>The pickup truck - Tesla’s latest offering - h...</td>\n      <td>December</td>\n    </tr>\n    <tr>\n      <th>11</th>\n      <td>The smartphone you can take apart and fix your...</td>\n      <td>Fairphone's technology aims to lower our envir...</td>\n      <td>November</td>\n    </tr>\n    <tr>\n      <th>12</th>\n      <td>Coding: How hard is it to learn?</td>\n      <td>The BBC tests out kits from Lego, MakeBlock an...</td>\n      <td>November</td>\n    </tr>\n    <tr>\n      <th>13</th>\n      <td>'Making robots is literally living my dream'</td>\n      <td>Daniela Saez developed an interest in robotics...</td>\n      <td>November</td>\n    </tr>\n    <tr>\n      <th>14</th>\n      <td>Have scientists discovered how to read our tho...</td>\n      <td>With the potential rise in technology that can...</td>\n      <td>November</td>\n    </tr>\n    <tr>\n      <th>15</th>\n      <td>‘Like having a very smart friend’: Musk on imp...</td>\n      <td>Billionaire Elon Musk told the British prime m...</td>\n      <td>November</td>\n    </tr>\n    <tr>\n      <th>16</th>\n      <td>'There will come a point when no job is needed...</td>\n      <td>Billionaire Elon Musk tells the British prime ...</td>\n      <td>November</td>\n    </tr>\n    <tr>\n      <th>17</th>\n      <td>Sunak says Musk 'valuable' to AI conversation</td>\n      <td>The prime minister says Elon Musk's background...</td>\n      <td>November</td>\n    </tr>\n    <tr>\n      <th>18</th>\n      <td>AI presents profound challenges, says King Cha...</td>\n      <td>The King called for unity in addressing challe...</td>\n      <td>November</td>\n    </tr>\n    <tr>\n      <th>19</th>\n      <td>Musk says it is too early to start regulating AI</td>\n      <td>The tech entrepreneur says \"you've got to star...</td>\n      <td>November</td>\n    </tr>\n  </tbody>\n</table>\n</div>"
     },
     "execution_count": 22,
     "metadata": {},
     "output_type": "execute_result"
    }
   ],
   "source": [
    "df_news"
   ],
   "metadata": {
    "collapsed": false,
    "ExecuteTime": {
     "end_time": "2024-04-24T13:01:14.996851Z",
     "start_time": "2024-04-24T13:01:14.988150Z"
    }
   },
   "execution_count": 22
  },
  {
   "cell_type": "markdown",
   "source": [
    "Exercise 5 : Scrape And Analyze Weather Data From A JavaScript-Enabled Weather Website\n",
    "--"
   ],
   "metadata": {
    "collapsed": false
   }
  },
  {
   "cell_type": "markdown",
   "source": [
    "Task:\n",
    "- Visit a specific city’s weather forecast page on a weather website.\n",
    "- Scrape weather forecast data including temperature, condition, and humidity.\n",
    "- Analyze the data to find the average temperature and most common weather condition.\n",
    "\n",
    "Instructions:\n",
    "- Use Selenium to navigate to the weather forecast page of a specific city.\n",
    "- Extract and parse the HTML content, focusing on dynamically loaded weather data.\n",
    "- Using BeautifulSoup, extract relevant weather information like temperature, condition (sunny, cloudy, etc.), and humidity.\n",
    "- Calculate the average temperature and identify the most common weather condition.\n",
    "- Print the analysis results."
   ],
   "metadata": {
    "collapsed": false
   }
  },
  {
   "cell_type": "code",
   "outputs": [],
   "source": [
    "import time\n",
    "from selenium import webdriver\n",
    "from bs4 import BeautifulSoup\n",
    "\n",
    "\n",
    "# Define the URL of the weather forecast page\n",
    "weather_forecast_url = \"https://www.accuweather.com/en/us/los-angeles-ca/90012/weather-forecast/348108\"\n",
    "\n",
    "# Initialize the WebDriver\n",
    "driver = webdriver.Chrome()\n",
    "\n",
    "# Open the weather forecast URL\n",
    "driver.get(weather_forecast_url)\n",
    "\n",
    "# Wait for the page to load dynamically\n",
    "time.sleep(5)\n",
    "\n",
    "# Get the page source\n",
    "page_source = driver.page_source\n",
    "\n",
    "# Parse the HTML content\n",
    "soup = BeautifulSoup(page_source, \"html.parser\")\n",
    "\n",
    "# Extract weather forecast data\n",
    "forecast_data = []\n",
    "for forecast in soup.find_all(\"a\", class_=\"daily-list-item\"):\n",
    "    date = forecast.find(\"div\", class_=\"date\").text.strip()\n",
    "    date2 = date.split('\\n')\n",
    "    date_dt = '0'+date2[1]+'/2024'\n",
    "    day = date2[0]\n",
    "    temperature_high = forecast.find(\"span\", class_=\"temp-hi\").text\n",
    "    temperature_low = forecast.find(\"span\", class_=\"temp-lo\").text\n",
    "    condition = forecast.find(\"div\", class_=\"phrase\").text.strip().split('\\n\\n\\n')\n",
    "    condition_day = condition[0]\n",
    "    condition_night = condition[-1]\n",
    "    humidity = forecast.find(\"div\", class_=\"precip\").text.strip()\n",
    "\n",
    "    # Store the extracted data\n",
    "    forecast_data.append({\n",
    "        \"date\": date_dt,\n",
    "        'day': day,\n",
    "        \"temperature_high\": temperature_high,\n",
    "        'temperature_low':temperature_low,\n",
    "        \"condition_day\": condition_day,\n",
    "        \"condition_night\": condition_night,\n",
    "        \"humidity\": humidity\n",
    "    })\n"
   ],
   "metadata": {
    "collapsed": false,
    "ExecuteTime": {
     "end_time": "2024-04-24T13:01:25.533891Z",
     "start_time": "2024-04-24T13:01:14.996851Z"
    }
   },
   "execution_count": 23
  },
  {
   "cell_type": "code",
   "outputs": [],
   "source": [
    "df_forecast = pd.DataFrame(forecast_data)"
   ],
   "metadata": {
    "collapsed": false,
    "ExecuteTime": {
     "end_time": "2024-04-24T13:01:25.539548Z",
     "start_time": "2024-04-24T13:01:25.534914Z"
    }
   },
   "execution_count": 24
  },
  {
   "cell_type": "code",
   "outputs": [
    {
     "data": {
      "text/plain": "         date    day temperature_high temperature_low  \\\n0  04/24/2024  Today              25°             10°   \n1  04/25/2024    Thu              26°             14°   \n2  04/26/2024    Fri              22°             14°   \n3  04/27/2024    Sat              24°             15°   \n4  04/28/2024    Sun              26°             13°   \n5  04/29/2024    Mon              28°             15°   \n6  04/30/2024    Tue              28°             15°   \n7   05/1/2024    Wed              29°             15°   \n8   05/2/2024    Thu              30°             15°   \n9   05/3/2024    Fri              30°             17°   \n\n                  condition_day          condition_night humidity  \n0         An afternoon sprinkle     Night: Partly cloudy      25%  \n1  Sun and areas of high clouds            Mainly cloudy       0%  \n2      A passing morning shower  Considerable cloudiness      59%  \n3           Variable cloudiness            Mostly cloudy      25%  \n4                  Partly sunny             Mainly clear      25%  \n5       Times of clouds and sun             Mainly clear      19%  \n6     Chance for a thunderstorm             Mainly clear      30%  \n7                         Sunny                    Clear       0%  \n8            Plenty of sunshine                    Clear       0%  \n9                  Mostly sunny             Mainly clear       0%  ",
      "text/html": "<div>\n<style scoped>\n    .dataframe tbody tr th:only-of-type {\n        vertical-align: middle;\n    }\n\n    .dataframe tbody tr th {\n        vertical-align: top;\n    }\n\n    .dataframe thead th {\n        text-align: right;\n    }\n</style>\n<table border=\"1\" class=\"dataframe\">\n  <thead>\n    <tr style=\"text-align: right;\">\n      <th></th>\n      <th>date</th>\n      <th>day</th>\n      <th>temperature_high</th>\n      <th>temperature_low</th>\n      <th>condition_day</th>\n      <th>condition_night</th>\n      <th>humidity</th>\n    </tr>\n  </thead>\n  <tbody>\n    <tr>\n      <th>0</th>\n      <td>04/24/2024</td>\n      <td>Today</td>\n      <td>25°</td>\n      <td>10°</td>\n      <td>An afternoon sprinkle</td>\n      <td>Night: Partly cloudy</td>\n      <td>25%</td>\n    </tr>\n    <tr>\n      <th>1</th>\n      <td>04/25/2024</td>\n      <td>Thu</td>\n      <td>26°</td>\n      <td>14°</td>\n      <td>Sun and areas of high clouds</td>\n      <td>Mainly cloudy</td>\n      <td>0%</td>\n    </tr>\n    <tr>\n      <th>2</th>\n      <td>04/26/2024</td>\n      <td>Fri</td>\n      <td>22°</td>\n      <td>14°</td>\n      <td>A passing morning shower</td>\n      <td>Considerable cloudiness</td>\n      <td>59%</td>\n    </tr>\n    <tr>\n      <th>3</th>\n      <td>04/27/2024</td>\n      <td>Sat</td>\n      <td>24°</td>\n      <td>15°</td>\n      <td>Variable cloudiness</td>\n      <td>Mostly cloudy</td>\n      <td>25%</td>\n    </tr>\n    <tr>\n      <th>4</th>\n      <td>04/28/2024</td>\n      <td>Sun</td>\n      <td>26°</td>\n      <td>13°</td>\n      <td>Partly sunny</td>\n      <td>Mainly clear</td>\n      <td>25%</td>\n    </tr>\n    <tr>\n      <th>5</th>\n      <td>04/29/2024</td>\n      <td>Mon</td>\n      <td>28°</td>\n      <td>15°</td>\n      <td>Times of clouds and sun</td>\n      <td>Mainly clear</td>\n      <td>19%</td>\n    </tr>\n    <tr>\n      <th>6</th>\n      <td>04/30/2024</td>\n      <td>Tue</td>\n      <td>28°</td>\n      <td>15°</td>\n      <td>Chance for a thunderstorm</td>\n      <td>Mainly clear</td>\n      <td>30%</td>\n    </tr>\n    <tr>\n      <th>7</th>\n      <td>05/1/2024</td>\n      <td>Wed</td>\n      <td>29°</td>\n      <td>15°</td>\n      <td>Sunny</td>\n      <td>Clear</td>\n      <td>0%</td>\n    </tr>\n    <tr>\n      <th>8</th>\n      <td>05/2/2024</td>\n      <td>Thu</td>\n      <td>30°</td>\n      <td>15°</td>\n      <td>Plenty of sunshine</td>\n      <td>Clear</td>\n      <td>0%</td>\n    </tr>\n    <tr>\n      <th>9</th>\n      <td>05/3/2024</td>\n      <td>Fri</td>\n      <td>30°</td>\n      <td>17°</td>\n      <td>Mostly sunny</td>\n      <td>Mainly clear</td>\n      <td>0%</td>\n    </tr>\n  </tbody>\n</table>\n</div>"
     },
     "execution_count": 25,
     "metadata": {},
     "output_type": "execute_result"
    }
   ],
   "source": [
    "df_forecast"
   ],
   "metadata": {
    "collapsed": false,
    "ExecuteTime": {
     "end_time": "2024-04-24T13:01:25.551976Z",
     "start_time": "2024-04-24T13:01:25.540554Z"
    }
   },
   "execution_count": 25
  },
  {
   "cell_type": "code",
   "outputs": [],
   "source": [
    "df_forecast['date'] = pd.to_datetime(df_forecast['date'])"
   ],
   "metadata": {
    "collapsed": false,
    "ExecuteTime": {
     "end_time": "2024-04-24T13:01:25.559425Z",
     "start_time": "2024-04-24T13:01:25.552983Z"
    }
   },
   "execution_count": 26
  },
  {
   "cell_type": "code",
   "outputs": [
    {
     "data": {
      "text/plain": "        date    day temperature_high temperature_low  \\\n0 2024-04-24  Today              25°             10°   \n1 2024-04-25    Thu              26°             14°   \n2 2024-04-26    Fri              22°             14°   \n3 2024-04-27    Sat              24°             15°   \n4 2024-04-28    Sun              26°             13°   \n5 2024-04-29    Mon              28°             15°   \n6 2024-04-30    Tue              28°             15°   \n7 2024-05-01    Wed              29°             15°   \n8 2024-05-02    Thu              30°             15°   \n9 2024-05-03    Fri              30°             17°   \n\n                  condition_day          condition_night humidity  \n0         An afternoon sprinkle     Night: Partly cloudy      25%  \n1  Sun and areas of high clouds            Mainly cloudy       0%  \n2      A passing morning shower  Considerable cloudiness      59%  \n3           Variable cloudiness            Mostly cloudy      25%  \n4                  Partly sunny             Mainly clear      25%  \n5       Times of clouds and sun             Mainly clear      19%  \n6     Chance for a thunderstorm             Mainly clear      30%  \n7                         Sunny                    Clear       0%  \n8            Plenty of sunshine                    Clear       0%  \n9                  Mostly sunny             Mainly clear       0%  ",
      "text/html": "<div>\n<style scoped>\n    .dataframe tbody tr th:only-of-type {\n        vertical-align: middle;\n    }\n\n    .dataframe tbody tr th {\n        vertical-align: top;\n    }\n\n    .dataframe thead th {\n        text-align: right;\n    }\n</style>\n<table border=\"1\" class=\"dataframe\">\n  <thead>\n    <tr style=\"text-align: right;\">\n      <th></th>\n      <th>date</th>\n      <th>day</th>\n      <th>temperature_high</th>\n      <th>temperature_low</th>\n      <th>condition_day</th>\n      <th>condition_night</th>\n      <th>humidity</th>\n    </tr>\n  </thead>\n  <tbody>\n    <tr>\n      <th>0</th>\n      <td>2024-04-24</td>\n      <td>Today</td>\n      <td>25°</td>\n      <td>10°</td>\n      <td>An afternoon sprinkle</td>\n      <td>Night: Partly cloudy</td>\n      <td>25%</td>\n    </tr>\n    <tr>\n      <th>1</th>\n      <td>2024-04-25</td>\n      <td>Thu</td>\n      <td>26°</td>\n      <td>14°</td>\n      <td>Sun and areas of high clouds</td>\n      <td>Mainly cloudy</td>\n      <td>0%</td>\n    </tr>\n    <tr>\n      <th>2</th>\n      <td>2024-04-26</td>\n      <td>Fri</td>\n      <td>22°</td>\n      <td>14°</td>\n      <td>A passing morning shower</td>\n      <td>Considerable cloudiness</td>\n      <td>59%</td>\n    </tr>\n    <tr>\n      <th>3</th>\n      <td>2024-04-27</td>\n      <td>Sat</td>\n      <td>24°</td>\n      <td>15°</td>\n      <td>Variable cloudiness</td>\n      <td>Mostly cloudy</td>\n      <td>25%</td>\n    </tr>\n    <tr>\n      <th>4</th>\n      <td>2024-04-28</td>\n      <td>Sun</td>\n      <td>26°</td>\n      <td>13°</td>\n      <td>Partly sunny</td>\n      <td>Mainly clear</td>\n      <td>25%</td>\n    </tr>\n    <tr>\n      <th>5</th>\n      <td>2024-04-29</td>\n      <td>Mon</td>\n      <td>28°</td>\n      <td>15°</td>\n      <td>Times of clouds and sun</td>\n      <td>Mainly clear</td>\n      <td>19%</td>\n    </tr>\n    <tr>\n      <th>6</th>\n      <td>2024-04-30</td>\n      <td>Tue</td>\n      <td>28°</td>\n      <td>15°</td>\n      <td>Chance for a thunderstorm</td>\n      <td>Mainly clear</td>\n      <td>30%</td>\n    </tr>\n    <tr>\n      <th>7</th>\n      <td>2024-05-01</td>\n      <td>Wed</td>\n      <td>29°</td>\n      <td>15°</td>\n      <td>Sunny</td>\n      <td>Clear</td>\n      <td>0%</td>\n    </tr>\n    <tr>\n      <th>8</th>\n      <td>2024-05-02</td>\n      <td>Thu</td>\n      <td>30°</td>\n      <td>15°</td>\n      <td>Plenty of sunshine</td>\n      <td>Clear</td>\n      <td>0%</td>\n    </tr>\n    <tr>\n      <th>9</th>\n      <td>2024-05-03</td>\n      <td>Fri</td>\n      <td>30°</td>\n      <td>17°</td>\n      <td>Mostly sunny</td>\n      <td>Mainly clear</td>\n      <td>0%</td>\n    </tr>\n  </tbody>\n</table>\n</div>"
     },
     "execution_count": 27,
     "metadata": {},
     "output_type": "execute_result"
    }
   ],
   "source": [
    "df_forecast"
   ],
   "metadata": {
    "collapsed": false,
    "ExecuteTime": {
     "end_time": "2024-04-24T13:01:25.573395Z",
     "start_time": "2024-04-24T13:01:25.560430Z"
    }
   },
   "execution_count": 27
  },
  {
   "cell_type": "code",
   "outputs": [
    {
     "data": {
      "text/plain": "10"
     },
     "execution_count": 28,
     "metadata": {},
     "output_type": "execute_result"
    }
   ],
   "source": [
    "df_forecast['date'].count()"
   ],
   "metadata": {
    "collapsed": false,
    "ExecuteTime": {
     "end_time": "2024-04-24T13:01:25.584934Z",
     "start_time": "2024-04-24T13:01:25.574403Z"
    }
   },
   "execution_count": 28
  },
  {
   "cell_type": "code",
   "outputs": [
    {
     "name": "stdout",
     "output_type": "stream",
     "text": [
      "Average Temperature: 26.8\n",
      "Most Common Weather Condition: An afternoon sprinkle\n",
      "{'An afternoon sprinkle': 1, 'Sun and areas of high clouds': 1, 'A passing morning shower': 1, 'Variable cloudiness': 1, 'Partly sunny': 1, 'Times of clouds and sun': 1, 'Chance for a thunderstorm': 1, 'Sunny': 1, 'Plenty of sunshine': 1, 'Mostly sunny': 1}\n"
     ]
    }
   ],
   "source": [
    "# Calculate the average temperature\n",
    "total_temperature = 0\n",
    "for data in forecast_data:\n",
    "    temperature = int(data[\"temperature_high\"].replace(\"°\", \"\"))\n",
    "    total_temperature += temperature\n",
    "\n",
    "average_temperature = total_temperature / df_forecast['date'].count()\n",
    "\n",
    "# Find the most common weather condition\n",
    "condition_counts = {}\n",
    "for data in forecast_data:\n",
    "    condition = data[\"condition_day\"]\n",
    "    if condition not in condition_counts:\n",
    "        condition_counts[condition] = 0\n",
    "    condition_counts[condition] += 1\n",
    "\n",
    "most_common_condition = None\n",
    "max_count = 0\n",
    "for condition, count in condition_counts.items():\n",
    "    if count > max_count:\n",
    "        most_common_condition = condition\n",
    "        max_count = count\n",
    "\n",
    "# Print the results\n",
    "print(\"Average Temperature:\", average_temperature)\n",
    "print(\"Most Common Weather Condition:\", most_common_condition)\n",
    "print(condition_counts)\n",
    "# Quit the WebDriver\n",
    "driver.quit()"
   ],
   "metadata": {
    "collapsed": false,
    "ExecuteTime": {
     "end_time": "2024-04-24T13:01:27.680946Z",
     "start_time": "2024-04-24T13:01:25.585941Z"
    }
   },
   "execution_count": 29
  },
  {
   "cell_type": "code",
   "outputs": [],
   "source": [
    "##"
   ],
   "metadata": {
    "collapsed": false,
    "ExecuteTime": {
     "end_time": "2024-04-24T13:01:27.688142Z",
     "start_time": "2024-04-24T13:01:27.684184Z"
    }
   },
   "execution_count": 30
  },
  {
   "cell_type": "code",
   "outputs": [],
   "source": [],
   "metadata": {
    "collapsed": false,
    "ExecuteTime": {
     "end_time": "2024-04-24T13:01:27.692253Z",
     "start_time": "2024-04-24T13:01:27.689153Z"
    }
   },
   "execution_count": 30
  }
 ],
 "metadata": {
  "kernelspec": {
   "display_name": "my_env",
   "language": "python",
   "name": "python3"
  },
  "language_info": {
   "codemirror_mode": {
    "name": "ipython",
    "version": 3
   },
   "file_extension": ".py",
   "mimetype": "text/x-python",
   "name": "python",
   "nbconvert_exporter": "python",
   "pygments_lexer": "ipython3",
   "version": "3.11.5"
  }
 },
 "nbformat": 4,
 "nbformat_minor": 2
}
