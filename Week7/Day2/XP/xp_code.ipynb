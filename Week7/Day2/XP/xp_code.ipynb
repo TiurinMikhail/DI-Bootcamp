{
 "cells": [
  {
   "cell_type": "markdown",
   "metadata": {},
   "source": [
    "Exercise 1 : Exploring JavaScript Variables And Data Types\n",
    "--"
   ]
  },
  {
   "cell_type": "markdown",
   "metadata": {},
   "source": [
    "Create a JavaScript script that defines variables of different data types and logs them to the console.\n",
    "Instructions"
   ]
  },
  {
   "cell_type": "markdown",
   "metadata": {},
   "source": [
    "You shoukd check the script.html file in this folder"
   ]
  },
  {
   "cell_type": "markdown",
   "metadata": {},
   "source": [
    "Exercise 2 : JavaScript Page Vs. HTML Page\n",
    "---\n"
   ]
  },
  {
   "cell_type": "markdown",
   "metadata": {},
   "source": [
    "Compare the behavior of a static HTML page with a JavaScript-enhanced HTML page.\n",
    "Instructions"
   ]
  },
  {
   "cell_type": "markdown",
   "metadata": {},
   "source": []
  },
  {
   "cell_type": "markdown",
   "metadata": {},
   "source": [
    "Exercise 3 : Scrape Dynamic Content From Rotten Tomatoes\n",
    "--"
   ]
  },
  {
   "cell_type": "markdown",
   "metadata": {},
   "source": [
    "Task:\n",
    "- Use Selenium to navigate to the Rotten Tomatoes Certified Fresh Movies page.\n",
    "- Extract the HTML content after it’s fully loaded.\n",
    "- Use BeautifulSoup to parse and extract the movie titles, scores, and release dates.\n",
    "\n",
    "Instructions\n",
    "- Set up Selenium WebDriver and navigate to the Rotten Tomatoes page.\n",
    "- Extract the HTML content using driver.page_source.\n",
    "- Parse the HTML with BeautifulSoup.\n",
    "- Find and extract the desired movie information.\n",
    "- Print the extracted data."
   ]
  },
  {
   "cell_type": "code",
   "execution_count": 1,
   "metadata": {
    "ExecuteTime": {
     "end_time": "2024-04-15T12:19:59.992439Z",
     "start_time": "2024-04-15T12:19:59.771693Z"
    }
   },
   "outputs": [],
   "source": [
    "from bs4 import BeautifulSoup\n",
    "from selenium import webdriver\n",
    "from selenium.webdriver.common.keys import Keys\n",
    "from selenium.webdriver.common.by import By\n",
    "from selenium.webdriver.support.ui import WebDriverWait\n",
    "from selenium.webdriver.support import expected_conditions as EC\n",
    "import pprint  # To tidy up"
   ]
  },
  {
   "cell_type": "code",
   "execution_count": 3,
   "metadata": {
    "ExecuteTime": {
     "end_time": "2024-04-15T12:57:55.916172Z",
     "start_time": "2024-04-15T12:57:49.214517Z"
    }
   },
   "outputs": [
    {
     "name": "stdout",
     "output_type": "stream",
     "text": [
      "Best Certified Fresh Movies in Theaters (2024) | Rotten Tomatoes\n"
     ]
    }
   ],
   "source": [
    "driver = webdriver.Chrome()\n",
    "\n",
    "# Navigate to the Rotten Tomatoes Certified Fresh Movies page\n",
    "driver.get(\"https://www.rottentomatoes.com/browse/movies_in_theaters/critics:certified_fresh~sort:popular\")\n",
    "\n",
    "# Wait for the page to load\n",
    "driver.implicitly_wait(10)\n",
    "\n",
    "# Print the page title\n",
    "print(driver.title)\n",
    "\n",
    "# # Close the browser window\n",
    "# driver.quit()"
   ]
  },
  {
   "cell_type": "code",
   "outputs": [],
   "source": [
    "options = webdriver.ChromeOptions()\n",
    "options.add_argument('--headless')  # Run Chrome in headless mode\n",
    "options.add_argument(\"--no-sandbox\")  # Bypass OS security model\n",
    "options.add_argument(\"--disable-dev-shm-usage\")  # Overcome limited resource problems\n",
    "driver = webdriver.Chrome(options=options)\n",
    "\n",
    "url = \"https://www.rottentomatoes.com/browse/movies_at_home/affiliates:netflix~critics:certified_fresh\"\n",
    "driver.get(url)\n",
    "\n",
    "soup = BeautifulSoup(driver.page_source, 'html.parser')\n",
    "movies = soup.find_all(\"div\",class_=\"flex-container\")\n",
    "\n",
    "data_movies =  {'title':[],\n",
    "                'score':[],\n",
    "                'release_date':[]}\n",
    "\n",
    "for movie in movies:\n",
    "    title = movie.find('span',class_ = 'p--small').text.strip()\n",
    "    score = movie.find('score-pairs-deprecated')['criticsscore']\n",
    "    release_date = movie.find('span', class_='smaller').text.strip()\n",
    "    data_movies['title'].append(title)\n",
    "    data_movies['score'].append(score)\n",
    "    data_movies['release_date'].append(release_date)"
   ],
   "metadata": {
    "collapsed": false,
    "ExecuteTime": {
     "end_time": "2024-04-15T13:43:37.557417Z",
     "start_time": "2024-04-15T13:43:30.349927Z"
    }
   },
   "execution_count": 40
  },
  {
   "cell_type": "code",
   "outputs": [],
   "source": [
    "#main-page-content > div.discovery > div.discovery-grids-container > div > div.discovery-tiles__wrap > div:nth-child(1) > div > tile-dynamic > a > score-pairs-deprecated"
   ],
   "metadata": {
    "collapsed": false
   }
  },
  {
   "cell_type": "code",
   "outputs": [],
   "source": [
    "import pandas as pd\n",
    "\n",
    "df_movies = pd.DataFrame(data_movies)"
   ],
   "metadata": {
    "collapsed": false,
    "ExecuteTime": {
     "end_time": "2024-04-15T13:43:56.885713Z",
     "start_time": "2024-04-15T13:43:56.879868Z"
    }
   },
   "execution_count": 41
  },
  {
   "cell_type": "code",
   "outputs": [
    {
     "data": {
      "text/plain": "                                  title score            release_date\n0                          Megan Leavey    86  Streaming Jul 10, 2017\n1                                 Split    78   Streaming Apr 5, 2017\n2                Leave the World Behind    74   Streaming Dec 8, 2023\n3                                     X    94  Streaming Apr 14, 2022\n4                           Baby Driver    92  Streaming Jul 10, 2017\n5                    Emily the Criminal    94  Streaming Oct 28, 2022\n6                            Inside Man    86   Streaming Apr 3, 2016\n7    The Wonderful Story of Henry Sugar    95  Streaming Sep 27, 2023\n8                            The Killer    85  Streaming Nov 10, 2023\n9                          May December    91   Streaming Dec 1, 2023\n10    Everything Everywhere All at Once    93   Streaming Jun 7, 2022\n11                      Kung Fu Panda 3    86  Streaming Jun 28, 2016\n12                         Thanksgiving    84  Streaming Dec 19, 2023\n13                             Godzilla    76  Streaming Aug 26, 2014\n14                            His House   100  Streaming Oct 30, 2020\n15                         Molly's Game    81  Streaming Mar 27, 2018\n16                        Night Raiders    83  Streaming Nov 12, 2021\n17                      The Equalizer 3    76   Streaming Oct 3, 2023\n18                           It Follows    95  Streaming Nov 30, 2016\n19  Spider-Man: Across the Spider-Verse    95   Streaming Aug 8, 2023\n20         Puss in Boots: The Last Wish    95   Streaming Jan 6, 2023\n21                 The Power of the Dog    94   Streaming Dec 1, 2021\n22                           Dumb Money    84   Streaming Nov 7, 2023\n23                        Gerald's Game    91  Streaming Sep 29, 2017\n24                   Orion and the Dark    91   Streaming Feb 2, 2024\n25                             The Nest    90  Streaming Nov 17, 2020\n26                           The Matrix    83   Streaming Jan 1, 2009\n27                             Whiplash    94   Streaming Sep 8, 2016",
      "text/html": "<div>\n<style scoped>\n    .dataframe tbody tr th:only-of-type {\n        vertical-align: middle;\n    }\n\n    .dataframe tbody tr th {\n        vertical-align: top;\n    }\n\n    .dataframe thead th {\n        text-align: right;\n    }\n</style>\n<table border=\"1\" class=\"dataframe\">\n  <thead>\n    <tr style=\"text-align: right;\">\n      <th></th>\n      <th>title</th>\n      <th>score</th>\n      <th>release_date</th>\n    </tr>\n  </thead>\n  <tbody>\n    <tr>\n      <th>0</th>\n      <td>Megan Leavey</td>\n      <td>86</td>\n      <td>Streaming Jul 10, 2017</td>\n    </tr>\n    <tr>\n      <th>1</th>\n      <td>Split</td>\n      <td>78</td>\n      <td>Streaming Apr 5, 2017</td>\n    </tr>\n    <tr>\n      <th>2</th>\n      <td>Leave the World Behind</td>\n      <td>74</td>\n      <td>Streaming Dec 8, 2023</td>\n    </tr>\n    <tr>\n      <th>3</th>\n      <td>X</td>\n      <td>94</td>\n      <td>Streaming Apr 14, 2022</td>\n    </tr>\n    <tr>\n      <th>4</th>\n      <td>Baby Driver</td>\n      <td>92</td>\n      <td>Streaming Jul 10, 2017</td>\n    </tr>\n    <tr>\n      <th>5</th>\n      <td>Emily the Criminal</td>\n      <td>94</td>\n      <td>Streaming Oct 28, 2022</td>\n    </tr>\n    <tr>\n      <th>6</th>\n      <td>Inside Man</td>\n      <td>86</td>\n      <td>Streaming Apr 3, 2016</td>\n    </tr>\n    <tr>\n      <th>7</th>\n      <td>The Wonderful Story of Henry Sugar</td>\n      <td>95</td>\n      <td>Streaming Sep 27, 2023</td>\n    </tr>\n    <tr>\n      <th>8</th>\n      <td>The Killer</td>\n      <td>85</td>\n      <td>Streaming Nov 10, 2023</td>\n    </tr>\n    <tr>\n      <th>9</th>\n      <td>May December</td>\n      <td>91</td>\n      <td>Streaming Dec 1, 2023</td>\n    </tr>\n    <tr>\n      <th>10</th>\n      <td>Everything Everywhere All at Once</td>\n      <td>93</td>\n      <td>Streaming Jun 7, 2022</td>\n    </tr>\n    <tr>\n      <th>11</th>\n      <td>Kung Fu Panda 3</td>\n      <td>86</td>\n      <td>Streaming Jun 28, 2016</td>\n    </tr>\n    <tr>\n      <th>12</th>\n      <td>Thanksgiving</td>\n      <td>84</td>\n      <td>Streaming Dec 19, 2023</td>\n    </tr>\n    <tr>\n      <th>13</th>\n      <td>Godzilla</td>\n      <td>76</td>\n      <td>Streaming Aug 26, 2014</td>\n    </tr>\n    <tr>\n      <th>14</th>\n      <td>His House</td>\n      <td>100</td>\n      <td>Streaming Oct 30, 2020</td>\n    </tr>\n    <tr>\n      <th>15</th>\n      <td>Molly's Game</td>\n      <td>81</td>\n      <td>Streaming Mar 27, 2018</td>\n    </tr>\n    <tr>\n      <th>16</th>\n      <td>Night Raiders</td>\n      <td>83</td>\n      <td>Streaming Nov 12, 2021</td>\n    </tr>\n    <tr>\n      <th>17</th>\n      <td>The Equalizer 3</td>\n      <td>76</td>\n      <td>Streaming Oct 3, 2023</td>\n    </tr>\n    <tr>\n      <th>18</th>\n      <td>It Follows</td>\n      <td>95</td>\n      <td>Streaming Nov 30, 2016</td>\n    </tr>\n    <tr>\n      <th>19</th>\n      <td>Spider-Man: Across the Spider-Verse</td>\n      <td>95</td>\n      <td>Streaming Aug 8, 2023</td>\n    </tr>\n    <tr>\n      <th>20</th>\n      <td>Puss in Boots: The Last Wish</td>\n      <td>95</td>\n      <td>Streaming Jan 6, 2023</td>\n    </tr>\n    <tr>\n      <th>21</th>\n      <td>The Power of the Dog</td>\n      <td>94</td>\n      <td>Streaming Dec 1, 2021</td>\n    </tr>\n    <tr>\n      <th>22</th>\n      <td>Dumb Money</td>\n      <td>84</td>\n      <td>Streaming Nov 7, 2023</td>\n    </tr>\n    <tr>\n      <th>23</th>\n      <td>Gerald's Game</td>\n      <td>91</td>\n      <td>Streaming Sep 29, 2017</td>\n    </tr>\n    <tr>\n      <th>24</th>\n      <td>Orion and the Dark</td>\n      <td>91</td>\n      <td>Streaming Feb 2, 2024</td>\n    </tr>\n    <tr>\n      <th>25</th>\n      <td>The Nest</td>\n      <td>90</td>\n      <td>Streaming Nov 17, 2020</td>\n    </tr>\n    <tr>\n      <th>26</th>\n      <td>The Matrix</td>\n      <td>83</td>\n      <td>Streaming Jan 1, 2009</td>\n    </tr>\n    <tr>\n      <th>27</th>\n      <td>Whiplash</td>\n      <td>94</td>\n      <td>Streaming Sep 8, 2016</td>\n    </tr>\n  </tbody>\n</table>\n</div>"
     },
     "execution_count": 43,
     "metadata": {},
     "output_type": "execute_result"
    }
   ],
   "source": [
    "df_movies"
   ],
   "metadata": {
    "collapsed": false,
    "ExecuteTime": {
     "end_time": "2024-04-15T13:45:57.612755Z",
     "start_time": "2024-04-15T13:45:57.601838Z"
    }
   },
   "execution_count": 43
  },
  {
   "cell_type": "markdown",
   "source": [
    "Exercise 4 : Scrape And Categorize News Articles From A JavaScript-Enabled News Site\n",
    "--"
   ],
   "metadata": {
    "collapsed": false
   }
  },
  {
   "cell_type": "markdown",
   "source": [
    "Task:\n",
    "- Visit a section of a news website (e.g., the Technology section of BBC News).\n",
    "- Scrape news article titles and their publication dates.\n",
    "- Categorize articles based on their publication month.\n",
    "\n",
    "Instructions:\n",
    "- Use Selenium to navigate to a specific news section on the website.\n",
    "- Extract and parse the HTML content that is dynamically loaded via JavaScript.\n",
    "- Using BeautifulSoup, extract news article titles and publication dates.\n",
    "- Categorize articles by their publication month (e.g., ‘January’, ‘February’, etc.).\n",
    "- Print the categorized lists of articles.\n"
   ],
   "metadata": {
    "collapsed": false
   }
  },
  {
   "cell_type": "code",
   "outputs": [
    {
     "name": "stdout",
     "output_type": "stream",
     "text": [
      "<div class=\"sc-4fedabc7-1 kbvCmj\"><div class=\"sc-4fedabc7-0 kZtaAl\"><h2 class=\"sc-4fedabc7-3 zTZri\" data-testid=\"card-headline\">Self-driving cars safety project launched<!-- --></h2></div></div>\n",
      "<div class=\"sc-4fedabc7-1 kbvCmj\"><div class=\"sc-4fedabc7-0 kZtaAl\"><h2 class=\"sc-4fedabc7-3 zTZri\" data-testid=\"card-headline\">Billionaire twins invest in ninth-tier football club<!-- --></h2></div></div>\n",
      "<div class=\"sc-4fedabc7-1 kbvCmj\"><div class=\"sc-4fedabc7-0 kZtaAl\"><h2 class=\"sc-4fedabc7-3 zTZri\" data-testid=\"card-headline\">How AI and deepfakes are changing politics<!-- --></h2></div></div>\n",
      "<div class=\"sc-4fedabc7-1 kbvCmj\"><div class=\"sc-4fedabc7-0 kZtaAl\"><h2 class=\"sc-4fedabc7-3 zTZri\" data-testid=\"card-headline\">Baldur's Gate 3 wins big at Bafta Games Awards<!-- --></h2></div></div>\n",
      "<div class=\"sc-4fedabc7-1 kbvCmj\"><div class=\"sc-4fedabc7-0 kZtaAl\"><h2 class=\"sc-4fedabc7-3 zTZri\" data-testid=\"card-headline\">UK regulator fears big tech firms' power in AI market<!-- --></h2></div></div>\n",
      "<div class=\"sc-4fedabc7-1 kbvCmj\"><div class=\"sc-4fedabc7-0 kZtaAl\"><h2 class=\"sc-4fedabc7-3 zTZri\" data-testid=\"card-headline\">Millions of bat calls analysed by AI<!-- --></h2></div></div>\n",
      "<div class=\"sc-4fedabc7-1 kbvCmj\"><div class=\"sc-4fedabc7-0 kZtaAl\"><h2 class=\"sc-4fedabc7-3 zTZri\" data-testid=\"card-headline\">Why Sweden abandoned its secret A-bomb project<!-- --></h2></div></div>\n",
      "<div class=\"sc-4fedabc7-1 kbvCmj\"><div class=\"sc-4fedabc7-0 kZtaAl\"><h2 class=\"sc-4fedabc7-3 zTZri\" data-testid=\"card-headline\">Flying cars: The future of personal mobility<!-- --></h2></div></div>\n",
      "<div class=\"sc-4fedabc7-1 kbvCmj\"><div class=\"sc-4fedabc7-0 kZtaAl\"><h2 class=\"sc-4fedabc7-3 zTZri\" data-testid=\"card-headline\">How AI is helping to prevent future power cuts<!-- --></h2></div></div>\n",
      "<div class=\"sc-4fedabc7-1 kbvCmj\"><div class=\"sc-4fedabc7-0 kZtaAl\"><h2 class=\"sc-4fedabc7-3 zTZri\" data-testid=\"card-headline\">Why it's harder to find love today<!-- --></h2></div></div>\n",
      "<div class=\"sc-4fedabc7-1 kbvCmj\"><div class=\"sc-4fedabc7-0 kZtaAl\"><h2 class=\"sc-4fedabc7-3 iscyVn\" data-testid=\"card-headline\">Neuralink patient seen playing chess using brain implant<!-- --></h2></div></div>\n",
      "<div class=\"sc-4fedabc7-1 kbvCmj\"><div class=\"sc-4fedabc7-0 kZtaAl\"><h2 class=\"sc-4fedabc7-3 iscyVn\" data-testid=\"card-headline\">How a US TikTok ban will affect Gen Z<!-- --></h2></div></div>\n",
      "<div class=\"sc-4fedabc7-1 kbvCmj\"><div class=\"sc-4fedabc7-0 kZtaAl\"><h2 class=\"sc-4fedabc7-3 iscyVn\" data-testid=\"card-headline\">The celebrities 'deepfaked' for US influencer's ads<!-- --></h2></div></div>\n",
      "<div class=\"sc-4fedabc7-1 kbvCmj\"><div class=\"sc-4fedabc7-0 kZtaAl\"><h2 class=\"sc-4fedabc7-3 iscyVn\" data-testid=\"card-headline\">Paul Carter tries out Atom Limbs bionic arm<!-- --></h2></div></div>\n",
      "<div class=\"sc-4fedabc7-1 kbvCmj\"><div class=\"sc-4fedabc7-0 kZtaAl\"><h2 class=\"sc-4fedabc7-3 iscyVn\" data-testid=\"card-headline\">Jason shows the BBC how the Atom Limbs prosthetic works<!-- --></h2></div></div>\n",
      "<div class=\"sc-4fedabc7-1 kbvCmj\"><div class=\"sc-4fedabc7-0 kZtaAl\"><h2 class=\"sc-4fedabc7-3 iscyVn\" data-testid=\"card-headline\">The history of virtual reality that led to Apple Vision Pro<!-- --></h2></div></div>\n",
      "<div class=\"sc-4fedabc7-1 kbvCmj\"><div class=\"sc-4fedabc7-0 kZtaAl\"><h2 class=\"sc-4fedabc7-3 iscyVn\" data-testid=\"card-headline\">Mark Zuckerberg's early years<!-- --></h2></div></div>\n",
      "<div class=\"sc-4fedabc7-1 kbvCmj\"><div class=\"sc-4fedabc7-0 kZtaAl\"><h2 class=\"sc-4fedabc7-3 iscyVn\" data-testid=\"card-headline\">Do we need an AI mirror?<!-- --></h2></div></div>\n",
      "<div class=\"sc-4fedabc7-1 kbvCmj\"><div class=\"sc-4fedabc7-0 kZtaAl\"><h2 class=\"sc-4fedabc7-3 iscyVn\" data-testid=\"card-headline\">Using virtual reality to diagnose Alzheimer's<!-- --></h2></div></div>\n",
      "<div class=\"sc-4fedabc7-1 kbvCmj\"><div class=\"sc-4fedabc7-0 kZtaAl\"><h2 class=\"sc-4fedabc7-3 iscyVn\" data-testid=\"card-headline\">Watch: Breaking down the GTA VI trailer...in 79 seconds<!-- --></h2></div></div>\n",
      "<div class=\"sc-4fedabc7-1 kbvCmj\"><div class=\"sc-4fedabc7-0 kZtaAl\"><h2 class=\"sc-4fedabc7-3 iscyVn\" data-testid=\"card-headline\">Watch: Musk attempts Cybertruck window stunt again<!-- --></h2></div></div>\n",
      "<div class=\"sc-4fedabc7-1 kbvCmj\"><div class=\"sc-4fedabc7-0 kZtaAl\"><h2 class=\"sc-4fedabc7-3 iscyVn\" data-testid=\"card-headline\">The smartphone you can take apart and fix yourself<!-- --></h2></div></div>\n",
      "<div class=\"sc-4fedabc7-1 kbvCmj\"><div class=\"sc-4fedabc7-0 kZtaAl\"><h2 class=\"sc-4fedabc7-3 iscyVn\" data-testid=\"card-headline\">Coding: How hard is it to learn?<!-- --></h2></div></div>\n",
      "<div class=\"sc-4fedabc7-1 kbvCmj\"><div class=\"sc-4fedabc7-0 kZtaAl\"><h2 class=\"sc-4fedabc7-3 iscyVn\" data-testid=\"card-headline\">'Making robots is literally living my dream'<!-- --></h2></div></div>\n",
      "<div class=\"sc-4fedabc7-1 kbvCmj\"><div class=\"sc-4fedabc7-0 kZtaAl\"><h2 class=\"sc-4fedabc7-3 iscyVn\" data-testid=\"card-headline\">Have scientists discovered how to read our thoughts?<!-- --></h2></div></div>\n",
      "<div class=\"sc-4fedabc7-1 kbvCmj\"><div class=\"sc-4fedabc7-0 kZtaAl\"><h2 class=\"sc-4fedabc7-3 iscyVn\" data-testid=\"card-headline\">‘Like having a very smart friend’: Musk on impact of AI<!-- --></h2></div></div>\n",
      "<div class=\"sc-4fedabc7-1 kbvCmj\"><div class=\"sc-4fedabc7-0 kZtaAl\"><h2 class=\"sc-4fedabc7-3 iscyVn\" data-testid=\"card-headline\">'There will come a point when no job is needed,' says Musk<!-- --></h2></div></div>\n",
      "<div class=\"sc-4fedabc7-1 kbvCmj\"><div class=\"sc-4fedabc7-0 kZtaAl\"><h2 class=\"sc-4fedabc7-3 iscyVn\" data-testid=\"card-headline\">Sunak says Musk 'valuable' to AI conversation<!-- --></h2></div></div>\n",
      "<div class=\"sc-4fedabc7-1 kbvCmj\"><div class=\"sc-4fedabc7-0 kZtaAl\"><h2 class=\"sc-4fedabc7-3 iscyVn\" data-testid=\"card-headline\">AI presents profound challenges, says King Charles<!-- --></h2></div></div>\n",
      "<div class=\"sc-4fedabc7-1 kbvCmj\"><div class=\"sc-4fedabc7-0 kZtaAl\"><h2 class=\"sc-4fedabc7-3 iscyVn\" data-testid=\"card-headline\">Musk says it is too early to start regulating AI<!-- --></h2></div></div>\n"
     ]
    }
   ],
   "source": [
    "options = webdriver.ChromeOptions()\n",
    "options.add_argument('--headless')  # Run Chrome in headless mode\n",
    "options.add_argument(\"--no-sandbox\")  # Bypass OS security model\n",
    "options.add_argument(\"--disable-dev-shm-usage\")  # Overcome limited resource problems\n",
    "driver = webdriver.Chrome(options=options)\n",
    "\n",
    "url = \"https://www.bbc.com/innovation/technology\"\n",
    "driver.get(url)\n",
    "\n",
    "soup = BeautifulSoup(driver.page_source, 'html.parser')\n",
    "news = soup.find_all(\"div\", {\"data-testid\": 'edinburgh-card'})"
   ],
   "metadata": {
    "collapsed": false,
    "ExecuteTime": {
     "end_time": "2024-04-15T16:08:33.133007Z",
     "start_time": "2024-04-15T16:08:27.399046Z"
    }
   },
   "execution_count": 51
  },
  {
   "cell_type": "code",
   "outputs": [
    {
     "name": "stdout",
     "output_type": "stream",
     "text": [
      "Title: Self-driving cars safety project launched\n",
      "Summary: The scheme will aim to develop methods of approving and certifying self-driving cars.\n",
      "----\n",
      "Title: Billionaire twins invest in ninth-tier football club\n",
      "Summary: Cameron and Tyler Winklevoss will become co-owners of Real Bedford.\n",
      "----\n",
      "Title: How AI and deepfakes are changing politics\n",
      "Summary: Some politicians have found themselves victims of deepfakes. Can the public trust politicians in the age of AI?\n",
      "----\n",
      "Title: Baldur's Gate 3 wins big at Bafta Games Awards\n",
      "Summary: Super Mario Bros Wonder won two, while Star Wars Jedi: Survivor missed out despite six nominations.\n",
      "----\n",
      "Title: UK regulator fears big tech firms' power in AI market\n",
      "Summary: CMA points to \"interconnected web\" involving Google, Apple, Microsoft, Meta and Amazon.\n",
      "----\n",
      "Title: Millions of bat calls analysed by AI\n",
      "Summary: Sound recordings, captured by volunteers, were analysed by AI to identify different bat calls.\n",
      "----\n",
      "Title: Why Sweden abandoned its secret A-bomb project\n",
      "Summary: In the years after World War Two, neutral Sweden embarked on an ambitious plan – build its own atomic bomb.\n",
      "----\n",
      "Title: Flying cars: The future of personal mobility\n",
      "Summary: Flying cars are no longer a thing of science fiction. Are they the future of daily travel?\n",
      "----\n",
      "Title: How AI is helping to prevent future power cuts\n",
      "Summary: Artificial intelligence software is being used to predict electricity demand and supply.\n",
      "----\n",
      "Title: Why it's harder to find love today\n",
      "Summary: Finding a long-term partner is trickier than ever, argues Paul C Brunson, author of the book Find Love.\n",
      "----\n",
      "Title: Neuralink patient seen playing chess using brain implant\n",
      "Summary: Summary not found\n",
      "----\n",
      "Title: How a US TikTok ban will affect Gen Z\n",
      "Summary: Summary not found\n",
      "----\n",
      "Title: The celebrities 'deepfaked' for US influencer's ads\n",
      "Summary: Summary not found\n",
      "----\n",
      "Title: Paul Carter tries out Atom Limbs bionic arm\n",
      "Summary: Summary not found\n",
      "----\n",
      "Title: Jason shows the BBC how the Atom Limbs prosthetic works\n",
      "Summary: Summary not found\n",
      "----\n",
      "Title: The history of virtual reality that led to Apple Vision Pro\n",
      "Summary: Summary not found\n",
      "----\n",
      "Title: Mark Zuckerberg's early years\n",
      "Summary: Summary not found\n",
      "----\n",
      "Title: Do we need an AI mirror?\n",
      "Summary: Summary not found\n",
      "----\n",
      "Title: Using virtual reality to diagnose Alzheimer's\n",
      "Summary: Summary not found\n",
      "----\n",
      "Title: Watch: Breaking down the GTA VI trailer...in 79 seconds\n",
      "Summary: Summary not found\n",
      "----\n",
      "Title: Watch: Musk attempts Cybertruck window stunt again\n",
      "Summary: Summary not found\n",
      "----\n",
      "Title: The smartphone you can take apart and fix yourself\n",
      "Summary: Summary not found\n",
      "----\n",
      "Title: Coding: How hard is it to learn?\n",
      "Summary: Summary not found\n",
      "----\n",
      "Title: 'Making robots is literally living my dream'\n",
      "Summary: Summary not found\n",
      "----\n",
      "Title: Have scientists discovered how to read our thoughts?\n",
      "Summary: Summary not found\n",
      "----\n",
      "Title: ‘Like having a very smart friend’: Musk on impact of AI\n",
      "Summary: Summary not found\n",
      "----\n",
      "Title: 'There will come a point when no job is needed,' says Musk\n",
      "Summary: Summary not found\n",
      "----\n",
      "Title: Sunak says Musk 'valuable' to AI conversation\n",
      "Summary: Summary not found\n",
      "----\n",
      "Title: AI presents profound challenges, says King Charles\n",
      "Summary: Summary not found\n",
      "----\n",
      "Title: Musk says it is too early to start regulating AI\n",
      "Summary: Summary not found\n",
      "----\n"
     ]
    }
   ],
   "source": [
    "for item in news:\n",
    "    title_element = item.find('div', class_ = 'sc-4fedabc7-1 kbvCmj')\n",
    "    summary_element = item.find('p', class_ = 'sc-b8778340-4 kYtujW')\n",
    "    time_element = item.find('span', class_ = '')\n",
    "    if title_element:\n",
    "        title = title_element.text.strip()\n",
    "    else:\n",
    "        title = \"Title not found\"\n",
    "    if summary_element:\n",
    "        summary = summary_element.text.strip()\n",
    "    else:\n",
    "        summary = \"Summary not found\"\n",
    "    print(\"Title:\", title)\n",
    "    print(\"Summary:\", summary)\n",
    "    print(\"----\")\n",
    "    "
   ],
   "metadata": {
    "collapsed": false,
    "ExecuteTime": {
     "end_time": "2024-04-15T16:51:55.684039Z",
     "start_time": "2024-04-15T16:51:55.676504Z"
    }
   },
   "execution_count": 58
  },
  {
   "cell_type": "code",
   "outputs": [],
   "source": [
    "news_watch = soup.find_all('div', class_ = 'sc-adfaf101-3 hHYUcg')"
   ],
   "metadata": {
    "collapsed": false,
    "ExecuteTime": {
     "end_time": "2024-04-15T16:58:28.878932Z",
     "start_time": "2024-04-15T16:58:28.871115Z"
    }
   },
   "execution_count": 61
  },
  {
   "cell_type": "code",
   "outputs": [
    {
     "name": "stdout",
     "output_type": "stream",
     "text": [
      "Title: Neuralink patient seen playing chess using brain implant\n",
      "Summary: In a livestream on X, the patient explained that he was using a device in his brain to move the cursor.\n",
      "time_element: 21 Mar 2024\n",
      "----\n",
      "Title: How a US TikTok ban will affect Gen Z\n",
      "Summary: We spoke to two influencers who use the short form video platform to raise awareness and inform.\n",
      "time_element: 13 Mar 2024\n",
      "----\n",
      "Title: The celebrities 'deepfaked' for US influencer's ads\n",
      "Summary: Piers Morgan and Oprah have criticised the use of AI deepfake ads used to promote a \"manifestation\" guide.\n",
      "time_element: 24 Feb 2024\n",
      "----\n",
      "Title: Paul Carter tries out Atom Limbs bionic arm\n",
      "Summary: BBC Click reporter Paul Carter tries out the Atom Limbs prosthetic with 'full range of human motion'.\n",
      "time_element: 22 Feb 2024\n",
      "----\n",
      "Title: Jason shows the BBC how the Atom Limbs prosthetic works\n",
      "Summary: Jason lost his arm in an accident in 2012, and he's been working with Atom Limbs to test their prosthetic.\n",
      "time_element: 22 Feb 2024\n",
      "----\n",
      "Title: The history of virtual reality that led to Apple Vision Pro\n",
      "Summary: Apple is turning science fiction into reality but was VR meant to be used like this?\n",
      "time_element: 7 Feb 2024\n",
      "----\n",
      "Title: Mark Zuckerberg's early years\n",
      "Summary: Watch the full documentary Mark Zuckerberg: The Billionaires Who Made Our World on BBC Select.\n",
      "time_element: 3 Feb 2024\n",
      "----\n",
      "Title: Do we need an AI mirror?\n",
      "Summary: The BBC's James Clayton tests out the latest tech at CES 2024 in Las Vegas.\n",
      "time_element: 13 Jan 2024\n",
      "----\n",
      "Title: Using virtual reality to diagnose Alzheimer's\n",
      "Summary: Researchers at University College London are investigating how the tech can help with early diagnoses.\n",
      "time_element: 21 Dec 2023\n",
      "----\n",
      "Title: Watch: Breaking down the GTA VI trailer...in 79 seconds\n",
      "Summary: Here's what our main takeaways are from the long-awaited trailer for the gaming blockbuster.\n",
      "time_element: 5 Dec 2023\n",
      "----\n",
      "Title: Watch: Musk attempts Cybertruck window stunt again\n",
      "Summary: The pickup truck - Tesla’s latest offering - had its windows smashed during a demonstration in 2019.\n",
      "time_element: 1 Dec 2023\n",
      "----\n",
      "Title: The smartphone you can take apart and fix yourself\n",
      "Summary: Fairphone's technology aims to lower our environmental footprint.\n",
      "time_element: 10 Nov 2023\n",
      "----\n",
      "Title: Coding: How hard is it to learn?\n",
      "Summary: The BBC tests out kits from Lego, MakeBlock and the Micro:Bit Foundation to try to learn to code.\n",
      "time_element: 9 Nov 2023\n",
      "----\n",
      "Title: 'Making robots is literally living my dream'\n",
      "Summary: Daniela Saez developed an interest in robotics from the age of 12.\n",
      "time_element: 9 Nov 2023\n",
      "----\n",
      "Title: Have scientists discovered how to read our thoughts?\n",
      "Summary: With the potential rise in technology that can know and change our thoughts, how do we protect ourselves?\n",
      "time_element: 9 Nov 2023\n",
      "----\n",
      "Title: ‘Like having a very smart friend’: Musk on impact of AI\n",
      "Summary: Billionaire Elon Musk told the British prime minister that he thinks AI could take over service sector jobs and play a role in education.\n",
      "time_element: 3 Nov 2023\n",
      "----\n",
      "Title: 'There will come a point when no job is needed,' says Musk\n",
      "Summary: Billionaire Elon Musk tells the British prime minister that AI will be smarter than the smartest human.\n",
      "time_element: 3 Nov 2023\n",
      "----\n",
      "Title: Sunak says Musk 'valuable' to AI conversation\n",
      "Summary: The prime minister says Elon Musk's background in AI companies means he is worth speaking to.\n",
      "time_element: 1 Nov 2023\n",
      "----\n",
      "Title: AI presents profound challenges, says King Charles\n",
      "Summary: The King called for unity in addressing challenges ahead of a major UK summit on AI safety.\n",
      "time_element: 1 Nov 2023\n",
      "----\n",
      "Title: Musk says it is too early to start regulating AI\n",
      "Summary: The tech entrepreneur says \"you've got to start with insight before you do oversight\".\n",
      "time_element: 1 Nov 2023\n",
      "----\n"
     ]
    }
   ],
   "source": [
    "data_news =  {'title':[],\n",
    "                'summary':[],\n",
    "                'time_element':[]}\n",
    "\n",
    "for item in news_watch:\n",
    "    title_element = item.find('h2',class_='sc-4fedabc7-3 iscyVn')\n",
    "    summary_element = item.find('p', class_ = 'sc-b8778340-4 fsrXqA')\n",
    "    time_element = item.find('span', class_ = 'sc-df20d569-1 cwmnpX').text\n",
    "    if title_element:\n",
    "        title = title_element.text.strip()\n",
    "    else:\n",
    "        title = \"Title not found\"\n",
    "    if summary_element:\n",
    "        summary = summary_element.text.strip()\n",
    "    else:\n",
    "        summary = \"Summary not found\"\n",
    "    print(\"Title:\", title)\n",
    "    print(\"Summary:\", summary)\n",
    "    print('time_element:', time_element)\n",
    "    print(\"----\")\n",
    "    data_news['title'].append(title)\n",
    "    data_news['summary'].append(summary)\n",
    "    data_news['time_element'].append(time_element)\n",
    "    "
   ],
   "metadata": {
    "collapsed": false,
    "ExecuteTime": {
     "end_time": "2024-04-15T17:07:44.475659Z",
     "start_time": "2024-04-15T17:07:44.468908Z"
    }
   },
   "execution_count": 78
  },
  {
   "cell_type": "code",
   "outputs": [],
   "source": [
    "df_news = pd.DataFrame(data_news)"
   ],
   "metadata": {
    "collapsed": false,
    "ExecuteTime": {
     "end_time": "2024-04-15T17:07:47.935878Z",
     "start_time": "2024-04-15T17:07:47.932384Z"
    }
   },
   "execution_count": 79
  },
  {
   "cell_type": "code",
   "outputs": [
    {
     "data": {
      "text/plain": "                                                title  \\\n0   Neuralink patient seen playing chess using bra...   \n1               How a US TikTok ban will affect Gen Z   \n2   The celebrities 'deepfaked' for US influencer'...   \n3         Paul Carter tries out Atom Limbs bionic arm   \n4   Jason shows the BBC how the Atom Limbs prosthe...   \n5   The history of virtual reality that led to App...   \n6                       Mark Zuckerberg's early years   \n7                            Do we need an AI mirror?   \n8       Using virtual reality to diagnose Alzheimer's   \n9   Watch: Breaking down the GTA VI trailer...in 7...   \n10  Watch: Musk attempts Cybertruck window stunt a...   \n11  The smartphone you can take apart and fix your...   \n12                   Coding: How hard is it to learn?   \n13       'Making robots is literally living my dream'   \n14  Have scientists discovered how to read our tho...   \n15  ‘Like having a very smart friend’: Musk on imp...   \n16  'There will come a point when no job is needed...   \n17      Sunak says Musk 'valuable' to AI conversation   \n18  AI presents profound challenges, says King Cha...   \n19   Musk says it is too early to start regulating AI   \n\n                                              summary time_element  \n0   In a livestream on X, the patient explained th...  21 Mar 2024  \n1   We spoke to two influencers who use the short ...  13 Mar 2024  \n2   Piers Morgan and Oprah have criticised the use...  24 Feb 2024  \n3   BBC Click reporter Paul Carter tries out the A...  22 Feb 2024  \n4   Jason lost his arm in an accident in 2012, and...  22 Feb 2024  \n5   Apple is turning science fiction into reality ...   7 Feb 2024  \n6   Watch the full documentary Mark Zuckerberg: Th...   3 Feb 2024  \n7   The BBC's James Clayton tests out the latest t...  13 Jan 2024  \n8   Researchers at University College London are i...  21 Dec 2023  \n9   Here's what our main takeaways are from the lo...   5 Dec 2023  \n10  The pickup truck - Tesla’s latest offering - h...   1 Dec 2023  \n11  Fairphone's technology aims to lower our envir...  10 Nov 2023  \n12  The BBC tests out kits from Lego, MakeBlock an...   9 Nov 2023  \n13  Daniela Saez developed an interest in robotics...   9 Nov 2023  \n14  With the potential rise in technology that can...   9 Nov 2023  \n15  Billionaire Elon Musk told the British prime m...   3 Nov 2023  \n16  Billionaire Elon Musk tells the British prime ...   3 Nov 2023  \n17  The prime minister says Elon Musk's background...   1 Nov 2023  \n18  The King called for unity in addressing challe...   1 Nov 2023  \n19  The tech entrepreneur says \"you've got to star...   1 Nov 2023  ",
      "text/html": "<div>\n<style scoped>\n    .dataframe tbody tr th:only-of-type {\n        vertical-align: middle;\n    }\n\n    .dataframe tbody tr th {\n        vertical-align: top;\n    }\n\n    .dataframe thead th {\n        text-align: right;\n    }\n</style>\n<table border=\"1\" class=\"dataframe\">\n  <thead>\n    <tr style=\"text-align: right;\">\n      <th></th>\n      <th>title</th>\n      <th>summary</th>\n      <th>time_element</th>\n    </tr>\n  </thead>\n  <tbody>\n    <tr>\n      <th>0</th>\n      <td>Neuralink patient seen playing chess using bra...</td>\n      <td>In a livestream on X, the patient explained th...</td>\n      <td>21 Mar 2024</td>\n    </tr>\n    <tr>\n      <th>1</th>\n      <td>How a US TikTok ban will affect Gen Z</td>\n      <td>We spoke to two influencers who use the short ...</td>\n      <td>13 Mar 2024</td>\n    </tr>\n    <tr>\n      <th>2</th>\n      <td>The celebrities 'deepfaked' for US influencer'...</td>\n      <td>Piers Morgan and Oprah have criticised the use...</td>\n      <td>24 Feb 2024</td>\n    </tr>\n    <tr>\n      <th>3</th>\n      <td>Paul Carter tries out Atom Limbs bionic arm</td>\n      <td>BBC Click reporter Paul Carter tries out the A...</td>\n      <td>22 Feb 2024</td>\n    </tr>\n    <tr>\n      <th>4</th>\n      <td>Jason shows the BBC how the Atom Limbs prosthe...</td>\n      <td>Jason lost his arm in an accident in 2012, and...</td>\n      <td>22 Feb 2024</td>\n    </tr>\n    <tr>\n      <th>5</th>\n      <td>The history of virtual reality that led to App...</td>\n      <td>Apple is turning science fiction into reality ...</td>\n      <td>7 Feb 2024</td>\n    </tr>\n    <tr>\n      <th>6</th>\n      <td>Mark Zuckerberg's early years</td>\n      <td>Watch the full documentary Mark Zuckerberg: Th...</td>\n      <td>3 Feb 2024</td>\n    </tr>\n    <tr>\n      <th>7</th>\n      <td>Do we need an AI mirror?</td>\n      <td>The BBC's James Clayton tests out the latest t...</td>\n      <td>13 Jan 2024</td>\n    </tr>\n    <tr>\n      <th>8</th>\n      <td>Using virtual reality to diagnose Alzheimer's</td>\n      <td>Researchers at University College London are i...</td>\n      <td>21 Dec 2023</td>\n    </tr>\n    <tr>\n      <th>9</th>\n      <td>Watch: Breaking down the GTA VI trailer...in 7...</td>\n      <td>Here's what our main takeaways are from the lo...</td>\n      <td>5 Dec 2023</td>\n    </tr>\n    <tr>\n      <th>10</th>\n      <td>Watch: Musk attempts Cybertruck window stunt a...</td>\n      <td>The pickup truck - Tesla’s latest offering - h...</td>\n      <td>1 Dec 2023</td>\n    </tr>\n    <tr>\n      <th>11</th>\n      <td>The smartphone you can take apart and fix your...</td>\n      <td>Fairphone's technology aims to lower our envir...</td>\n      <td>10 Nov 2023</td>\n    </tr>\n    <tr>\n      <th>12</th>\n      <td>Coding: How hard is it to learn?</td>\n      <td>The BBC tests out kits from Lego, MakeBlock an...</td>\n      <td>9 Nov 2023</td>\n    </tr>\n    <tr>\n      <th>13</th>\n      <td>'Making robots is literally living my dream'</td>\n      <td>Daniela Saez developed an interest in robotics...</td>\n      <td>9 Nov 2023</td>\n    </tr>\n    <tr>\n      <th>14</th>\n      <td>Have scientists discovered how to read our tho...</td>\n      <td>With the potential rise in technology that can...</td>\n      <td>9 Nov 2023</td>\n    </tr>\n    <tr>\n      <th>15</th>\n      <td>‘Like having a very smart friend’: Musk on imp...</td>\n      <td>Billionaire Elon Musk told the British prime m...</td>\n      <td>3 Nov 2023</td>\n    </tr>\n    <tr>\n      <th>16</th>\n      <td>'There will come a point when no job is needed...</td>\n      <td>Billionaire Elon Musk tells the British prime ...</td>\n      <td>3 Nov 2023</td>\n    </tr>\n    <tr>\n      <th>17</th>\n      <td>Sunak says Musk 'valuable' to AI conversation</td>\n      <td>The prime minister says Elon Musk's background...</td>\n      <td>1 Nov 2023</td>\n    </tr>\n    <tr>\n      <th>18</th>\n      <td>AI presents profound challenges, says King Cha...</td>\n      <td>The King called for unity in addressing challe...</td>\n      <td>1 Nov 2023</td>\n    </tr>\n    <tr>\n      <th>19</th>\n      <td>Musk says it is too early to start regulating AI</td>\n      <td>The tech entrepreneur says \"you've got to star...</td>\n      <td>1 Nov 2023</td>\n    </tr>\n  </tbody>\n</table>\n</div>"
     },
     "execution_count": 80,
     "metadata": {},
     "output_type": "execute_result"
    }
   ],
   "source": [
    "df_news"
   ],
   "metadata": {
    "collapsed": false,
    "ExecuteTime": {
     "end_time": "2024-04-15T17:07:49.372331Z",
     "start_time": "2024-04-15T17:07:49.366167Z"
    }
   },
   "execution_count": 80
  },
  {
   "cell_type": "code",
   "outputs": [],
   "source": [
    "df_news['time_element'] = pd.to_datetime(df_news['time_element'])"
   ],
   "metadata": {
    "collapsed": false,
    "ExecuteTime": {
     "end_time": "2024-04-15T17:07:54.763160Z",
     "start_time": "2024-04-15T17:07:54.758411Z"
    }
   },
   "execution_count": 81
  },
  {
   "cell_type": "code",
   "outputs": [],
   "source": [
    "df_news['time_element']= df_news['time_element'].dt.month_name()"
   ],
   "metadata": {
    "collapsed": false,
    "ExecuteTime": {
     "end_time": "2024-04-15T17:07:55.634957Z",
     "start_time": "2024-04-15T17:07:55.630887Z"
    }
   },
   "execution_count": 82
  },
  {
   "cell_type": "code",
   "outputs": [
    {
     "data": {
      "text/plain": "                                                title  \\\n0   Neuralink patient seen playing chess using bra...   \n1               How a US TikTok ban will affect Gen Z   \n2   The celebrities 'deepfaked' for US influencer'...   \n3         Paul Carter tries out Atom Limbs bionic arm   \n4   Jason shows the BBC how the Atom Limbs prosthe...   \n5   The history of virtual reality that led to App...   \n6                       Mark Zuckerberg's early years   \n7                            Do we need an AI mirror?   \n8       Using virtual reality to diagnose Alzheimer's   \n9   Watch: Breaking down the GTA VI trailer...in 7...   \n10  Watch: Musk attempts Cybertruck window stunt a...   \n11  The smartphone you can take apart and fix your...   \n12                   Coding: How hard is it to learn?   \n13       'Making robots is literally living my dream'   \n14  Have scientists discovered how to read our tho...   \n15  ‘Like having a very smart friend’: Musk on imp...   \n16  'There will come a point when no job is needed...   \n17      Sunak says Musk 'valuable' to AI conversation   \n18  AI presents profound challenges, says King Cha...   \n19   Musk says it is too early to start regulating AI   \n\n                                              summary time_element  \n0   In a livestream on X, the patient explained th...        March  \n1   We spoke to two influencers who use the short ...        March  \n2   Piers Morgan and Oprah have criticised the use...     February  \n3   BBC Click reporter Paul Carter tries out the A...     February  \n4   Jason lost his arm in an accident in 2012, and...     February  \n5   Apple is turning science fiction into reality ...     February  \n6   Watch the full documentary Mark Zuckerberg: Th...     February  \n7   The BBC's James Clayton tests out the latest t...      January  \n8   Researchers at University College London are i...     December  \n9   Here's what our main takeaways are from the lo...     December  \n10  The pickup truck - Tesla’s latest offering - h...     December  \n11  Fairphone's technology aims to lower our envir...     November  \n12  The BBC tests out kits from Lego, MakeBlock an...     November  \n13  Daniela Saez developed an interest in robotics...     November  \n14  With the potential rise in technology that can...     November  \n15  Billionaire Elon Musk told the British prime m...     November  \n16  Billionaire Elon Musk tells the British prime ...     November  \n17  The prime minister says Elon Musk's background...     November  \n18  The King called for unity in addressing challe...     November  \n19  The tech entrepreneur says \"you've got to star...     November  ",
      "text/html": "<div>\n<style scoped>\n    .dataframe tbody tr th:only-of-type {\n        vertical-align: middle;\n    }\n\n    .dataframe tbody tr th {\n        vertical-align: top;\n    }\n\n    .dataframe thead th {\n        text-align: right;\n    }\n</style>\n<table border=\"1\" class=\"dataframe\">\n  <thead>\n    <tr style=\"text-align: right;\">\n      <th></th>\n      <th>title</th>\n      <th>summary</th>\n      <th>time_element</th>\n    </tr>\n  </thead>\n  <tbody>\n    <tr>\n      <th>0</th>\n      <td>Neuralink patient seen playing chess using bra...</td>\n      <td>In a livestream on X, the patient explained th...</td>\n      <td>March</td>\n    </tr>\n    <tr>\n      <th>1</th>\n      <td>How a US TikTok ban will affect Gen Z</td>\n      <td>We spoke to two influencers who use the short ...</td>\n      <td>March</td>\n    </tr>\n    <tr>\n      <th>2</th>\n      <td>The celebrities 'deepfaked' for US influencer'...</td>\n      <td>Piers Morgan and Oprah have criticised the use...</td>\n      <td>February</td>\n    </tr>\n    <tr>\n      <th>3</th>\n      <td>Paul Carter tries out Atom Limbs bionic arm</td>\n      <td>BBC Click reporter Paul Carter tries out the A...</td>\n      <td>February</td>\n    </tr>\n    <tr>\n      <th>4</th>\n      <td>Jason shows the BBC how the Atom Limbs prosthe...</td>\n      <td>Jason lost his arm in an accident in 2012, and...</td>\n      <td>February</td>\n    </tr>\n    <tr>\n      <th>5</th>\n      <td>The history of virtual reality that led to App...</td>\n      <td>Apple is turning science fiction into reality ...</td>\n      <td>February</td>\n    </tr>\n    <tr>\n      <th>6</th>\n      <td>Mark Zuckerberg's early years</td>\n      <td>Watch the full documentary Mark Zuckerberg: Th...</td>\n      <td>February</td>\n    </tr>\n    <tr>\n      <th>7</th>\n      <td>Do we need an AI mirror?</td>\n      <td>The BBC's James Clayton tests out the latest t...</td>\n      <td>January</td>\n    </tr>\n    <tr>\n      <th>8</th>\n      <td>Using virtual reality to diagnose Alzheimer's</td>\n      <td>Researchers at University College London are i...</td>\n      <td>December</td>\n    </tr>\n    <tr>\n      <th>9</th>\n      <td>Watch: Breaking down the GTA VI trailer...in 7...</td>\n      <td>Here's what our main takeaways are from the lo...</td>\n      <td>December</td>\n    </tr>\n    <tr>\n      <th>10</th>\n      <td>Watch: Musk attempts Cybertruck window stunt a...</td>\n      <td>The pickup truck - Tesla’s latest offering - h...</td>\n      <td>December</td>\n    </tr>\n    <tr>\n      <th>11</th>\n      <td>The smartphone you can take apart and fix your...</td>\n      <td>Fairphone's technology aims to lower our envir...</td>\n      <td>November</td>\n    </tr>\n    <tr>\n      <th>12</th>\n      <td>Coding: How hard is it to learn?</td>\n      <td>The BBC tests out kits from Lego, MakeBlock an...</td>\n      <td>November</td>\n    </tr>\n    <tr>\n      <th>13</th>\n      <td>'Making robots is literally living my dream'</td>\n      <td>Daniela Saez developed an interest in robotics...</td>\n      <td>November</td>\n    </tr>\n    <tr>\n      <th>14</th>\n      <td>Have scientists discovered how to read our tho...</td>\n      <td>With the potential rise in technology that can...</td>\n      <td>November</td>\n    </tr>\n    <tr>\n      <th>15</th>\n      <td>‘Like having a very smart friend’: Musk on imp...</td>\n      <td>Billionaire Elon Musk told the British prime m...</td>\n      <td>November</td>\n    </tr>\n    <tr>\n      <th>16</th>\n      <td>'There will come a point when no job is needed...</td>\n      <td>Billionaire Elon Musk tells the British prime ...</td>\n      <td>November</td>\n    </tr>\n    <tr>\n      <th>17</th>\n      <td>Sunak says Musk 'valuable' to AI conversation</td>\n      <td>The prime minister says Elon Musk's background...</td>\n      <td>November</td>\n    </tr>\n    <tr>\n      <th>18</th>\n      <td>AI presents profound challenges, says King Cha...</td>\n      <td>The King called for unity in addressing challe...</td>\n      <td>November</td>\n    </tr>\n    <tr>\n      <th>19</th>\n      <td>Musk says it is too early to start regulating AI</td>\n      <td>The tech entrepreneur says \"you've got to star...</td>\n      <td>November</td>\n    </tr>\n  </tbody>\n</table>\n</div>"
     },
     "execution_count": 83,
     "metadata": {},
     "output_type": "execute_result"
    }
   ],
   "source": [
    "df_news"
   ],
   "metadata": {
    "collapsed": false,
    "ExecuteTime": {
     "end_time": "2024-04-15T17:07:57.230798Z",
     "start_time": "2024-04-15T17:07:57.225253Z"
    }
   },
   "execution_count": 83
  },
  {
   "cell_type": "markdown",
   "source": [
    "Exercise 5 : Scrape And Analyze Weather Data From A JavaScript-Enabled Weather Website\n",
    "--"
   ],
   "metadata": {
    "collapsed": false
   }
  },
  {
   "cell_type": "markdown",
   "source": [
    "Task:\n",
    "- Visit a specific city’s weather forecast page on a weather website.\n",
    "- Scrape weather forecast data including temperature, condition, and humidity.\n",
    "- Analyze the data to find the average temperature and most common weather condition.\n",
    "- \n",
    "Instructions:\n",
    "- Use Selenium to navigate to the weather forecast page of a specific city.\n",
    "- Extract and parse the HTML content, focusing on dynamically loaded weather data.\n",
    "- Using BeautifulSoup, extract relevant weather information like temperature, condition (sunny, cloudy, etc.), and humidity.\n",
    "- Calculate the average temperature and identify the most common weather condition.\n",
    "- Print the analysis results."
   ],
   "metadata": {
    "collapsed": false
   }
  },
  {
   "cell_type": "code",
   "outputs": [],
   "source": [
    "import time\n",
    "from selenium import webdriver\n",
    "from bs4 import BeautifulSoup\n",
    "\n",
    "\n",
    "# Define the URL of the weather forecast page\n",
    "weather_forecast_url = \"https://www.accuweather.com/en/us/los-angeles-ca/90012/weather-forecast/348108\"\n",
    "\n",
    "# Initialize the WebDriver\n",
    "driver = webdriver.Chrome()\n",
    "\n",
    "# Open the weather forecast URL\n",
    "driver.get(weather_forecast_url)\n",
    "\n",
    "# Wait for the page to load dynamically\n",
    "time.sleep(5)\n",
    "\n",
    "# Get the page source\n",
    "page_source = driver.page_source\n",
    "\n",
    "# Parse the HTML content\n",
    "soup = BeautifulSoup(page_source, \"html.parser\")\n",
    "\n",
    "# Extract weather forecast data\n",
    "forecast_data = []\n",
    "for forecast in soup.find_all(\"a\", class_=\"daily-list-item\"):\n",
    "    date = forecast.find(\"div\", class_=\"date\").text.strip()\n",
    "    date2 = date.split('\\n')\n",
    "    date_dt = '0'+date2[1]+'/2024'\n",
    "    day = date2[0]\n",
    "    temperature_high = forecast.find(\"span\", class_=\"temp-hi\").text\n",
    "    temperature_low = forecast.find(\"span\", class_=\"temp-lo\").text\n",
    "    condition = forecast.find(\"div\", class_=\"phrase\").text.strip().split('\\n\\n\\n')\n",
    "    condition_day = condition[0]\n",
    "    condition_night = condition[-1]\n",
    "    humidity = forecast.find(\"div\", class_=\"precip\").text.strip()\n",
    "\n",
    "    # Store the extracted data\n",
    "    forecast_data.append({\n",
    "        \"date\": date_dt,\n",
    "        'day': day,\n",
    "        \"temperature_high\": temperature_high,\n",
    "        'temperature_low':temperature_low,\n",
    "        \"condition_day\": condition_day,\n",
    "        \"condition_night\": condition_night,\n",
    "        \"humidity\": humidity\n",
    "    })\n"
   ],
   "metadata": {
    "collapsed": false,
    "ExecuteTime": {
     "end_time": "2024-04-15T17:31:47.482673Z",
     "start_time": "2024-04-15T17:31:33.872947Z"
    }
   },
   "execution_count": 103
  },
  {
   "cell_type": "code",
   "outputs": [],
   "source": [
    "df_forecast = pd.DataFrame(forecast_data)"
   ],
   "metadata": {
    "collapsed": false,
    "ExecuteTime": {
     "end_time": "2024-04-15T17:31:48.230548Z",
     "start_time": "2024-04-15T17:31:48.226121Z"
    }
   },
   "execution_count": 104
  },
  {
   "cell_type": "code",
   "outputs": [
    {
     "data": {
      "text/plain": "         date    day temperature_high temperature_low  \\\n0  04/15/2024  Today              30°             15°   \n1  04/16/2024    Tue              30°             16°   \n2  04/17/2024    Wed              28°             16°   \n3  04/18/2024    Thu              30°             13°   \n4  04/19/2024    Fri              28°             16°   \n5  04/20/2024    Sat              31°             17°   \n6  04/21/2024    Sun              23°             11°   \n7  04/22/2024    Mon              20°             11°   \n8  04/23/2024    Tue              23°              9°   \n9  04/24/2024    Wed              25°             13°   \n\n                   condition_day              condition_night humidity  \n0   Very warm with plenty of sun         Night: Partly cloudy       0%  \n1       Sunshine and some clouds    A shower in the area late       0%  \n2    Cloudy with a shower or two       Partly cloudy and mild      80%  \n3     Mostly sunny and very warm                 Mainly clear       7%  \n4                  Mostly cloudy       Mostly cloudy and mild      25%  \n5    Warm; a p.m. t-storm or two            Some clouds; mild      67%  \n6  Cooler; a little morning rain                Mostly cloudy      65%  \n7                         Cloudy  A couple of evening showers      14%  \n8                   Partly sunny                        Clear       0%  \n9                  Plenty of sun                        Clear       0%  ",
      "text/html": "<div>\n<style scoped>\n    .dataframe tbody tr th:only-of-type {\n        vertical-align: middle;\n    }\n\n    .dataframe tbody tr th {\n        vertical-align: top;\n    }\n\n    .dataframe thead th {\n        text-align: right;\n    }\n</style>\n<table border=\"1\" class=\"dataframe\">\n  <thead>\n    <tr style=\"text-align: right;\">\n      <th></th>\n      <th>date</th>\n      <th>day</th>\n      <th>temperature_high</th>\n      <th>temperature_low</th>\n      <th>condition_day</th>\n      <th>condition_night</th>\n      <th>humidity</th>\n    </tr>\n  </thead>\n  <tbody>\n    <tr>\n      <th>0</th>\n      <td>04/15/2024</td>\n      <td>Today</td>\n      <td>30°</td>\n      <td>15°</td>\n      <td>Very warm with plenty of sun</td>\n      <td>Night: Partly cloudy</td>\n      <td>0%</td>\n    </tr>\n    <tr>\n      <th>1</th>\n      <td>04/16/2024</td>\n      <td>Tue</td>\n      <td>30°</td>\n      <td>16°</td>\n      <td>Sunshine and some clouds</td>\n      <td>A shower in the area late</td>\n      <td>0%</td>\n    </tr>\n    <tr>\n      <th>2</th>\n      <td>04/17/2024</td>\n      <td>Wed</td>\n      <td>28°</td>\n      <td>16°</td>\n      <td>Cloudy with a shower or two</td>\n      <td>Partly cloudy and mild</td>\n      <td>80%</td>\n    </tr>\n    <tr>\n      <th>3</th>\n      <td>04/18/2024</td>\n      <td>Thu</td>\n      <td>30°</td>\n      <td>13°</td>\n      <td>Mostly sunny and very warm</td>\n      <td>Mainly clear</td>\n      <td>7%</td>\n    </tr>\n    <tr>\n      <th>4</th>\n      <td>04/19/2024</td>\n      <td>Fri</td>\n      <td>28°</td>\n      <td>16°</td>\n      <td>Mostly cloudy</td>\n      <td>Mostly cloudy and mild</td>\n      <td>25%</td>\n    </tr>\n    <tr>\n      <th>5</th>\n      <td>04/20/2024</td>\n      <td>Sat</td>\n      <td>31°</td>\n      <td>17°</td>\n      <td>Warm; a p.m. t-storm or two</td>\n      <td>Some clouds; mild</td>\n      <td>67%</td>\n    </tr>\n    <tr>\n      <th>6</th>\n      <td>04/21/2024</td>\n      <td>Sun</td>\n      <td>23°</td>\n      <td>11°</td>\n      <td>Cooler; a little morning rain</td>\n      <td>Mostly cloudy</td>\n      <td>65%</td>\n    </tr>\n    <tr>\n      <th>7</th>\n      <td>04/22/2024</td>\n      <td>Mon</td>\n      <td>20°</td>\n      <td>11°</td>\n      <td>Cloudy</td>\n      <td>A couple of evening showers</td>\n      <td>14%</td>\n    </tr>\n    <tr>\n      <th>8</th>\n      <td>04/23/2024</td>\n      <td>Tue</td>\n      <td>23°</td>\n      <td>9°</td>\n      <td>Partly sunny</td>\n      <td>Clear</td>\n      <td>0%</td>\n    </tr>\n    <tr>\n      <th>9</th>\n      <td>04/24/2024</td>\n      <td>Wed</td>\n      <td>25°</td>\n      <td>13°</td>\n      <td>Plenty of sun</td>\n      <td>Clear</td>\n      <td>0%</td>\n    </tr>\n  </tbody>\n</table>\n</div>"
     },
     "execution_count": 105,
     "metadata": {},
     "output_type": "execute_result"
    }
   ],
   "source": [
    "df_forecast"
   ],
   "metadata": {
    "collapsed": false,
    "ExecuteTime": {
     "end_time": "2024-04-15T17:31:48.827751Z",
     "start_time": "2024-04-15T17:31:48.820075Z"
    }
   },
   "execution_count": 105
  },
  {
   "cell_type": "code",
   "outputs": [],
   "source": [
    "df_forecast['date'] = pd.to_datetime(df_forecast['date'])"
   ],
   "metadata": {
    "collapsed": false,
    "ExecuteTime": {
     "end_time": "2024-04-15T17:32:00.459236Z",
     "start_time": "2024-04-15T17:32:00.454972Z"
    }
   },
   "execution_count": 106
  },
  {
   "cell_type": "code",
   "outputs": [
    {
     "data": {
      "text/plain": "        date    day temperature_high temperature_low  \\\n0 2024-04-15  Today              30°             15°   \n1 2024-04-16    Tue              30°             16°   \n2 2024-04-17    Wed              28°             16°   \n3 2024-04-18    Thu              30°             13°   \n4 2024-04-19    Fri              28°             16°   \n5 2024-04-20    Sat              31°             17°   \n6 2024-04-21    Sun              23°             11°   \n7 2024-04-22    Mon              20°             11°   \n8 2024-04-23    Tue              23°              9°   \n9 2024-04-24    Wed              25°             13°   \n\n                   condition_day              condition_night humidity  \n0   Very warm with plenty of sun         Night: Partly cloudy       0%  \n1       Sunshine and some clouds    A shower in the area late       0%  \n2    Cloudy with a shower or two       Partly cloudy and mild      80%  \n3     Mostly sunny and very warm                 Mainly clear       7%  \n4                  Mostly cloudy       Mostly cloudy and mild      25%  \n5    Warm; a p.m. t-storm or two            Some clouds; mild      67%  \n6  Cooler; a little morning rain                Mostly cloudy      65%  \n7                         Cloudy  A couple of evening showers      14%  \n8                   Partly sunny                        Clear       0%  \n9                  Plenty of sun                        Clear       0%  ",
      "text/html": "<div>\n<style scoped>\n    .dataframe tbody tr th:only-of-type {\n        vertical-align: middle;\n    }\n\n    .dataframe tbody tr th {\n        vertical-align: top;\n    }\n\n    .dataframe thead th {\n        text-align: right;\n    }\n</style>\n<table border=\"1\" class=\"dataframe\">\n  <thead>\n    <tr style=\"text-align: right;\">\n      <th></th>\n      <th>date</th>\n      <th>day</th>\n      <th>temperature_high</th>\n      <th>temperature_low</th>\n      <th>condition_day</th>\n      <th>condition_night</th>\n      <th>humidity</th>\n    </tr>\n  </thead>\n  <tbody>\n    <tr>\n      <th>0</th>\n      <td>2024-04-15</td>\n      <td>Today</td>\n      <td>30°</td>\n      <td>15°</td>\n      <td>Very warm with plenty of sun</td>\n      <td>Night: Partly cloudy</td>\n      <td>0%</td>\n    </tr>\n    <tr>\n      <th>1</th>\n      <td>2024-04-16</td>\n      <td>Tue</td>\n      <td>30°</td>\n      <td>16°</td>\n      <td>Sunshine and some clouds</td>\n      <td>A shower in the area late</td>\n      <td>0%</td>\n    </tr>\n    <tr>\n      <th>2</th>\n      <td>2024-04-17</td>\n      <td>Wed</td>\n      <td>28°</td>\n      <td>16°</td>\n      <td>Cloudy with a shower or two</td>\n      <td>Partly cloudy and mild</td>\n      <td>80%</td>\n    </tr>\n    <tr>\n      <th>3</th>\n      <td>2024-04-18</td>\n      <td>Thu</td>\n      <td>30°</td>\n      <td>13°</td>\n      <td>Mostly sunny and very warm</td>\n      <td>Mainly clear</td>\n      <td>7%</td>\n    </tr>\n    <tr>\n      <th>4</th>\n      <td>2024-04-19</td>\n      <td>Fri</td>\n      <td>28°</td>\n      <td>16°</td>\n      <td>Mostly cloudy</td>\n      <td>Mostly cloudy and mild</td>\n      <td>25%</td>\n    </tr>\n    <tr>\n      <th>5</th>\n      <td>2024-04-20</td>\n      <td>Sat</td>\n      <td>31°</td>\n      <td>17°</td>\n      <td>Warm; a p.m. t-storm or two</td>\n      <td>Some clouds; mild</td>\n      <td>67%</td>\n    </tr>\n    <tr>\n      <th>6</th>\n      <td>2024-04-21</td>\n      <td>Sun</td>\n      <td>23°</td>\n      <td>11°</td>\n      <td>Cooler; a little morning rain</td>\n      <td>Mostly cloudy</td>\n      <td>65%</td>\n    </tr>\n    <tr>\n      <th>7</th>\n      <td>2024-04-22</td>\n      <td>Mon</td>\n      <td>20°</td>\n      <td>11°</td>\n      <td>Cloudy</td>\n      <td>A couple of evening showers</td>\n      <td>14%</td>\n    </tr>\n    <tr>\n      <th>8</th>\n      <td>2024-04-23</td>\n      <td>Tue</td>\n      <td>23°</td>\n      <td>9°</td>\n      <td>Partly sunny</td>\n      <td>Clear</td>\n      <td>0%</td>\n    </tr>\n    <tr>\n      <th>9</th>\n      <td>2024-04-24</td>\n      <td>Wed</td>\n      <td>25°</td>\n      <td>13°</td>\n      <td>Plenty of sun</td>\n      <td>Clear</td>\n      <td>0%</td>\n    </tr>\n  </tbody>\n</table>\n</div>"
     },
     "execution_count": 107,
     "metadata": {},
     "output_type": "execute_result"
    }
   ],
   "source": [
    "df_forecast"
   ],
   "metadata": {
    "collapsed": false,
    "ExecuteTime": {
     "end_time": "2024-04-15T17:32:01.271210Z",
     "start_time": "2024-04-15T17:32:01.265122Z"
    }
   },
   "execution_count": 107
  },
  {
   "cell_type": "code",
   "outputs": [
    {
     "data": {
      "text/plain": "10"
     },
     "execution_count": 109,
     "metadata": {},
     "output_type": "execute_result"
    }
   ],
   "source": [
    "df_forecast['date'].count()"
   ],
   "metadata": {
    "collapsed": false,
    "ExecuteTime": {
     "end_time": "2024-04-15T17:32:44.431106Z",
     "start_time": "2024-04-15T17:32:44.426548Z"
    }
   },
   "execution_count": 109
  },
  {
   "cell_type": "code",
   "outputs": [
    {
     "name": "stdout",
     "output_type": "stream",
     "text": [
      "Average Temperature: 26.8\n",
      "Most Common Weather Condition: Very warm with plenty of sun\n",
      "{'Very warm with plenty of sun': 1, 'Sunshine and some clouds': 1, 'Cloudy with a shower or two': 1, 'Mostly sunny and very warm': 1, 'Mostly cloudy': 1, 'Warm; a p.m. t-storm or two': 1, 'Cooler; a little morning rain': 1, 'Cloudy': 1, 'Partly sunny': 1, 'Plenty of sun': 1}\n"
     ]
    }
   ],
   "source": [
    "# Calculate the average temperature\n",
    "total_temperature = 0\n",
    "for data in forecast_data:\n",
    "    temperature = int(data[\"temperature_high\"].replace(\"°\", \"\"))\n",
    "    total_temperature += temperature\n",
    "\n",
    "average_temperature = total_temperature / df_forecast['date'].count()\n",
    "\n",
    "# Find the most common weather condition\n",
    "condition_counts = {}\n",
    "for data in forecast_data:\n",
    "    condition = data[\"condition_day\"]\n",
    "    if condition not in condition_counts:\n",
    "        condition_counts[condition] = 0\n",
    "    condition_counts[condition] += 1\n",
    "\n",
    "most_common_condition = None\n",
    "max_count = 0\n",
    "for condition, count in condition_counts.items():\n",
    "    if count > max_count:\n",
    "        most_common_condition = condition\n",
    "        max_count = count\n",
    "\n",
    "# Print the results\n",
    "print(\"Average Temperature:\", average_temperature)\n",
    "print(\"Most Common Weather Condition:\", most_common_condition)\n",
    "print(condition_counts)\n",
    "# Quit the WebDriver\n",
    "driver.quit()"
   ],
   "metadata": {
    "collapsed": false,
    "ExecuteTime": {
     "end_time": "2024-04-15T17:41:17.562757Z",
     "start_time": "2024-04-15T17:40:57.208641Z"
    }
   },
   "execution_count": 112
  },
  {
   "cell_type": "code",
   "outputs": [],
   "source": [
    "##"
   ],
   "metadata": {
    "collapsed": false,
    "ExecuteTime": {
     "end_time": "2024-04-24T12:52:59.704102Z",
     "start_time": "2024-04-24T12:52:59.700587Z"
    }
   },
   "execution_count": 2
  },
  {
   "cell_type": "code",
   "outputs": [],
   "source": [],
   "metadata": {
    "collapsed": false
   }
  }
 ],
 "metadata": {
  "kernelspec": {
   "display_name": "my_env",
   "language": "python",
   "name": "python3"
  },
  "language_info": {
   "codemirror_mode": {
    "name": "ipython",
    "version": 3
   },
   "file_extension": ".py",
   "mimetype": "text/x-python",
   "name": "python",
   "nbconvert_exporter": "python",
   "pygments_lexer": "ipython3",
   "version": "3.11.5"
  }
 },
 "nbformat": 4,
 "nbformat_minor": 2
}
