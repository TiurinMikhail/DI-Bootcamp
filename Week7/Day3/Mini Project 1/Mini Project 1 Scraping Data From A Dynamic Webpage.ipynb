{
 "cells": [
  {
   "cell_type": "code",
   "execution_count": 1,
   "id": "initial_id",
   "metadata": {
    "collapsed": true,
    "ExecuteTime": {
     "end_time": "2024-04-24T13:05:26.083586Z",
     "start_time": "2024-04-24T13:05:14.311418Z"
    }
   },
   "outputs": [
    {
     "name": "stdout",
     "output_type": "stream",
     "text": [
      "<class 'str'>\n",
      "<class 'str'>\n",
      "<class 'str'>\n",
      "<class 'str'>\n",
      "<class 'str'>\n",
      "<class 'str'>\n",
      "<class 'str'>\n",
      "<class 'str'>\n",
      "<class 'str'>\n"
     ]
    }
   ],
   "source": [
    "from selenium import webdriver\n",
    "from selenium.webdriver.common.by import By\n",
    "from selenium.webdriver.support.ui import WebDriverWait\n",
    "from selenium.webdriver.support import expected_conditions as EC\n",
    "from selenium.common.exceptions import NoSuchElementException, TimeoutException\n",
    "from bs4 import BeautifulSoup\n",
    "import pandas as pd\n",
    "\n",
    "# Setting up the Chrome WebDriver\n",
    "options = webdriver.ChromeOptions()\n",
    "options.headless = True\n",
    "driver = webdriver.Chrome(options=options)\n",
    "url = \"https://www.inmotionhosting.com\"\n",
    "driver.get(url)\n",
    "\n",
    "# Extract HTML content\n",
    "html_content = driver.page_source\n",
    "\n",
    "# Use BeautifulSoup to parse HTML\n",
    "soup = BeautifulSoup(html_content, \"html.parser\")\n",
    "data = {'Plan name': [],\n",
    "        'Summ':[],\n",
    "        'Price': [],\n",
    "        'Periods_of_payment': [],\n",
    "        'Currency': []}\n",
    "plans_table = soup.find('div',class_='imh-rostrum-container')\n",
    "plans_items = soup.find_all('div',class_='imh-rostrum-card')\n",
    "try:\n",
    "    for plan_item in plans_items:\n",
    "        if plan_item.find('div',class_='imh-rostrum-sub-title'):\n",
    "            summury = plan_item.find('div',class_='imh-rostrum-sub-title').text.strip()\n",
    "        else:\n",
    "            summury = 'None'\n",
    "        print(type(summury))\n",
    "        plan_name = plan_item.find('h3').text.strip()\n",
    "        price_details = plan_item.find('div',class_='imh-rostrum-starting-at-price-discounted').text.split('/')\n",
    "        currency = price_details[0][0]  # e.g., '$'\n",
    "        price = price_details[0][1:]  # e.g., 6.99\n",
    "        period = price_details[1]\n",
    "        data['Plan name'].append(plan_name)\n",
    "        data['Summ'].append(summury)\n",
    "        data['Currency'].append(currency)\n",
    "        data['Price'].append(price)\n",
    "        data['Periods_of_payment'].append(period)\n",
    "        # Creating a DataFrame\n",
    "        df_hosting = pd.DataFrame(data)\n",
    "\n",
    "except (NoSuchElementException, TimeoutException) as e:\n",
    "    print(\"Error: \", e)\n",
    "finally:\n",
    "    # Closing the driver\n",
    "    driver.quit()\n"
   ]
  },
  {
   "cell_type": "code",
   "outputs": [],
   "source": [
    "df_hosting = df_hosting[df_hosting['Summ'] != 'None']"
   ],
   "metadata": {
    "collapsed": false,
    "ExecuteTime": {
     "end_time": "2024-04-24T13:05:26.092056Z",
     "start_time": "2024-04-24T13:05:26.085591Z"
    }
   },
   "id": "a039b923f35188ff",
   "execution_count": 2
  },
  {
   "cell_type": "code",
   "outputs": [
    {
     "data": {
      "text/plain": "           Plan name                                          Summ  Price  \\\n0     Shared Hosting  Cost effective and fast for small businesses   2.49   \n1        VPS Hosting  For high traffic sites and larger businesses  14.99   \n2  Dedicated Hosting  For the largest sites and custom deployments  69.99   \n3   cPanel WordPress            Expertly tuned hosting with cPanel   3.99   \n4   Platform i Cloud             Next generation managed WordPress   9.00   \n\n  Periods_of_payment Currency  \n0                 mo        $  \n1                 mo        $  \n2                 mo        $  \n3                 mo        $  \n4                 mo        $  ",
      "text/html": "<div>\n<style scoped>\n    .dataframe tbody tr th:only-of-type {\n        vertical-align: middle;\n    }\n\n    .dataframe tbody tr th {\n        vertical-align: top;\n    }\n\n    .dataframe thead th {\n        text-align: right;\n    }\n</style>\n<table border=\"1\" class=\"dataframe\">\n  <thead>\n    <tr style=\"text-align: right;\">\n      <th></th>\n      <th>Plan name</th>\n      <th>Summ</th>\n      <th>Price</th>\n      <th>Periods_of_payment</th>\n      <th>Currency</th>\n    </tr>\n  </thead>\n  <tbody>\n    <tr>\n      <th>0</th>\n      <td>Shared Hosting</td>\n      <td>Cost effective and fast for small businesses</td>\n      <td>2.49</td>\n      <td>mo</td>\n      <td>$</td>\n    </tr>\n    <tr>\n      <th>1</th>\n      <td>VPS Hosting</td>\n      <td>For high traffic sites and larger businesses</td>\n      <td>14.99</td>\n      <td>mo</td>\n      <td>$</td>\n    </tr>\n    <tr>\n      <th>2</th>\n      <td>Dedicated Hosting</td>\n      <td>For the largest sites and custom deployments</td>\n      <td>69.99</td>\n      <td>mo</td>\n      <td>$</td>\n    </tr>\n    <tr>\n      <th>3</th>\n      <td>cPanel WordPress</td>\n      <td>Expertly tuned hosting with cPanel</td>\n      <td>3.99</td>\n      <td>mo</td>\n      <td>$</td>\n    </tr>\n    <tr>\n      <th>4</th>\n      <td>Platform i Cloud</td>\n      <td>Next generation managed WordPress</td>\n      <td>9.00</td>\n      <td>mo</td>\n      <td>$</td>\n    </tr>\n  </tbody>\n</table>\n</div>"
     },
     "execution_count": 3,
     "metadata": {},
     "output_type": "execute_result"
    }
   ],
   "source": [
    "df_hosting"
   ],
   "metadata": {
    "collapsed": false,
    "ExecuteTime": {
     "end_time": "2024-04-24T13:05:26.105614Z",
     "start_time": "2024-04-24T13:05:26.093093Z"
    }
   },
   "id": "8db843e628cc9ae",
   "execution_count": 3
  },
  {
   "cell_type": "code",
   "outputs": [],
   "source": [
    "df_hosting.to_csv('hosting_data.csv', index=False)"
   ],
   "metadata": {
    "collapsed": false,
    "ExecuteTime": {
     "end_time": "2024-04-24T13:05:26.120982Z",
     "start_time": "2024-04-24T13:05:26.105614Z"
    }
   },
   "id": "6ee1a9d2d972e8ca",
   "execution_count": 4
  },
  {
   "cell_type": "code",
   "outputs": [],
   "source": [],
   "metadata": {
    "collapsed": false,
    "ExecuteTime": {
     "end_time": "2024-04-24T13:05:26.124861Z",
     "start_time": "2024-04-24T13:05:26.121987Z"
    }
   },
   "id": "f1d947f73307717",
   "execution_count": 4
  }
 ],
 "metadata": {
  "kernelspec": {
   "display_name": "Python 3",
   "language": "python",
   "name": "python3"
  },
  "language_info": {
   "codemirror_mode": {
    "name": "ipython",
    "version": 2
   },
   "file_extension": ".py",
   "mimetype": "text/x-python",
   "name": "python",
   "nbconvert_exporter": "python",
   "pygments_lexer": "ipython2",
   "version": "2.7.6"
  }
 },
 "nbformat": 4,
 "nbformat_minor": 5
}
