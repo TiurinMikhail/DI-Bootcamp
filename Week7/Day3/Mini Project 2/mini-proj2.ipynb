{
 "cells": [
  {
   "cell_type": "code",
   "execution_count": null,
   "id": "initial_id",
   "metadata": {
    "collapsed": true
   },
   "outputs": [],
   "source": [
    "from selenium import webdriver\n",
    "\n",
    "driver = webdriver.Chrome()\n",
    "driver.get(\"https://www.scrapethissite.com/pages/frames/\")\n",
    "wait = WebDriverWait(driver, 10)\n",
    "# Switch to iframe\n",
    "driver.switch_to.frame(\"iframe\")\n",
    "\n",
    "# Perform actions within the iframe\n",
    "driver.find_element(By.ID,\"iframe\").click()\n",
    "\n",
    "# Switch back to the main document\n",
    "driver.switch_to.default_content()\n",
    "\n",
    "driver.quit()"
   ]
  },
  {
   "cell_type": "code",
   "outputs": [],
   "source": [
    "driver = webdriver.Chrome()\n",
    "driver.get(\"https://www.scrapethissite.com/pages/frames/\")\n",
    "driver.switch_to.default_content()\n",
    "# Find the iframe by its ID or name (or other attributes like index)\n",
    "iframe = driver.find_element(By.ID, 'iframe')\n",
    "# Switch to the iframe\n",
    "driver.switch_to.frame(iframe)\n",
    "links = driver.find_elements(By.CLASS_NAME, 'btn.btn-default.btn-xs')\n",
    "print(links[i].text)\n",
    "links[i].click()\n",
    "time.sleep(5)\n",
    "backlink = driver.find_element(By.CLASS_NAME, 'btn.btn-default.btn-xs')\n",
    "backlink.click()\n",
    "time.sleep(5)\n",
    "driver.quit()"
   ],
   "metadata": {
    "collapsed": false
   },
   "id": "5be56e8044c50fb4"
  },
  {
   "cell_type": "code",
   "outputs": [],
   "source": [
    "from selenium import webdriver\n",
    "from bs4 import BeautifulSoup\n",
    "import time\n",
    "#iframfrom selenium import webdriver\n",
    "from selenium.webdriver.common.by import By\n",
    "from selenium.webdriver.common.keys import Keys\n",
    "import time\n",
    "\n",
    "\n",
    "# Configure the Selenium WebDriver\n",
    "options = webdriver.ChromeOptions()\n",
    "options.add_argument('--headless')  # Optionally run headless\n",
    "options.add_argument('--no-sandbox')\n",
    "options.add_argument('--disable-dev-shm-usage')\n",
    "# Initialize the WebDriver\n",
    "driver = webdriver.Chrome(options=options)\n",
    "driver.get(\"https://www.scrapethissite.com/pages/frames/\")\n",
    "\n",
    "links = []\n",
    "iframe = driver.find_element(By.ID, 'iframe')\n",
    "# Switch to the iframe\n",
    "driver.switch_to.frame(iframe)\n",
    "links_g = driver.find_elements(By.CLASS_NAME, 'btn.btn-default.btn-xs')\n",
    "links.append(links_g)\n",
    "\n"
   ],
   "metadata": {
    "collapsed": false,
    "ExecuteTime": {
     "end_time": "2024-04-17T07:23:15.919406Z",
     "start_time": "2024-04-17T07:23:01.864938Z"
    }
   },
   "id": "b83ad73729664af0",
   "execution_count": 16
  },
  {
   "cell_type": "code",
   "outputs": [
    {
     "name": "stdout",
     "output_type": "stream",
     "text": [
      "Learn more →\n",
      "Learn more →\n",
      "Learn more →\n",
      "Learn more →\n",
      "Learn more →\n",
      "Learn more →\n",
      "Learn more →\n",
      "Learn more →\n",
      "Learn more →\n",
      "Learn more →\n",
      "Learn more →\n",
      "Learn more →\n",
      "Learn more →\n"
     ]
    }
   ],
   "source": [
    "names = []\n",
    "descriptions = []\n",
    "try:\n",
    "   for i in range(len(links_g)-1):\n",
    "    driver.switch_to.default_content()\n",
    "    # Find the iframe by its ID or name (or other attributes like index)\n",
    "    iframe = driver.find_element(By.ID, 'iframe')\n",
    "    # Switch to the iframe\n",
    "    driver.switch_to.frame(iframe)\n",
    "    links = driver.find_elements(By.CLASS_NAME, 'btn.btn-default.btn-xs')\n",
    "    print(links[i].text)\n",
    "    links[i].click()\n",
    "    time.sleep(5)\n",
    "    html = driver.page_source\n",
    "    soup = BeautifulSoup(html, 'html.parser')\n",
    "    name = soup.find('h3').text\n",
    "    description = soup.find('p').text.strip()\n",
    "    names.append(name)\n",
    "    descriptions.append(description)\n",
    "    \n",
    "    #return back to the main page\n",
    "    backlink = driver.find_element(By.CLASS_NAME, 'btn.btn-default.btn-xs')\n",
    "    backlink.click()\n",
    "    time.sleep(5)\n",
    "finally:\n",
    "    # Clean up, close the browser\n",
    "    driver.quit()"
   ],
   "metadata": {
    "collapsed": false,
    "ExecuteTime": {
     "end_time": "2024-04-17T07:26:12.524655Z",
     "start_time": "2024-04-17T07:23:24.273478Z"
    }
   },
   "id": "99a20902ebdceffa",
   "execution_count": 17
  },
  {
   "cell_type": "code",
   "outputs": [
    {
     "name": "stdout",
     "output_type": "stream",
     "text": [
      "['Carettochelyidae', 'Cheloniidae', 'Chelydridae', 'Dermatemydidae', 'Dermochelyidae', 'Emydidae', 'Geoemydidae', 'Kinosternidae', 'Platysternidae', 'Testudinidae', 'Trionychidae', 'Chelidae', 'Pelomedusidae']\n"
     ]
    }
   ],
   "source": [
    "print(names)"
   ],
   "metadata": {
    "collapsed": false,
    "ExecuteTime": {
     "end_time": "2024-04-17T07:26:13.691578Z",
     "start_time": "2024-04-17T07:26:13.688677Z"
    }
   },
   "id": "b9be955a3cf2c6bc",
   "execution_count": 18
  },
  {
   "cell_type": "code",
   "outputs": [
    {
     "name": "stdout",
     "output_type": "stream",
     "text": [
      "['The Carettochelyidae family of turtles — more commonly known as \"Pig-nosed turtle\" — were first discovered in 1887 by Boulenger.', 'The Cheloniidae family of turtles — more commonly known as \"Sea turtles\" — were first discovered in 1811 by Oppel.', 'The Chelydridae family of turtles — more commonly known as \"Snapping turtles\" — were first discovered in 1831 by Gray.', 'The Dermatemydidae family of turtles — more commonly known as \"Central American river turtle\" — were first discovered in 1870 by Gray.', 'The Dermochelyidae family of turtles — more commonly known as \"Leatherback sea turtle\" — were first discovered in 1843 by Fitzinger.', 'The Emydidae family of turtles — more commonly known as \"Pond or water turtles\" — were first discovered in 1815 by Rafinesque.', 'The Geoemydidae family of turtles — more commonly known as \"Asian river, leaf, roofed or Asian box turtles\" — were first discovered in 1868 by Theobald.', 'The Kinosternidae family of turtles — more commonly known as \"Mud or musk turtles\" — were first discovered in 1857 by Agassiz.', 'The Platysternidae family of turtles — more commonly known as \"Big-headed turtle\" — were first discovered in 1869 by Gray.', 'The Testudinidae family of turtles — more commonly known as \"Tortoises\" — were first discovered in 1788 by Batsch.', 'The Trionychidae family of turtles — more commonly known as \"Softshell turtles\" — were first discovered in 1826 by Fitzinger.', 'The Chelidae family of turtles — more commonly known as \"Austro-American sideneck turtles\" — were first discovered in 1831 by Gray.', 'The Pelomedusidae family of turtles — more commonly known as \"Afro-American sideneck turtles\" — were first discovered in 1868 by Cope.']\n"
     ]
    }
   ],
   "source": [
    "print(descriptions)"
   ],
   "metadata": {
    "collapsed": false,
    "ExecuteTime": {
     "end_time": "2024-04-17T07:26:15.362514Z",
     "start_time": "2024-04-17T07:26:15.358516Z"
    }
   },
   "id": "27d209e864efe7c8",
   "execution_count": 19
  },
  {
   "cell_type": "code",
   "outputs": [],
   "source": [
    "import pandas as pd\n",
    "data_turtles = pd.DataFrame({'name':names, 'description':descriptions})\n"
   ],
   "metadata": {
    "collapsed": false,
    "ExecuteTime": {
     "end_time": "2024-04-17T07:27:21.171316Z",
     "start_time": "2024-04-17T07:27:20.140134Z"
    }
   },
   "id": "372a4d4108357388",
   "execution_count": 20
  },
  {
   "cell_type": "code",
   "outputs": [
    {
     "data": {
      "text/plain": "                name                                        description\n0   Carettochelyidae  The Carettochelyidae family of turtles — more ...\n1        Cheloniidae  The Cheloniidae family of turtles — more commo...\n2        Chelydridae  The Chelydridae family of turtles — more commo...\n3     Dermatemydidae  The Dermatemydidae family of turtles — more co...\n4     Dermochelyidae  The Dermochelyidae family of turtles — more co...\n5           Emydidae  The Emydidae family of turtles — more commonly...\n6        Geoemydidae  The Geoemydidae family of turtles — more commo...\n7      Kinosternidae  The Kinosternidae family of turtles — more com...\n8     Platysternidae  The Platysternidae family of turtles — more co...\n9       Testudinidae  The Testudinidae family of turtles — more comm...\n10      Trionychidae  The Trionychidae family of turtles — more comm...\n11          Chelidae  The Chelidae family of turtles — more commonly...\n12     Pelomedusidae  The Pelomedusidae family of turtles — more com...",
      "text/html": "<div>\n<style scoped>\n    .dataframe tbody tr th:only-of-type {\n        vertical-align: middle;\n    }\n\n    .dataframe tbody tr th {\n        vertical-align: top;\n    }\n\n    .dataframe thead th {\n        text-align: right;\n    }\n</style>\n<table border=\"1\" class=\"dataframe\">\n  <thead>\n    <tr style=\"text-align: right;\">\n      <th></th>\n      <th>name</th>\n      <th>description</th>\n    </tr>\n  </thead>\n  <tbody>\n    <tr>\n      <th>0</th>\n      <td>Carettochelyidae</td>\n      <td>The Carettochelyidae family of turtles — more ...</td>\n    </tr>\n    <tr>\n      <th>1</th>\n      <td>Cheloniidae</td>\n      <td>The Cheloniidae family of turtles — more commo...</td>\n    </tr>\n    <tr>\n      <th>2</th>\n      <td>Chelydridae</td>\n      <td>The Chelydridae family of turtles — more commo...</td>\n    </tr>\n    <tr>\n      <th>3</th>\n      <td>Dermatemydidae</td>\n      <td>The Dermatemydidae family of turtles — more co...</td>\n    </tr>\n    <tr>\n      <th>4</th>\n      <td>Dermochelyidae</td>\n      <td>The Dermochelyidae family of turtles — more co...</td>\n    </tr>\n    <tr>\n      <th>5</th>\n      <td>Emydidae</td>\n      <td>The Emydidae family of turtles — more commonly...</td>\n    </tr>\n    <tr>\n      <th>6</th>\n      <td>Geoemydidae</td>\n      <td>The Geoemydidae family of turtles — more commo...</td>\n    </tr>\n    <tr>\n      <th>7</th>\n      <td>Kinosternidae</td>\n      <td>The Kinosternidae family of turtles — more com...</td>\n    </tr>\n    <tr>\n      <th>8</th>\n      <td>Platysternidae</td>\n      <td>The Platysternidae family of turtles — more co...</td>\n    </tr>\n    <tr>\n      <th>9</th>\n      <td>Testudinidae</td>\n      <td>The Testudinidae family of turtles — more comm...</td>\n    </tr>\n    <tr>\n      <th>10</th>\n      <td>Trionychidae</td>\n      <td>The Trionychidae family of turtles — more comm...</td>\n    </tr>\n    <tr>\n      <th>11</th>\n      <td>Chelidae</td>\n      <td>The Chelidae family of turtles — more commonly...</td>\n    </tr>\n    <tr>\n      <th>12</th>\n      <td>Pelomedusidae</td>\n      <td>The Pelomedusidae family of turtles — more com...</td>\n    </tr>\n  </tbody>\n</table>\n</div>"
     },
     "execution_count": 21,
     "metadata": {},
     "output_type": "execute_result"
    }
   ],
   "source": [
    "data_turtles"
   ],
   "metadata": {
    "collapsed": false,
    "ExecuteTime": {
     "end_time": "2024-04-17T07:27:22.386036Z",
     "start_time": "2024-04-17T07:27:22.376932Z"
    }
   },
   "id": "438320835d74dff9",
   "execution_count": 21
  },
  {
   "cell_type": "code",
   "outputs": [],
   "source": [],
   "metadata": {
    "collapsed": false
   },
   "id": "a10ba606c98f9d38"
  }
 ],
 "metadata": {
  "kernelspec": {
   "display_name": "Python 3",
   "language": "python",
   "name": "python3"
  },
  "language_info": {
   "codemirror_mode": {
    "name": "ipython",
    "version": 2
   },
   "file_extension": ".py",
   "mimetype": "text/x-python",
   "name": "python",
   "nbconvert_exporter": "python",
   "pygments_lexer": "ipython2",
   "version": "2.7.6"
  }
 },
 "nbformat": 4,
 "nbformat_minor": 5
}
